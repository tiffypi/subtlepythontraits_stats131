{
  "nbformat": 4,
  "nbformat_minor": 0,
  "metadata": {
    "colab": {
      "name": "FinalProject_Pokemon.ipynb",
      "version": "0.3.2",
      "provenance": [],
      "collapsed_sections": [],
      "include_colab_link": true
    },
    "language_info": {
      "codemirror_mode": {
        "name": "ipython",
        "version": 3
      },
      "file_extension": ".py",
      "mimetype": "text/x-python",
      "name": "python",
      "nbconvert_exporter": "python",
      "pygments_lexer": "ipython3",
      "version": "3.7.1"
    },
    "kernelspec": {
      "display_name": "Python 3",
      "language": "python",
      "name": "python3"
    }
  },
  "cells": [
    {
      "cell_type": "markdown",
      "metadata": {
        "id": "view-in-github",
        "colab_type": "text"
      },
      "source": [
        "<a href=\"https://colab.research.google.com/github/tiffypi/subtlepythontraits_stats131/blob/master/FinalProject_Pokemon.ipynb\" target=\"_parent\"><img src=\"https://colab.research.google.com/assets/colab-badge.svg\" alt=\"Open In Colab\"/></a>"
      ]
    },
    {
      "cell_type": "markdown",
      "metadata": {
        "id": "g65POzH7dAnA",
        "colab_type": "text"
      },
      "source": [
        "# STATS 131 S19 Final Project - Pokemon\n",
        "\n",
        "### Albert Na, Kathy Fu, Mark Tolentino, Tiffaney Pi"
      ]
    },
    {
      "cell_type": "markdown",
      "metadata": {
        "id": "VnogDOYMnimH",
        "colab_type": "text"
      },
      "source": [
        "# Background Info:\n",
        "\n",
        "   We will be using data from the popular franchise known as Pokémon. Since its release as a video game in the late 90s, there have been numerous installments and updated versions of the game. As a result, every “generation” of these new video games produced a new wave of different Pokémon. Since our data only contains Pokémon up to the sixth generation, for the purposes of our project we will only be looking at the Pokémon from the corresponding video games Pokémon X and Y. \n",
        "   There exist 800 different Pokémon, including those with Mega Evolutions (addressed in detail later). Each Pokémon can have one or a combination of two types. Types are properties that a Pokémon has and their moves. There are a total of 18 Pokémon types, and each type has weaknesses and resistances to another type. These 18 types are: fire, water, grass, electric, ground, ice, flying, rock, steel, normal, fighting, ghost, dark, psychic, poison, dragon, fairy, and bug. While having two types may be advantageous in regards to having a more diverse range of attacks, having two types is not always beneficial, as the weaknesses of the second type may be exposed. \n",
        "    When playing the game, a player may choose to complete a variety of tasks, but the ultimate goal for most is to become overall “stronger” with their Pokémon and/or to catch all the Pokémon. A typical user of the game may roam across different landscapes and battle both wild and trained Pokémon that they encounter. Players can capture wild Pokémon which have varied baseline statistics. From there, players can increase the level and strength of their Pokémon by defeating other Pokémon. The strength of a Pokémon can be measured by their numeric statistics, which will be elaborated in full later. Pokémon that are considered to be rare are generally much stronger and possess more unique battle techniques.\n",
        "\n",
        "   The main objective of the video game is to defeat a series of trainers called the Elite Four, and the Champion. The Elite Four are analogous to the “bosses” in the video game and the Champion is the “final boss”, and these bosses and their specific Pokémon differ between each version of the game. Each Elite Four member battles with four or five pre-set Pokémon, while the Champion will battle with five pre-set Pokémon.  Known as the Kalos Elite Four in the Pokemon X and Y version of the game, the Kalos Elite Four is made up of four strong trainers that each battle using a specific type of Pokémon. Our Elite Four members are named Malva, Siebold, Wikstrom and Drasna, specializing in fire, steel, water and dragon, respectively. The Champion, on the other hand, uses a variety of different types during battle. Since the Pokémon in the Kalos Elite Four and Champion are always the same, we can take advantage of their type weaknesses to determine the Pokémon best suited to battle them. During the battle, players may use a maximum number of six Pokémon to try and defeat the trainers. The goal of our project then becomes: How can we choose the best six-member Pokémon team to defeat the Elite Four and the Champion?\n",
        "Our data contains baseline statistics variables of the first generation to sixth generation of Pokémon. Each observational unit, or row, represents one Pokémon. As mentioned before, there are 800 total Pokémon in our specified version of the video game. In our dataset, the variables are: # in the Pokédex, Name, Type 1, Type 2, Total, HP, Attack, Defense, Sp. Atk, Sp. Def, Speed, Generation, and Legendary. The “#” variable in our data corresponds to the catalogue number that a Pokemon appears in the Pokedex, which can be thought of as a dictionary of all existing Pokemon. Each Pokémon has a unique number assigned to it in the Pokedex. This dataset contains all evolved Pokemon as well. Evolution is a process in which a Pokémon changes into a different species of Pokémon. The most common way for Pokémon to evolve is by leveling up at or above a certain level, and they can either evolve once, twice, or not at all. Evolved Pokémon will have higher baseline statistics and can learn a variety of different moves. The Name variable of course represents the name of each Pokemon which is unique. As mentioned earlier, a Pokémon may have one or two types reflected by the variables Type I and Type II. These determine which types the Pokémon is strong or weak against, and will be important in our analysis. \n",
        "\n",
        "   Each Pokémon also has stats that affect its ability to perform in battle. HP, otherwise known as hit points, is the amount of damage a Pokémon is able to take until it faints and is no longer able to battle for the duration of the match. The offensive stats, Attack and Sp. Atk (Special Attack), reflect a Pokémon’s ability to perform physical and special power, respectively. Special attacks are non-physical attacks, so a Pokemon with type fire may have the special attack move “Flamethrower”. Conversely, Defense and Sp. Def reflect a Pokémon’s ability to resist physical and special attacks, respectively. Finally, Speed is the stat that determines how fast a Pokemon moves. In battle, the Pokémon that has the higher Speed will get to “go first”, or perform the first move, in the battle. Certain types of Pokémon are more likely to be stronger in certain numeric metrics (for example, Steel Type Pokémon tend to have very high Defense compared to other Pokemon). The Total variable then just becomes the sum of all the numeric metrics (HP, Attack, Defense, Sp. Atk, Sp. Def, Speed) for each individual Pokemon. Using Total as a measure of how strong a Pokemon is problematic because it does not actually determine a so-to-speak strength, because it simply sums up fairly arbitrary numbers. Later in our data analysis, we will be creating a \"strength\" variable which will standardize each of these numeric metrics and sum them up, providing a more accurate measure of how powerful a Pokemon is. The remaining variables are Generation and Legendary status. The Generation variable reflects how recently the Pokémon was created and released by game developers, with six being the most recent and one being the oldest. For instance, when the third version of the video game was released, named Pokemon Ruby and Sapphire, the set of generation three Pokemon were new at the release of that version. The last variable, Legendary, identifies which Pokémon are legendary (shown as True or False in the dataset). Legendary Pokémon are considered rare because they are difficult to capture and as a result have very strong base stats. \n",
        "\n",
        " There are several different factors that we took into consideration before choosing the ideal Pokémon for these battles. Pokémons’ stats increase as they level up, but we will focus on their base stats because the amount that these stats increase is limited. They can level up to level 100; however, those with higher base stats will have higher stats at level 100 than those with lower base stats. We will also disregard mega evolution Pokémon and legendary Pokémon when choosing our best team of 6 to face the Elite Four. Mega evolutions are transformations that increase a Pokémon’s stats and may change its type; however, only one is allowed per battle, and it is optional and temporary. Also, Legendary Pokémon are extremely difficult to capture and would too easily outperform other Pokémon. Although, each member of the Elite Four does not use six Pokémon, we will choose to use six Pokémon because it is the max number of Pokémon one can hold in battle and most players choose to do so when battling strong opponents. We will take all of these factors into consideration to determine the best Pokémon to battle the Elite Four and Champion. We are not guaranteeing that our team of 6 will win, rather we are saying these Pokémon are most equipped and likely to defeat them.\n",
        " \n",
        "   Previous studies have been done on Pokémon video games. For example, machine learning algorithms were created to predict which Pokémon are legendary based on their stats. Additionally, people made predictions to determine which Pokémon are competitively banned based on their frequency of use in battle. These analyses helped players during competitions and allowed them to understand the game better.\n"
      ]
    },
    {
      "cell_type": "markdown",
      "metadata": {
        "id": "XX-z43yhnoc4",
        "colab_type": "text"
      },
      "source": [
        "## We start by loading in the Pokemon and Type Chart data and taking a closer look at the types of variables we are working with."
      ]
    },
    {
      "cell_type": "code",
      "metadata": {
        "id": "22jh00uldAnD",
        "colab_type": "code",
        "colab": {}
      },
      "source": [
        "import numpy as np\n",
        "import pandas as pd\n",
        "import matplotlib.pyplot as plt\n",
        "import seaborn as sns\n",
        "from scipy import stats"
      ],
      "execution_count": 0,
      "outputs": []
    },
    {
      "cell_type": "code",
      "metadata": {
        "id": "_0R5eJhfdAnH",
        "colab_type": "code",
        "colab": {}
      },
      "source": [
        "pokemon = pd.read_csv(\"https://raw.githubusercontent.com/tiffypi/subtlepythontraits_stats131/master/Pokemon.csv\")"
      ],
      "execution_count": 0,
      "outputs": []
    },
    {
      "cell_type": "code",
      "metadata": {
        "id": "Ps_CB0FldAnL",
        "colab_type": "code",
        "outputId": "3b9f50a0-48ad-4ea6-ac28-691a03ae033d",
        "colab": {
          "base_uri": "https://localhost:8080/",
          "height": 204
        }
      },
      "source": [
        "pokemon['Type 2'].fillna(value='None', inplace=True)\n",
        "pokemon.head()"
      ],
      "execution_count": 3,
      "outputs": [
        {
          "output_type": "execute_result",
          "data": {
            "text/html": [
              "<div>\n",
              "<style scoped>\n",
              "    .dataframe tbody tr th:only-of-type {\n",
              "        vertical-align: middle;\n",
              "    }\n",
              "\n",
              "    .dataframe tbody tr th {\n",
              "        vertical-align: top;\n",
              "    }\n",
              "\n",
              "    .dataframe thead th {\n",
              "        text-align: right;\n",
              "    }\n",
              "</style>\n",
              "<table border=\"1\" class=\"dataframe\">\n",
              "  <thead>\n",
              "    <tr style=\"text-align: right;\">\n",
              "      <th></th>\n",
              "      <th>#</th>\n",
              "      <th>Name</th>\n",
              "      <th>Type 1</th>\n",
              "      <th>Type 2</th>\n",
              "      <th>Total</th>\n",
              "      <th>HP</th>\n",
              "      <th>Attack</th>\n",
              "      <th>Defense</th>\n",
              "      <th>Sp. Atk</th>\n",
              "      <th>Sp. Def</th>\n",
              "      <th>Speed</th>\n",
              "      <th>Generation</th>\n",
              "      <th>Legendary</th>\n",
              "    </tr>\n",
              "  </thead>\n",
              "  <tbody>\n",
              "    <tr>\n",
              "      <th>0</th>\n",
              "      <td>1</td>\n",
              "      <td>Bulbasaur</td>\n",
              "      <td>Grass</td>\n",
              "      <td>Poison</td>\n",
              "      <td>318</td>\n",
              "      <td>45</td>\n",
              "      <td>49</td>\n",
              "      <td>49</td>\n",
              "      <td>65</td>\n",
              "      <td>65</td>\n",
              "      <td>45</td>\n",
              "      <td>1</td>\n",
              "      <td>False</td>\n",
              "    </tr>\n",
              "    <tr>\n",
              "      <th>1</th>\n",
              "      <td>2</td>\n",
              "      <td>Ivysaur</td>\n",
              "      <td>Grass</td>\n",
              "      <td>Poison</td>\n",
              "      <td>405</td>\n",
              "      <td>60</td>\n",
              "      <td>62</td>\n",
              "      <td>63</td>\n",
              "      <td>80</td>\n",
              "      <td>80</td>\n",
              "      <td>60</td>\n",
              "      <td>1</td>\n",
              "      <td>False</td>\n",
              "    </tr>\n",
              "    <tr>\n",
              "      <th>2</th>\n",
              "      <td>3</td>\n",
              "      <td>Venusaur</td>\n",
              "      <td>Grass</td>\n",
              "      <td>Poison</td>\n",
              "      <td>525</td>\n",
              "      <td>80</td>\n",
              "      <td>82</td>\n",
              "      <td>83</td>\n",
              "      <td>100</td>\n",
              "      <td>100</td>\n",
              "      <td>80</td>\n",
              "      <td>1</td>\n",
              "      <td>False</td>\n",
              "    </tr>\n",
              "    <tr>\n",
              "      <th>3</th>\n",
              "      <td>3</td>\n",
              "      <td>VenusaurMega Venusaur</td>\n",
              "      <td>Grass</td>\n",
              "      <td>Poison</td>\n",
              "      <td>625</td>\n",
              "      <td>80</td>\n",
              "      <td>100</td>\n",
              "      <td>123</td>\n",
              "      <td>122</td>\n",
              "      <td>120</td>\n",
              "      <td>80</td>\n",
              "      <td>1</td>\n",
              "      <td>False</td>\n",
              "    </tr>\n",
              "    <tr>\n",
              "      <th>4</th>\n",
              "      <td>4</td>\n",
              "      <td>Charmander</td>\n",
              "      <td>Fire</td>\n",
              "      <td>None</td>\n",
              "      <td>309</td>\n",
              "      <td>39</td>\n",
              "      <td>52</td>\n",
              "      <td>43</td>\n",
              "      <td>60</td>\n",
              "      <td>50</td>\n",
              "      <td>65</td>\n",
              "      <td>1</td>\n",
              "      <td>False</td>\n",
              "    </tr>\n",
              "  </tbody>\n",
              "</table>\n",
              "</div>"
            ],
            "text/plain": [
              "   #                   Name Type 1  ... Speed  Generation  Legendary\n",
              "0  1              Bulbasaur  Grass  ...    45           1      False\n",
              "1  2                Ivysaur  Grass  ...    60           1      False\n",
              "2  3               Venusaur  Grass  ...    80           1      False\n",
              "3  3  VenusaurMega Venusaur  Grass  ...    80           1      False\n",
              "4  4             Charmander   Fire  ...    65           1      False\n",
              "\n",
              "[5 rows x 13 columns]"
            ]
          },
          "metadata": {
            "tags": []
          },
          "execution_count": 3
        }
      ]
    },
    {
      "cell_type": "code",
      "metadata": {
        "id": "q7mhgDcVoEFS",
        "colab_type": "code",
        "outputId": "e3a0c045-ff96-42be-b82d-240183b6b560",
        "colab": {
          "base_uri": "https://localhost:8080/",
          "height": 34
        }
      },
      "source": [
        "pokemon.shape #dimensions"
      ],
      "execution_count": 4,
      "outputs": [
        {
          "output_type": "execute_result",
          "data": {
            "text/plain": [
              "(800, 13)"
            ]
          },
          "metadata": {
            "tags": []
          },
          "execution_count": 4
        }
      ]
    },
    {
      "cell_type": "code",
      "metadata": {
        "id": "wmMUDYJ-dAnT",
        "colab_type": "code",
        "outputId": "44c4498f-9d12-461d-e9e1-234b70216c72",
        "colab": {
          "base_uri": "https://localhost:8080/",
          "height": 323
        }
      },
      "source": [
        "pokemon.info()"
      ],
      "execution_count": 5,
      "outputs": [
        {
          "output_type": "stream",
          "text": [
            "<class 'pandas.core.frame.DataFrame'>\n",
            "RangeIndex: 800 entries, 0 to 799\n",
            "Data columns (total 13 columns):\n",
            "#             800 non-null int64\n",
            "Name          800 non-null object\n",
            "Type 1        800 non-null object\n",
            "Type 2        800 non-null object\n",
            "Total         800 non-null int64\n",
            "HP            800 non-null int64\n",
            "Attack        800 non-null int64\n",
            "Defense       800 non-null int64\n",
            "Sp. Atk       800 non-null int64\n",
            "Sp. Def       800 non-null int64\n",
            "Speed         800 non-null int64\n",
            "Generation    800 non-null int64\n",
            "Legendary     800 non-null bool\n",
            "dtypes: bool(1), int64(9), object(3)\n",
            "memory usage: 75.9+ KB\n"
          ],
          "name": "stdout"
        }
      ]
    },
    {
      "cell_type": "code",
      "metadata": {
        "id": "oz1Wfsj9dAnY",
        "colab_type": "code",
        "outputId": "631a282e-b322-4651-b022-b533a07795f9",
        "colab": {
          "base_uri": "https://localhost:8080/",
          "height": 68
        }
      },
      "source": [
        "pokemon.columns"
      ],
      "execution_count": 6,
      "outputs": [
        {
          "output_type": "execute_result",
          "data": {
            "text/plain": [
              "Index(['#', 'Name', 'Type 1', 'Type 2', 'Total', 'HP', 'Attack', 'Defense',\n",
              "       'Sp. Atk', 'Sp. Def', 'Speed', 'Generation', 'Legendary'],\n",
              "      dtype='object')"
            ]
          },
          "metadata": {
            "tags": []
          },
          "execution_count": 6
        }
      ]
    },
    {
      "cell_type": "markdown",
      "metadata": {
        "id": "EfqcWwq4LF0i",
        "colab_type": "text"
      },
      "source": [
        "### We will also use a Pokemon Type Chart data. This data has all the possible one and two type combination of Pokemon (columns 1 and 2) and the attacker types listed across the rest of the column names. The numbers 0.5-4.0 represent a Pokemon's effectiveness against another Pokemon for all types. Later on in our analysis, we will use this type chart data to assemble the best 6-member team to battle the Kalos Elite Four.\n",
        "\n",
        "### e.g.: \"A Pokemon of Water type (column 5) is 2 times effective against Normal & Fire type Pokemon.\""
      ]
    },
    {
      "cell_type": "code",
      "metadata": {
        "id": "aNFOpWz6Klpv",
        "colab_type": "code",
        "outputId": "5483574d-c039-4e64-8871-4a7cf61c7aa5",
        "colab": {
          "base_uri": "https://localhost:8080/",
          "height": 221
        }
      },
      "source": [
        "types = pd.read_csv(\"https://raw.githubusercontent.com/tiffypi/subtlepythontraits_stats131/master/type-chart.csv\")\n",
        "types['defense-type2'].fillna(value='none', inplace=True)\n",
        "types.head()"
      ],
      "execution_count": 7,
      "outputs": [
        {
          "output_type": "execute_result",
          "data": {
            "text/html": [
              "<div>\n",
              "<style scoped>\n",
              "    .dataframe tbody tr th:only-of-type {\n",
              "        vertical-align: middle;\n",
              "    }\n",
              "\n",
              "    .dataframe tbody tr th {\n",
              "        vertical-align: top;\n",
              "    }\n",
              "\n",
              "    .dataframe thead th {\n",
              "        text-align: right;\n",
              "    }\n",
              "</style>\n",
              "<table border=\"1\" class=\"dataframe\">\n",
              "  <thead>\n",
              "    <tr style=\"text-align: right;\">\n",
              "      <th></th>\n",
              "      <th>defense-type1</th>\n",
              "      <th>defense-type2</th>\n",
              "      <th>normal</th>\n",
              "      <th>fire</th>\n",
              "      <th>water</th>\n",
              "      <th>electric</th>\n",
              "      <th>grass</th>\n",
              "      <th>ice</th>\n",
              "      <th>fighting</th>\n",
              "      <th>poison</th>\n",
              "      <th>ground</th>\n",
              "      <th>flying</th>\n",
              "      <th>psychic</th>\n",
              "      <th>bug</th>\n",
              "      <th>rock</th>\n",
              "      <th>ghost</th>\n",
              "      <th>dragon</th>\n",
              "      <th>dark</th>\n",
              "      <th>steel</th>\n",
              "      <th>fairy</th>\n",
              "    </tr>\n",
              "  </thead>\n",
              "  <tbody>\n",
              "    <tr>\n",
              "      <th>0</th>\n",
              "      <td>normal</td>\n",
              "      <td>none</td>\n",
              "      <td>1.0</td>\n",
              "      <td>1.0</td>\n",
              "      <td>1.0</td>\n",
              "      <td>1.0</td>\n",
              "      <td>1.0</td>\n",
              "      <td>1.0</td>\n",
              "      <td>2.0</td>\n",
              "      <td>1.0</td>\n",
              "      <td>1.0</td>\n",
              "      <td>1.0</td>\n",
              "      <td>1.0</td>\n",
              "      <td>1.0</td>\n",
              "      <td>1.0</td>\n",
              "      <td>0.0</td>\n",
              "      <td>1.0</td>\n",
              "      <td>1.0</td>\n",
              "      <td>1.0</td>\n",
              "      <td>1.0</td>\n",
              "    </tr>\n",
              "    <tr>\n",
              "      <th>1</th>\n",
              "      <td>normal</td>\n",
              "      <td>fire</td>\n",
              "      <td>1.0</td>\n",
              "      <td>0.5</td>\n",
              "      <td>2.0</td>\n",
              "      <td>1.0</td>\n",
              "      <td>0.5</td>\n",
              "      <td>0.5</td>\n",
              "      <td>2.0</td>\n",
              "      <td>1.0</td>\n",
              "      <td>2.0</td>\n",
              "      <td>1.0</td>\n",
              "      <td>1.0</td>\n",
              "      <td>0.5</td>\n",
              "      <td>2.0</td>\n",
              "      <td>0.0</td>\n",
              "      <td>1.0</td>\n",
              "      <td>1.0</td>\n",
              "      <td>0.5</td>\n",
              "      <td>0.5</td>\n",
              "    </tr>\n",
              "    <tr>\n",
              "      <th>2</th>\n",
              "      <td>normal</td>\n",
              "      <td>water</td>\n",
              "      <td>1.0</td>\n",
              "      <td>0.5</td>\n",
              "      <td>0.5</td>\n",
              "      <td>2.0</td>\n",
              "      <td>2.0</td>\n",
              "      <td>0.5</td>\n",
              "      <td>2.0</td>\n",
              "      <td>1.0</td>\n",
              "      <td>1.0</td>\n",
              "      <td>1.0</td>\n",
              "      <td>1.0</td>\n",
              "      <td>1.0</td>\n",
              "      <td>1.0</td>\n",
              "      <td>0.0</td>\n",
              "      <td>1.0</td>\n",
              "      <td>1.0</td>\n",
              "      <td>0.5</td>\n",
              "      <td>1.0</td>\n",
              "    </tr>\n",
              "    <tr>\n",
              "      <th>3</th>\n",
              "      <td>normal</td>\n",
              "      <td>electric</td>\n",
              "      <td>1.0</td>\n",
              "      <td>1.0</td>\n",
              "      <td>1.0</td>\n",
              "      <td>0.5</td>\n",
              "      <td>1.0</td>\n",
              "      <td>1.0</td>\n",
              "      <td>2.0</td>\n",
              "      <td>1.0</td>\n",
              "      <td>2.0</td>\n",
              "      <td>0.5</td>\n",
              "      <td>1.0</td>\n",
              "      <td>1.0</td>\n",
              "      <td>1.0</td>\n",
              "      <td>0.0</td>\n",
              "      <td>1.0</td>\n",
              "      <td>1.0</td>\n",
              "      <td>0.5</td>\n",
              "      <td>1.0</td>\n",
              "    </tr>\n",
              "    <tr>\n",
              "      <th>4</th>\n",
              "      <td>normal</td>\n",
              "      <td>grass</td>\n",
              "      <td>1.0</td>\n",
              "      <td>2.0</td>\n",
              "      <td>0.5</td>\n",
              "      <td>0.5</td>\n",
              "      <td>0.5</td>\n",
              "      <td>2.0</td>\n",
              "      <td>2.0</td>\n",
              "      <td>2.0</td>\n",
              "      <td>0.5</td>\n",
              "      <td>2.0</td>\n",
              "      <td>1.0</td>\n",
              "      <td>2.0</td>\n",
              "      <td>1.0</td>\n",
              "      <td>0.0</td>\n",
              "      <td>1.0</td>\n",
              "      <td>1.0</td>\n",
              "      <td>1.0</td>\n",
              "      <td>1.0</td>\n",
              "    </tr>\n",
              "  </tbody>\n",
              "</table>\n",
              "</div>"
            ],
            "text/plain": [
              "  defense-type1 defense-type2  normal  fire  ...  dragon  dark  steel  fairy\n",
              "0        normal          none     1.0   1.0  ...     1.0   1.0    1.0    1.0\n",
              "1        normal          fire     1.0   0.5  ...     1.0   1.0    0.5    0.5\n",
              "2        normal         water     1.0   0.5  ...     1.0   1.0    0.5    1.0\n",
              "3        normal      electric     1.0   1.0  ...     1.0   1.0    0.5    1.0\n",
              "4        normal         grass     1.0   2.0  ...     1.0   1.0    1.0    1.0\n",
              "\n",
              "[5 rows x 20 columns]"
            ]
          },
          "metadata": {
            "tags": []
          },
          "execution_count": 7
        }
      ]
    },
    {
      "cell_type": "code",
      "metadata": {
        "id": "oUU78Dy6rIxU",
        "colab_type": "code",
        "outputId": "08d85dc2-a9c1-482f-b514-28f619921dcd",
        "colab": {
          "base_uri": "https://localhost:8080/",
          "height": 34
        }
      },
      "source": [
        "types.shape"
      ],
      "execution_count": 8,
      "outputs": [
        {
          "output_type": "execute_result",
          "data": {
            "text/plain": [
              "(324, 20)"
            ]
          },
          "metadata": {
            "tags": []
          },
          "execution_count": 8
        }
      ]
    },
    {
      "cell_type": "code",
      "metadata": {
        "id": "Z7v_udOTrMlh",
        "colab_type": "code",
        "outputId": "2af18522-e1d9-46c2-d2bc-65d611e62535",
        "colab": {
          "base_uri": "https://localhost:8080/",
          "height": 442
        }
      },
      "source": [
        "types.info()"
      ],
      "execution_count": 9,
      "outputs": [
        {
          "output_type": "stream",
          "text": [
            "<class 'pandas.core.frame.DataFrame'>\n",
            "RangeIndex: 324 entries, 0 to 323\n",
            "Data columns (total 20 columns):\n",
            "defense-type1    324 non-null object\n",
            "defense-type2    324 non-null object\n",
            "normal           324 non-null float64\n",
            "fire             324 non-null float64\n",
            "water            324 non-null float64\n",
            "electric         324 non-null float64\n",
            "grass            324 non-null float64\n",
            "ice              324 non-null float64\n",
            "fighting         324 non-null float64\n",
            "poison           324 non-null float64\n",
            "ground           324 non-null float64\n",
            "flying           324 non-null float64\n",
            "psychic          324 non-null float64\n",
            "bug              324 non-null float64\n",
            "rock             324 non-null float64\n",
            "ghost            324 non-null float64\n",
            "dragon           324 non-null float64\n",
            "dark             324 non-null float64\n",
            "steel            324 non-null float64\n",
            "fairy            324 non-null float64\n",
            "dtypes: float64(18), object(2)\n",
            "memory usage: 50.7+ KB\n"
          ],
          "name": "stdout"
        }
      ]
    },
    {
      "cell_type": "markdown",
      "metadata": {
        "id": "IeqI8YNEdAnx",
        "colab_type": "text"
      },
      "source": [
        "# (1) Exploratory Data Analysis"
      ]
    },
    {
      "cell_type": "markdown",
      "metadata": {
        "id": "aIQaC-isv0Qz",
        "colab_type": "text"
      },
      "source": [
        "## (a) Are any of the statistics correlated? \n",
        "\n",
        "#### The presence of Legendary Pokemon and Mega-Evolved Pokemon can potentially be a confounding variable and they cannot be used in the Elite Four, so we will remove them for the purpose of our analysis from the beginning. "
      ]
    },
    {
      "cell_type": "code",
      "metadata": {
        "id": "kHPFFs6nxU62",
        "colab_type": "code",
        "colab": {}
      },
      "source": [
        "pokemonNormal = pokemon.loc[pokemon.Legendary == False]"
      ],
      "execution_count": 0,
      "outputs": []
    },
    {
      "cell_type": "code",
      "metadata": {
        "id": "h10G0M8hXaoD",
        "colab_type": "code",
        "outputId": "31449e7a-65d2-4756-e8b7-f164da956af3",
        "colab": {
          "base_uri": "https://localhost:8080/",
          "height": 102
        }
      },
      "source": [
        "# removing duplicates #s (id's) will remove of the Mega Evoled Pokemon \n",
        "pokemonNormal.rename(columns={'#': 'id'}, inplace=True)\n"
      ],
      "execution_count": 11,
      "outputs": [
        {
          "output_type": "stream",
          "text": [
            "/usr/local/lib/python3.6/dist-packages/pandas/core/frame.py:4025: SettingWithCopyWarning: \n",
            "A value is trying to be set on a copy of a slice from a DataFrame\n",
            "\n",
            "See the caveats in the documentation: http://pandas.pydata.org/pandas-docs/stable/indexing.html#indexing-view-versus-copy\n",
            "  return super(DataFrame, self).rename(**kwargs)\n"
          ],
          "name": "stderr"
        }
      ]
    },
    {
      "cell_type": "code",
      "metadata": {
        "id": "pIFV0itkZU9g",
        "colab_type": "code",
        "outputId": "1b9a9235-c839-4565-b3a8-213af9a64c45",
        "colab": {
          "base_uri": "https://localhost:8080/",
          "height": 102
        }
      },
      "source": [
        "# pokemon[pokemon.duplicated('id', keep=False)].head(5) ## the duplicated pokemons (we want to keep the FIRST one) ##\n",
        "pokemonNormal.drop_duplicates('id', keep='first', inplace=True)"
      ],
      "execution_count": 12,
      "outputs": [
        {
          "output_type": "stream",
          "text": [
            "/usr/local/lib/python3.6/dist-packages/ipykernel_launcher.py:1: SettingWithCopyWarning: \n",
            "A value is trying to be set on a copy of a slice from a DataFrame\n",
            "\n",
            "See the caveats in the documentation: http://pandas.pydata.org/pandas-docs/stable/indexing.html#indexing-view-versus-copy\n",
            "  \"\"\"Entry point for launching an IPython kernel.\n"
          ],
          "name": "stderr"
        }
      ]
    },
    {
      "cell_type": "code",
      "metadata": {
        "id": "yfw-YcGikbF6",
        "colab_type": "code",
        "outputId": "793525fe-05d1-443f-bfe3-0266e48fd111",
        "colab": {
          "base_uri": "https://localhost:8080/",
          "height": 297
        }
      },
      "source": [
        "pokemonNormal.iloc[:,4:13].describe() #spread and IQR of numeric variables"
      ],
      "execution_count": 13,
      "outputs": [
        {
          "output_type": "execute_result",
          "data": {
            "text/html": [
              "<div>\n",
              "<style scoped>\n",
              "    .dataframe tbody tr th:only-of-type {\n",
              "        vertical-align: middle;\n",
              "    }\n",
              "\n",
              "    .dataframe tbody tr th {\n",
              "        vertical-align: top;\n",
              "    }\n",
              "\n",
              "    .dataframe thead th {\n",
              "        text-align: right;\n",
              "    }\n",
              "</style>\n",
              "<table border=\"1\" class=\"dataframe\">\n",
              "  <thead>\n",
              "    <tr style=\"text-align: right;\">\n",
              "      <th></th>\n",
              "      <th>Total</th>\n",
              "      <th>HP</th>\n",
              "      <th>Attack</th>\n",
              "      <th>Defense</th>\n",
              "      <th>Sp. Atk</th>\n",
              "      <th>Sp. Def</th>\n",
              "      <th>Speed</th>\n",
              "      <th>Generation</th>\n",
              "    </tr>\n",
              "  </thead>\n",
              "  <tbody>\n",
              "    <tr>\n",
              "      <th>count</th>\n",
              "      <td>675.000000</td>\n",
              "      <td>675.000000</td>\n",
              "      <td>675.000000</td>\n",
              "      <td>675.000000</td>\n",
              "      <td>675.000000</td>\n",
              "      <td>675.000000</td>\n",
              "      <td>675.000000</td>\n",
              "      <td>675.000000</td>\n",
              "    </tr>\n",
              "    <tr>\n",
              "      <th>mean</th>\n",
              "      <td>404.161481</td>\n",
              "      <td>66.634074</td>\n",
              "      <td>72.872593</td>\n",
              "      <td>68.562963</td>\n",
              "      <td>65.808889</td>\n",
              "      <td>66.604444</td>\n",
              "      <td>63.678519</td>\n",
              "      <td>3.291852</td>\n",
              "    </tr>\n",
              "    <tr>\n",
              "      <th>std</th>\n",
              "      <td>98.636245</td>\n",
              "      <td>25.342889</td>\n",
              "      <td>28.040058</td>\n",
              "      <td>28.134060</td>\n",
              "      <td>26.526633</td>\n",
              "      <td>24.881481</td>\n",
              "      <td>26.493917</td>\n",
              "      <td>1.678766</td>\n",
              "    </tr>\n",
              "    <tr>\n",
              "      <th>min</th>\n",
              "      <td>180.000000</td>\n",
              "      <td>1.000000</td>\n",
              "      <td>5.000000</td>\n",
              "      <td>5.000000</td>\n",
              "      <td>10.000000</td>\n",
              "      <td>20.000000</td>\n",
              "      <td>5.000000</td>\n",
              "      <td>1.000000</td>\n",
              "    </tr>\n",
              "    <tr>\n",
              "      <th>25%</th>\n",
              "      <td>316.000000</td>\n",
              "      <td>50.000000</td>\n",
              "      <td>52.000000</td>\n",
              "      <td>50.000000</td>\n",
              "      <td>45.000000</td>\n",
              "      <td>50.000000</td>\n",
              "      <td>45.000000</td>\n",
              "      <td>2.000000</td>\n",
              "    </tr>\n",
              "    <tr>\n",
              "      <th>50%</th>\n",
              "      <td>410.000000</td>\n",
              "      <td>65.000000</td>\n",
              "      <td>70.000000</td>\n",
              "      <td>65.000000</td>\n",
              "      <td>61.000000</td>\n",
              "      <td>65.000000</td>\n",
              "      <td>60.000000</td>\n",
              "      <td>3.000000</td>\n",
              "    </tr>\n",
              "    <tr>\n",
              "      <th>75%</th>\n",
              "      <td>490.000000</td>\n",
              "      <td>78.000000</td>\n",
              "      <td>90.000000</td>\n",
              "      <td>83.500000</td>\n",
              "      <td>85.000000</td>\n",
              "      <td>80.000000</td>\n",
              "      <td>82.500000</td>\n",
              "      <td>5.000000</td>\n",
              "    </tr>\n",
              "    <tr>\n",
              "      <th>max</th>\n",
              "      <td>670.000000</td>\n",
              "      <td>255.000000</td>\n",
              "      <td>165.000000</td>\n",
              "      <td>230.000000</td>\n",
              "      <td>150.000000</td>\n",
              "      <td>230.000000</td>\n",
              "      <td>160.000000</td>\n",
              "      <td>6.000000</td>\n",
              "    </tr>\n",
              "  </tbody>\n",
              "</table>\n",
              "</div>"
            ],
            "text/plain": [
              "            Total          HP      Attack  ...     Sp. Def       Speed  Generation\n",
              "count  675.000000  675.000000  675.000000  ...  675.000000  675.000000  675.000000\n",
              "mean   404.161481   66.634074   72.872593  ...   66.604444   63.678519    3.291852\n",
              "std     98.636245   25.342889   28.040058  ...   24.881481   26.493917    1.678766\n",
              "min    180.000000    1.000000    5.000000  ...   20.000000    5.000000    1.000000\n",
              "25%    316.000000   50.000000   52.000000  ...   50.000000   45.000000    2.000000\n",
              "50%    410.000000   65.000000   70.000000  ...   65.000000   60.000000    3.000000\n",
              "75%    490.000000   78.000000   90.000000  ...   80.000000   82.500000    5.000000\n",
              "max    670.000000  255.000000  165.000000  ...  230.000000  160.000000    6.000000\n",
              "\n",
              "[8 rows x 8 columns]"
            ]
          },
          "metadata": {
            "tags": []
          },
          "execution_count": 13
        }
      ]
    },
    {
      "cell_type": "markdown",
      "metadata": {
        "id": "Aiixi0DeqLrv",
        "colab_type": "text"
      },
      "source": [
        "#### Upon removing all the Legendary Pokemon and the Mega-evolution Pokemon, the total number of Pokemon we are working with now is 735. The average HP is 66.63 across all these normal pokemon. The standard deviation across all variables are numeric metrics except the Total are pretty similar ranging between 24 to 28. The standard deviation of total varies a lot more at 98.64."
      ]
    },
    {
      "cell_type": "markdown",
      "metadata": {
        "id": "OweP4q7Y40lY",
        "colab_type": "text"
      },
      "source": [
        "### Pairplot: Showing relationship between all baseline numeric statistic variables- HP, Attack, Defense, Sp. Atk, Sp. Def, Speed\n",
        "#### In the diagonals of the pairplot matrix, we also see the distribution of each of the baseline statistics as well. They are each unimodal with a slight right skew."
      ]
    },
    {
      "cell_type": "code",
      "metadata": {
        "id": "IKtl_SJBvjQb",
        "colab_type": "code",
        "colab": {}
      },
      "source": [
        "def show_corr(x, y, **kwargs):\n",
        "    (r, _) = stats.pearsonr(x, y)\n",
        "    ax = plt.gca()\n",
        "    ax.annotate(\n",
        "        'r = {:.2f}'.format(r),\n",
        "        xy=(0.45, 0.85),\n",
        "        xycoords=ax.transAxes\n",
        "    )"
      ],
      "execution_count": 0,
      "outputs": []
    },
    {
      "cell_type": "code",
      "metadata": {
        "id": "jTVa72L59c1l",
        "colab_type": "code",
        "outputId": "ee6cecef-c9ed-4f52-a0a7-a74f92c792bc",
        "colab": {
          "base_uri": "https://localhost:8080/",
          "height": 1106
        }
      },
      "source": [
        "sns.pairplot(pokemonNormal.iloc[:,5:11], kind=\"reg\").map_offdiag(show_corr)"
      ],
      "execution_count": 15,
      "outputs": [
        {
          "output_type": "execute_result",
          "data": {
            "text/plain": [
              "<seaborn.axisgrid.PairGrid at 0x7f9cec594240>"
            ]
          },
          "metadata": {
            "tags": []
          },
          "execution_count": 15
        },
        {
          "output_type": "display_data",
          "data": {
            "image/png": "[encoded data removed]",
            "text/plain": [
              "<Figure size 1080x1080 with 42 Axes>"
            ]
          },
          "metadata": {
            "tags": []
          }
        }
      ]
    },
    {
      "cell_type": "markdown",
      "metadata": {
        "id": "gmn0KJTAtjuz",
        "colab_type": "text"
      },
      "source": [
        "#### As we see in the pairplot above, the 5 most correlated pairs of statistics are:\n",
        "1. Sp. Defense/Sp. Attack\n",
        "2. Defense/Sp. Defense\n",
        "3. Defense/Attack\n",
        "4. HP/Attack\n",
        "5. Speed/Sp. Attack\n",
        "\n",
        "#### None of the statistics are strongly correlated as they all fall below r = 0.5, which is important as that would favor certain Pokemon over others. We also point out that all of the variables are positively correlated, except for Defense and Speed - this case is demonstrated by Steel and Rock type Pokemon, who have the highest Defense and very low Speed. \n",
        "\n",
        "#### In the table below showing average Defense and Speed, we see the inverse relationship more closely.\n"
      ]
    },
    {
      "cell_type": "code",
      "metadata": {
        "id": "y6oUosYLBJhC",
        "colab_type": "code",
        "outputId": "ba27ba01-ce71-4055-9edb-2c0d755f859c",
        "colab": {
          "base_uri": "https://localhost:8080/",
          "height": 390
        }
      },
      "source": [
        "pokemonNormal.sort_values('Defense', ascending=False).groupby('Type 1')[('Defense','Speed')].mean().sort_values(by='Defense', ascending=False).head(10)"
      ],
      "execution_count": 16,
      "outputs": [
        {
          "output_type": "execute_result",
          "data": {
            "text/html": [
              "<div>\n",
              "<style scoped>\n",
              "    .dataframe tbody tr th:only-of-type {\n",
              "        vertical-align: middle;\n",
              "    }\n",
              "\n",
              "    .dataframe tbody tr th {\n",
              "        vertical-align: top;\n",
              "    }\n",
              "\n",
              "    .dataframe thead th {\n",
              "        text-align: right;\n",
              "    }\n",
              "</style>\n",
              "<table border=\"1\" class=\"dataframe\">\n",
              "  <thead>\n",
              "    <tr style=\"text-align: right;\">\n",
              "      <th></th>\n",
              "      <th>Defense</th>\n",
              "      <th>Speed</th>\n",
              "    </tr>\n",
              "    <tr>\n",
              "      <th>Type 1</th>\n",
              "      <th></th>\n",
              "      <th></th>\n",
              "    </tr>\n",
              "  </thead>\n",
              "  <tbody>\n",
              "    <tr>\n",
              "      <th>Steel</th>\n",
              "      <td>112.666667</td>\n",
              "      <td>46.888889</td>\n",
              "    </tr>\n",
              "    <tr>\n",
              "      <th>Rock</th>\n",
              "      <td>96.052632</td>\n",
              "      <td>50.552632</td>\n",
              "    </tr>\n",
              "    <tr>\n",
              "      <th>Ground</th>\n",
              "      <td>79.821429</td>\n",
              "      <td>59.750000</td>\n",
              "    </tr>\n",
              "    <tr>\n",
              "      <th>Ghost</th>\n",
              "      <td>74.863636</td>\n",
              "      <td>59.500000</td>\n",
              "    </tr>\n",
              "    <tr>\n",
              "      <th>Dragon</th>\n",
              "      <td>71.058824</td>\n",
              "      <td>67.941176</td>\n",
              "    </tr>\n",
              "    <tr>\n",
              "      <th>Water</th>\n",
              "      <td>69.568627</td>\n",
              "      <td>64.225490</td>\n",
              "    </tr>\n",
              "    <tr>\n",
              "      <th>Grass</th>\n",
              "      <td>68.843750</td>\n",
              "      <td>58.515625</td>\n",
              "    </tr>\n",
              "    <tr>\n",
              "      <th>Poison</th>\n",
              "      <td>68.821429</td>\n",
              "      <td>63.571429</td>\n",
              "    </tr>\n",
              "    <tr>\n",
              "      <th>Ice</th>\n",
              "      <td>68.285714</td>\n",
              "      <td>61.333333</td>\n",
              "    </tr>\n",
              "    <tr>\n",
              "      <th>Bug</th>\n",
              "      <td>67.698413</td>\n",
              "      <td>60.063492</td>\n",
              "    </tr>\n",
              "  </tbody>\n",
              "</table>\n",
              "</div>"
            ],
            "text/plain": [
              "           Defense      Speed\n",
              "Type 1                       \n",
              "Steel   112.666667  46.888889\n",
              "Rock     96.052632  50.552632\n",
              "Ground   79.821429  59.750000\n",
              "Ghost    74.863636  59.500000\n",
              "Dragon   71.058824  67.941176\n",
              "Water    69.568627  64.225490\n",
              "Grass    68.843750  58.515625\n",
              "Poison   68.821429  63.571429\n",
              "Ice      68.285714  61.333333\n",
              "Bug      67.698413  60.063492"
            ]
          },
          "metadata": {
            "tags": []
          },
          "execution_count": 16
        }
      ]
    },
    {
      "cell_type": "markdown",
      "metadata": {
        "id": "EDbape1a8hw-",
        "colab_type": "text"
      },
      "source": [
        "#### From the table above, we will note that a Pokemon with a type that has a higher defense score will tend to score lower in speed."
      ]
    },
    {
      "cell_type": "markdown",
      "metadata": {
        "id": "9D1V_EI2lD8Y",
        "colab_type": "text"
      },
      "source": [
        "## (b) What is the relationship between a Pokemon's type and the six baseline statistics? "
      ]
    },
    {
      "cell_type": "markdown",
      "metadata": {
        "id": "b9-YvVob8SY9",
        "colab_type": "text"
      },
      "source": [
        "### Here we have the strongest single type of Pokemon ranked by their Total statistic. We note that Dragon types across the averages of all numeric metrics rank number one with its Total average. Dragon types on average, appear to have generally higher Attack power (~96.65) compared to other types. Steel, which was mentioned early, ranks number two and has a very high Defense score which brings up its Total average score."
      ]
    },
    {
      "cell_type": "code",
      "metadata": {
        "id": "GbwqS9w8dAoG",
        "colab_type": "code",
        "outputId": "7cb070b9-c192-4971-d03b-0f0f8b495f1a",
        "colab": {
          "base_uri": "https://localhost:8080/",
          "height": 638
        }
      },
      "source": [
        "pokemonNormal.groupby('Type 1')['Total', 'HP', 'Attack', 'Defense', 'Sp. Atk', 'Sp. Def', 'Speed'].mean().sort_values(['Total'], ascending=False)                                                                                            "
      ],
      "execution_count": 17,
      "outputs": [
        {
          "output_type": "execute_result",
          "data": {
            "text/html": [
              "<div>\n",
              "<style scoped>\n",
              "    .dataframe tbody tr th:only-of-type {\n",
              "        vertical-align: middle;\n",
              "    }\n",
              "\n",
              "    .dataframe tbody tr th {\n",
              "        vertical-align: top;\n",
              "    }\n",
              "\n",
              "    .dataframe thead th {\n",
              "        text-align: right;\n",
              "    }\n",
              "</style>\n",
              "<table border=\"1\" class=\"dataframe\">\n",
              "  <thead>\n",
              "    <tr style=\"text-align: right;\">\n",
              "      <th></th>\n",
              "      <th>Total</th>\n",
              "      <th>HP</th>\n",
              "      <th>Attack</th>\n",
              "      <th>Defense</th>\n",
              "      <th>Sp. Atk</th>\n",
              "      <th>Sp. Def</th>\n",
              "      <th>Speed</th>\n",
              "    </tr>\n",
              "    <tr>\n",
              "      <th>Type 1</th>\n",
              "      <th></th>\n",
              "      <th></th>\n",
              "      <th></th>\n",
              "      <th></th>\n",
              "      <th></th>\n",
              "      <th></th>\n",
              "      <th></th>\n",
              "    </tr>\n",
              "  </thead>\n",
              "  <tbody>\n",
              "    <tr>\n",
              "      <th>Dragon</th>\n",
              "      <td>443.941176</td>\n",
              "      <td>69.117647</td>\n",
              "      <td>96.647059</td>\n",
              "      <td>71.058824</td>\n",
              "      <td>65.176471</td>\n",
              "      <td>74.000000</td>\n",
              "      <td>67.941176</td>\n",
              "    </tr>\n",
              "    <tr>\n",
              "      <th>Steel</th>\n",
              "      <td>432.666667</td>\n",
              "      <td>58.611111</td>\n",
              "      <td>86.277778</td>\n",
              "      <td>112.666667</td>\n",
              "      <td>60.166667</td>\n",
              "      <td>68.055556</td>\n",
              "      <td>46.888889</td>\n",
              "    </tr>\n",
              "    <tr>\n",
              "      <th>Rock</th>\n",
              "      <td>426.052632</td>\n",
              "      <td>63.815789</td>\n",
              "      <td>86.789474</td>\n",
              "      <td>96.052632</td>\n",
              "      <td>58.947368</td>\n",
              "      <td>69.894737</td>\n",
              "      <td>50.552632</td>\n",
              "    </tr>\n",
              "    <tr>\n",
              "      <th>Fire</th>\n",
              "      <td>423.380952</td>\n",
              "      <td>65.285714</td>\n",
              "      <td>79.023810</td>\n",
              "      <td>60.928571</td>\n",
              "      <td>79.476190</td>\n",
              "      <td>65.595238</td>\n",
              "      <td>73.071429</td>\n",
              "    </tr>\n",
              "    <tr>\n",
              "      <th>Dark</th>\n",
              "      <td>418.961538</td>\n",
              "      <td>64.807692</td>\n",
              "      <td>84.384615</td>\n",
              "      <td>66.038462</td>\n",
              "      <td>65.692308</td>\n",
              "      <td>65.461538</td>\n",
              "      <td>72.576923</td>\n",
              "    </tr>\n",
              "    <tr>\n",
              "      <th>Ice</th>\n",
              "      <td>412.523810</td>\n",
              "      <td>70.380952</td>\n",
              "      <td>71.000000</td>\n",
              "      <td>68.285714</td>\n",
              "      <td>73.619048</td>\n",
              "      <td>67.904762</td>\n",
              "      <td>61.333333</td>\n",
              "    </tr>\n",
              "    <tr>\n",
              "      <th>Ghost</th>\n",
              "      <td>412.000000</td>\n",
              "      <td>57.545455</td>\n",
              "      <td>65.136364</td>\n",
              "      <td>74.863636</td>\n",
              "      <td>79.545455</td>\n",
              "      <td>75.409091</td>\n",
              "      <td>59.500000</td>\n",
              "    </tr>\n",
              "    <tr>\n",
              "      <th>Water</th>\n",
              "      <td>410.549020</td>\n",
              "      <td>70.107843</td>\n",
              "      <td>70.245098</td>\n",
              "      <td>69.568627</td>\n",
              "      <td>70.000000</td>\n",
              "      <td>66.401961</td>\n",
              "      <td>64.225490</td>\n",
              "    </tr>\n",
              "    <tr>\n",
              "      <th>Psychic</th>\n",
              "      <td>407.615385</td>\n",
              "      <td>67.871795</td>\n",
              "      <td>51.666667</td>\n",
              "      <td>59.538462</td>\n",
              "      <td>84.846154</td>\n",
              "      <td>78.025641</td>\n",
              "      <td>65.666667</td>\n",
              "    </tr>\n",
              "    <tr>\n",
              "      <th>Electric</th>\n",
              "      <td>406.212121</td>\n",
              "      <td>57.060606</td>\n",
              "      <td>65.151515</td>\n",
              "      <td>57.484848</td>\n",
              "      <td>79.575758</td>\n",
              "      <td>65.696970</td>\n",
              "      <td>81.242424</td>\n",
              "    </tr>\n",
              "    <tr>\n",
              "      <th>Ground</th>\n",
              "      <td>405.714286</td>\n",
              "      <td>70.821429</td>\n",
              "      <td>88.000000</td>\n",
              "      <td>79.821429</td>\n",
              "      <td>47.750000</td>\n",
              "      <td>59.571429</td>\n",
              "      <td>59.750000</td>\n",
              "    </tr>\n",
              "    <tr>\n",
              "      <th>Fighting</th>\n",
              "      <td>404.360000</td>\n",
              "      <td>70.240000</td>\n",
              "      <td>94.720000</td>\n",
              "      <td>64.280000</td>\n",
              "      <td>48.560000</td>\n",
              "      <td>63.680000</td>\n",
              "      <td>62.880000</td>\n",
              "    </tr>\n",
              "    <tr>\n",
              "      <th>Grass</th>\n",
              "      <td>403.921875</td>\n",
              "      <td>65.281250</td>\n",
              "      <td>70.156250</td>\n",
              "      <td>68.843750</td>\n",
              "      <td>73.687500</td>\n",
              "      <td>67.437500</td>\n",
              "      <td>58.515625</td>\n",
              "    </tr>\n",
              "    <tr>\n",
              "      <th>Poison</th>\n",
              "      <td>399.142857</td>\n",
              "      <td>67.250000</td>\n",
              "      <td>74.678571</td>\n",
              "      <td>68.821429</td>\n",
              "      <td>60.428571</td>\n",
              "      <td>64.392857</td>\n",
              "      <td>63.571429</td>\n",
              "    </tr>\n",
              "    <tr>\n",
              "      <th>Fairy</th>\n",
              "      <td>396.500000</td>\n",
              "      <td>70.875000</td>\n",
              "      <td>57.187500</td>\n",
              "      <td>63.875000</td>\n",
              "      <td>75.250000</td>\n",
              "      <td>83.875000</td>\n",
              "      <td>45.437500</td>\n",
              "    </tr>\n",
              "    <tr>\n",
              "      <th>Flying</th>\n",
              "      <td>390.000000</td>\n",
              "      <td>62.500000</td>\n",
              "      <td>50.000000</td>\n",
              "      <td>57.500000</td>\n",
              "      <td>71.000000</td>\n",
              "      <td>60.000000</td>\n",
              "      <td>89.000000</td>\n",
              "    </tr>\n",
              "    <tr>\n",
              "      <th>Normal</th>\n",
              "      <td>385.505495</td>\n",
              "      <td>75.681319</td>\n",
              "      <td>70.230769</td>\n",
              "      <td>56.538462</td>\n",
              "      <td>53.450549</td>\n",
              "      <td>60.835165</td>\n",
              "      <td>68.769231</td>\n",
              "    </tr>\n",
              "    <tr>\n",
              "      <th>Bug</th>\n",
              "      <td>365.126984</td>\n",
              "      <td>55.952381</td>\n",
              "      <td>65.222222</td>\n",
              "      <td>67.698413</td>\n",
              "      <td>54.031746</td>\n",
              "      <td>62.158730</td>\n",
              "      <td>60.063492</td>\n",
              "    </tr>\n",
              "  </tbody>\n",
              "</table>\n",
              "</div>"
            ],
            "text/plain": [
              "               Total         HP     Attack  ...    Sp. Atk    Sp. Def      Speed\n",
              "Type 1                                      ...                                 \n",
              "Dragon    443.941176  69.117647  96.647059  ...  65.176471  74.000000  67.941176\n",
              "Steel     432.666667  58.611111  86.277778  ...  60.166667  68.055556  46.888889\n",
              "Rock      426.052632  63.815789  86.789474  ...  58.947368  69.894737  50.552632\n",
              "Fire      423.380952  65.285714  79.023810  ...  79.476190  65.595238  73.071429\n",
              "Dark      418.961538  64.807692  84.384615  ...  65.692308  65.461538  72.576923\n",
              "Ice       412.523810  70.380952  71.000000  ...  73.619048  67.904762  61.333333\n",
              "Ghost     412.000000  57.545455  65.136364  ...  79.545455  75.409091  59.500000\n",
              "Water     410.549020  70.107843  70.245098  ...  70.000000  66.401961  64.225490\n",
              "Psychic   407.615385  67.871795  51.666667  ...  84.846154  78.025641  65.666667\n",
              "Electric  406.212121  57.060606  65.151515  ...  79.575758  65.696970  81.242424\n",
              "Ground    405.714286  70.821429  88.000000  ...  47.750000  59.571429  59.750000\n",
              "Fighting  404.360000  70.240000  94.720000  ...  48.560000  63.680000  62.880000\n",
              "Grass     403.921875  65.281250  70.156250  ...  73.687500  67.437500  58.515625\n",
              "Poison    399.142857  67.250000  74.678571  ...  60.428571  64.392857  63.571429\n",
              "Fairy     396.500000  70.875000  57.187500  ...  75.250000  83.875000  45.437500\n",
              "Flying    390.000000  62.500000  50.000000  ...  71.000000  60.000000  89.000000\n",
              "Normal    385.505495  75.681319  70.230769  ...  53.450549  60.835165  68.769231\n",
              "Bug       365.126984  55.952381  65.222222  ...  54.031746  62.158730  60.063492\n",
              "\n",
              "[18 rows x 7 columns]"
            ]
          },
          "metadata": {
            "tags": []
          },
          "execution_count": 17
        }
      ]
    },
    {
      "cell_type": "markdown",
      "metadata": {
        "id": "NTDvr7AP8FL9",
        "colab_type": "text"
      },
      "source": [
        "### Here are the strongest dual-type Pokemon ranked by their Total statistic. Certain types like Psychic, Fighting, Steel appear a couple times throughout the top 20 dual-type Pokemon. "
      ]
    },
    {
      "cell_type": "code",
      "metadata": {
        "id": "gc4cgEr3-jlS",
        "colab_type": "code",
        "outputId": "dbefd337-2f18-47a3-b1d2-c4e9035d7f29",
        "colab": {
          "base_uri": "https://localhost:8080/",
          "height": 700
        }
      },
      "source": [
        "pokemonNormal.groupby(['Type 1','Type 2'])['Total', 'HP', 'Attack', 'Defense', 'Sp. Atk', 'Sp. Def', 'Speed'].mean().sort_values(['Total'], ascending=False).head(20)"
      ],
      "execution_count": 18,
      "outputs": [
        {
          "output_type": "execute_result",
          "data": {
            "text/html": [
              "<div>\n",
              "<style scoped>\n",
              "    .dataframe tbody tr th:only-of-type {\n",
              "        vertical-align: middle;\n",
              "    }\n",
              "\n",
              "    .dataframe tbody tr th {\n",
              "        vertical-align: top;\n",
              "    }\n",
              "\n",
              "    .dataframe thead th {\n",
              "        text-align: right;\n",
              "    }\n",
              "</style>\n",
              "<table border=\"1\" class=\"dataframe\">\n",
              "  <thead>\n",
              "    <tr style=\"text-align: right;\">\n",
              "      <th></th>\n",
              "      <th></th>\n",
              "      <th>Total</th>\n",
              "      <th>HP</th>\n",
              "      <th>Attack</th>\n",
              "      <th>Defense</th>\n",
              "      <th>Sp. Atk</th>\n",
              "      <th>Sp. Def</th>\n",
              "      <th>Speed</th>\n",
              "    </tr>\n",
              "    <tr>\n",
              "      <th>Type 1</th>\n",
              "      <th>Type 2</th>\n",
              "      <th></th>\n",
              "      <th></th>\n",
              "      <th></th>\n",
              "      <th></th>\n",
              "      <th></th>\n",
              "      <th></th>\n",
              "      <th></th>\n",
              "    </tr>\n",
              "  </thead>\n",
              "  <tbody>\n",
              "    <tr>\n",
              "      <th>Psychic</th>\n",
              "      <th>Grass</th>\n",
              "      <td>600.000000</td>\n",
              "      <td>100.0</td>\n",
              "      <td>100.000000</td>\n",
              "      <td>100.000000</td>\n",
              "      <td>100.000000</td>\n",
              "      <td>100.000000</td>\n",
              "      <td>100.000000</td>\n",
              "    </tr>\n",
              "    <tr>\n",
              "      <th>Rock</th>\n",
              "      <th>Dark</th>\n",
              "      <td>600.000000</td>\n",
              "      <td>100.0</td>\n",
              "      <td>134.000000</td>\n",
              "      <td>110.000000</td>\n",
              "      <td>95.000000</td>\n",
              "      <td>100.000000</td>\n",
              "      <td>61.000000</td>\n",
              "    </tr>\n",
              "    <tr>\n",
              "      <th>Dragon</th>\n",
              "      <th>Flying</th>\n",
              "      <td>563.333333</td>\n",
              "      <td>87.0</td>\n",
              "      <td>113.000000</td>\n",
              "      <td>88.333333</td>\n",
              "      <td>93.333333</td>\n",
              "      <td>95.000000</td>\n",
              "      <td>86.666667</td>\n",
              "    </tr>\n",
              "    <tr>\n",
              "      <th rowspan=\"2\" valign=\"top\">Water</th>\n",
              "      <th>Fighting</th>\n",
              "      <td>545.000000</td>\n",
              "      <td>90.5</td>\n",
              "      <td>83.500000</td>\n",
              "      <td>92.500000</td>\n",
              "      <td>99.500000</td>\n",
              "      <td>90.000000</td>\n",
              "      <td>89.000000</td>\n",
              "    </tr>\n",
              "    <tr>\n",
              "      <th>Dragon</th>\n",
              "      <td>540.000000</td>\n",
              "      <td>75.0</td>\n",
              "      <td>95.000000</td>\n",
              "      <td>95.000000</td>\n",
              "      <td>95.000000</td>\n",
              "      <td>95.000000</td>\n",
              "      <td>85.000000</td>\n",
              "    </tr>\n",
              "    <tr>\n",
              "      <th>Fire</th>\n",
              "      <th>Psychic</th>\n",
              "      <td>534.000000</td>\n",
              "      <td>75.0</td>\n",
              "      <td>69.000000</td>\n",
              "      <td>72.000000</td>\n",
              "      <td>114.000000</td>\n",
              "      <td>100.000000</td>\n",
              "      <td>104.000000</td>\n",
              "    </tr>\n",
              "    <tr>\n",
              "      <th>Water</th>\n",
              "      <th>Steel</th>\n",
              "      <td>530.000000</td>\n",
              "      <td>84.0</td>\n",
              "      <td>86.000000</td>\n",
              "      <td>88.000000</td>\n",
              "      <td>111.000000</td>\n",
              "      <td>101.000000</td>\n",
              "      <td>60.000000</td>\n",
              "    </tr>\n",
              "    <tr>\n",
              "      <th>Normal</th>\n",
              "      <th>Psychic</th>\n",
              "      <td>527.500000</td>\n",
              "      <td>85.0</td>\n",
              "      <td>78.500000</td>\n",
              "      <td>71.000000</td>\n",
              "      <td>109.000000</td>\n",
              "      <td>96.500000</td>\n",
              "      <td>87.500000</td>\n",
              "    </tr>\n",
              "    <tr>\n",
              "      <th>Grass</th>\n",
              "      <th>Ground</th>\n",
              "      <td>525.000000</td>\n",
              "      <td>95.0</td>\n",
              "      <td>109.000000</td>\n",
              "      <td>105.000000</td>\n",
              "      <td>75.000000</td>\n",
              "      <td>85.000000</td>\n",
              "      <td>56.000000</td>\n",
              "    </tr>\n",
              "    <tr>\n",
              "      <th>Fighting</th>\n",
              "      <th>Steel</th>\n",
              "      <td>525.000000</td>\n",
              "      <td>70.0</td>\n",
              "      <td>110.000000</td>\n",
              "      <td>70.000000</td>\n",
              "      <td>115.000000</td>\n",
              "      <td>70.000000</td>\n",
              "      <td>90.000000</td>\n",
              "    </tr>\n",
              "    <tr>\n",
              "      <th>Psychic</th>\n",
              "      <th>Fighting</th>\n",
              "      <td>518.000000</td>\n",
              "      <td>68.0</td>\n",
              "      <td>125.000000</td>\n",
              "      <td>65.000000</td>\n",
              "      <td>65.000000</td>\n",
              "      <td>115.000000</td>\n",
              "      <td>80.000000</td>\n",
              "    </tr>\n",
              "    <tr>\n",
              "      <th>Water</th>\n",
              "      <th>Ice</th>\n",
              "      <td>511.666667</td>\n",
              "      <td>90.0</td>\n",
              "      <td>83.333333</td>\n",
              "      <td>113.333333</td>\n",
              "      <td>80.000000</td>\n",
              "      <td>78.333333</td>\n",
              "      <td>66.666667</td>\n",
              "    </tr>\n",
              "    <tr>\n",
              "      <th>Steel</th>\n",
              "      <th>Ground</th>\n",
              "      <td>510.000000</td>\n",
              "      <td>75.0</td>\n",
              "      <td>85.000000</td>\n",
              "      <td>200.000000</td>\n",
              "      <td>55.000000</td>\n",
              "      <td>65.000000</td>\n",
              "      <td>30.000000</td>\n",
              "    </tr>\n",
              "    <tr>\n",
              "      <th>Bug</th>\n",
              "      <th>Steel</th>\n",
              "      <td>508.800000</td>\n",
              "      <td>68.8</td>\n",
              "      <td>116.800000</td>\n",
              "      <td>110.400000</td>\n",
              "      <td>68.600000</td>\n",
              "      <td>77.600000</td>\n",
              "      <td>66.600000</td>\n",
              "    </tr>\n",
              "    <tr>\n",
              "      <th>Ground</th>\n",
              "      <th>Steel</th>\n",
              "      <td>508.000000</td>\n",
              "      <td>110.0</td>\n",
              "      <td>135.000000</td>\n",
              "      <td>60.000000</td>\n",
              "      <td>50.000000</td>\n",
              "      <td>65.000000</td>\n",
              "      <td>88.000000</td>\n",
              "    </tr>\n",
              "    <tr>\n",
              "      <th>Poison</th>\n",
              "      <th>Ground</th>\n",
              "      <td>505.000000</td>\n",
              "      <td>85.5</td>\n",
              "      <td>97.000000</td>\n",
              "      <td>82.000000</td>\n",
              "      <td>80.000000</td>\n",
              "      <td>80.000000</td>\n",
              "      <td>80.500000</td>\n",
              "    </tr>\n",
              "    <tr>\n",
              "      <th>Fighting</th>\n",
              "      <th>Flying</th>\n",
              "      <td>500.000000</td>\n",
              "      <td>78.0</td>\n",
              "      <td>92.000000</td>\n",
              "      <td>75.000000</td>\n",
              "      <td>74.000000</td>\n",
              "      <td>63.000000</td>\n",
              "      <td>118.000000</td>\n",
              "    </tr>\n",
              "    <tr>\n",
              "      <th>Rock</th>\n",
              "      <th>Fairy</th>\n",
              "      <td>500.000000</td>\n",
              "      <td>50.0</td>\n",
              "      <td>50.000000</td>\n",
              "      <td>150.000000</td>\n",
              "      <td>50.000000</td>\n",
              "      <td>150.000000</td>\n",
              "      <td>50.000000</td>\n",
              "    </tr>\n",
              "    <tr>\n",
              "      <th>Bug</th>\n",
              "      <th>Fighting</th>\n",
              "      <td>500.000000</td>\n",
              "      <td>80.0</td>\n",
              "      <td>125.000000</td>\n",
              "      <td>75.000000</td>\n",
              "      <td>40.000000</td>\n",
              "      <td>95.000000</td>\n",
              "      <td>85.000000</td>\n",
              "    </tr>\n",
              "    <tr>\n",
              "      <th>Fighting</th>\n",
              "      <th>Dark</th>\n",
              "      <td>495.000000</td>\n",
              "      <td>95.0</td>\n",
              "      <td>124.000000</td>\n",
              "      <td>78.000000</td>\n",
              "      <td>69.000000</td>\n",
              "      <td>71.000000</td>\n",
              "      <td>58.000000</td>\n",
              "    </tr>\n",
              "  </tbody>\n",
              "</table>\n",
              "</div>"
            ],
            "text/plain": [
              "                        Total     HP  ...     Sp. Def       Speed\n",
              "Type 1   Type 2                       ...                        \n",
              "Psychic  Grass     600.000000  100.0  ...  100.000000  100.000000\n",
              "Rock     Dark      600.000000  100.0  ...  100.000000   61.000000\n",
              "Dragon   Flying    563.333333   87.0  ...   95.000000   86.666667\n",
              "Water    Fighting  545.000000   90.5  ...   90.000000   89.000000\n",
              "         Dragon    540.000000   75.0  ...   95.000000   85.000000\n",
              "Fire     Psychic   534.000000   75.0  ...  100.000000  104.000000\n",
              "Water    Steel     530.000000   84.0  ...  101.000000   60.000000\n",
              "Normal   Psychic   527.500000   85.0  ...   96.500000   87.500000\n",
              "Grass    Ground    525.000000   95.0  ...   85.000000   56.000000\n",
              "Fighting Steel     525.000000   70.0  ...   70.000000   90.000000\n",
              "Psychic  Fighting  518.000000   68.0  ...  115.000000   80.000000\n",
              "Water    Ice       511.666667   90.0  ...   78.333333   66.666667\n",
              "Steel    Ground    510.000000   75.0  ...   65.000000   30.000000\n",
              "Bug      Steel     508.800000   68.8  ...   77.600000   66.600000\n",
              "Ground   Steel     508.000000  110.0  ...   65.000000   88.000000\n",
              "Poison   Ground    505.000000   85.5  ...   80.000000   80.500000\n",
              "Fighting Flying    500.000000   78.0  ...   63.000000  118.000000\n",
              "Rock     Fairy     500.000000   50.0  ...  150.000000   50.000000\n",
              "Bug      Fighting  500.000000   80.0  ...   95.000000   85.000000\n",
              "Fighting Dark      495.000000   95.0  ...   71.000000   58.000000\n",
              "\n",
              "[20 rows x 7 columns]"
            ]
          },
          "metadata": {
            "tags": []
          },
          "execution_count": 18
        }
      ]
    },
    {
      "cell_type": "markdown",
      "metadata": {
        "id": "atTPqea9BHtn",
        "colab_type": "text"
      },
      "source": [
        "## Next, we'll take a look at how the Type of the Pokemon may interact differently with each of our numeric metrics."
      ]
    },
    {
      "cell_type": "markdown",
      "metadata": {
        "id": "COlZ60DK8nVA",
        "colab_type": "text"
      },
      "source": [
        "### Type 1 vs. Total:\n",
        "- Fighting and Ice type Pokemon have the highest average Total.\n",
        "- Flying and Fairy type Pokemon have the lowest average Total."
      ]
    },
    {
      "cell_type": "code",
      "metadata": {
        "id": "2I5cAvG8dAoO",
        "colab_type": "code",
        "outputId": "96ec7299-69f7-4ab0-8511-6751d10c5d36",
        "colab": {
          "base_uri": "https://localhost:8080/",
          "height": 343
        }
      },
      "source": [
        "sns.boxplot(x='Type 1', y='Total', data=pokemonNormal)\n",
        "plt.xticks(rotation=45)"
      ],
      "execution_count": 19,
      "outputs": [
        {
          "output_type": "execute_result",
          "data": {
            "text/plain": [
              "(array([ 0,  1,  2,  3,  4,  5,  6,  7,  8,  9, 10, 11, 12, 13, 14, 15, 16,\n",
              "        17]), <a list of 18 Text xticklabel objects>)"
            ]
          },
          "metadata": {
            "tags": []
          },
          "execution_count": 19
        },
        {
          "output_type": "display_data",
          "data": {
            "image/png": "[encoded data removed]",
            "text/plain": [
              "<Figure size 432x288 with 1 Axes>"
            ]
          },
          "metadata": {
            "tags": []
          }
        }
      ]
    },
    {
      "cell_type": "markdown",
      "metadata": {
        "id": "MlZ70OQo9G4P",
        "colab_type": "text"
      },
      "source": [
        "### Type 1 vs. HP:\n",
        "- Fairy and Normal type Pokemon have the highest average HP.\n",
        "- Bug, Electric, and Ghost type Pokemon have the lowest average HP. "
      ]
    },
    {
      "cell_type": "code",
      "metadata": {
        "id": "IpvKEgiTdAoW",
        "colab_type": "code",
        "outputId": "bf8ffb64-193c-4a1e-ece3-ee6d11e379a7",
        "colab": {
          "base_uri": "https://localhost:8080/",
          "height": 326
        }
      },
      "source": [
        "sns.boxplot(x='Type 1', y='HP', data=pokemonNormal)\n",
        "plt.xticks(rotation = 45)\n",
        "plt.ylim((0,150))"
      ],
      "execution_count": 20,
      "outputs": [
        {
          "output_type": "execute_result",
          "data": {
            "text/plain": [
              "(0, 150)"
            ]
          },
          "metadata": {
            "tags": []
          },
          "execution_count": 20
        },
        {
          "output_type": "display_data",
          "data": {
            "image/png": "[encoded data removed]",
            "text/plain": [
              "<Figure size 432x288 with 1 Axes>"
            ]
          },
          "metadata": {
            "tags": []
          }
        }
      ]
    },
    {
      "cell_type": "code",
      "metadata": {
        "id": "E8yXfErZRfJS",
        "colab_type": "code",
        "outputId": "0d9fd170-858b-43e2-8801-5c5175508e50",
        "colab": {
          "base_uri": "https://localhost:8080/",
          "height": 326
        }
      },
      "source": [
        "sns.boxplot(x='Type 2', y='HP', data=pokemonNormal)\n",
        "plt.xticks(rotation = 45)\n",
        "plt.ylim((0,150))"
      ],
      "execution_count": 21,
      "outputs": [
        {
          "output_type": "execute_result",
          "data": {
            "text/plain": [
              "(0, 150)"
            ]
          },
          "metadata": {
            "tags": []
          },
          "execution_count": 21
        },
        {
          "output_type": "display_data",
          "data": {
            "image/png": "[encoded data removed]",
            "text/plain": [
              "<Figure size 432x288 with 1 Axes>"
            ]
          },
          "metadata": {
            "tags": []
          }
        }
      ]
    },
    {
      "cell_type": "markdown",
      "metadata": {
        "id": "1X_iEuh09riV",
        "colab_type": "text"
      },
      "source": [
        "### Type 1 vs. Attack:\n",
        "- Fighting and Dragon type Pokemon have the highest average Attack.\n",
        "- Flying, Psychic, and Fairy type Pokemon have the lowest average Attack."
      ]
    },
    {
      "cell_type": "code",
      "metadata": {
        "id": "IsmCb-cZdAod",
        "colab_type": "code",
        "outputId": "8da1505c-4287-4288-9bd9-ce17560d2524",
        "colab": {
          "base_uri": "https://localhost:8080/",
          "height": 326
        }
      },
      "source": [
        "sns.boxplot(x='Type 1', y='Attack', data=pokemonNormal)\n",
        "plt.xticks(rotation = 45)\n",
        "plt.ylim((0,200))"
      ],
      "execution_count": 22,
      "outputs": [
        {
          "output_type": "execute_result",
          "data": {
            "text/plain": [
              "(0, 200)"
            ]
          },
          "metadata": {
            "tags": []
          },
          "execution_count": 22
        },
        {
          "output_type": "display_data",
          "data": {
            "image/png": "[encoded data removed]",
            "text/plain": [
              "<Figure size 432x288 with 1 Axes>"
            ]
          },
          "metadata": {
            "tags": []
          }
        }
      ]
    },
    {
      "cell_type": "markdown",
      "metadata": {
        "id": "0gIc9GeB982k",
        "colab_type": "text"
      },
      "source": [
        "### Type 1 vs. Defense:\n",
        "- Steel and Rock type Pokemon have the highest average Defense.\n",
        "- Psychic and Flying type Pokemon have the lowest average Defense."
      ]
    },
    {
      "cell_type": "code",
      "metadata": {
        "id": "nLTb4zOUdAop",
        "colab_type": "code",
        "outputId": "48b7cbb7-9f36-4071-e58e-08799553628c",
        "colab": {
          "base_uri": "https://localhost:8080/",
          "height": 326
        }
      },
      "source": [
        "sns.boxplot(x='Type 1', y='Defense', data=pokemonNormal)\n",
        "plt.xticks(rotation = 45)\n",
        "plt.ylim((0,210))"
      ],
      "execution_count": 23,
      "outputs": [
        {
          "output_type": "execute_result",
          "data": {
            "text/plain": [
              "(0, 210)"
            ]
          },
          "metadata": {
            "tags": []
          },
          "execution_count": 23
        },
        {
          "output_type": "display_data",
          "data": {
            "image/png": "[encoded data removed]",
            "text/plain": [
              "<Figure size 432x288 with 1 Axes>"
            ]
          },
          "metadata": {
            "tags": []
          }
        }
      ]
    },
    {
      "cell_type": "markdown",
      "metadata": {
        "id": "BwzVIrYg-Qhf",
        "colab_type": "text"
      },
      "source": [
        "### Type 1 vs. Speed: \n",
        "- Flying and Electric type Pokemon have the highest average Speed.\n",
        "- Fairy, Rock, and Steel type Pokemon have the lowest average Speed."
      ]
    },
    {
      "cell_type": "code",
      "metadata": {
        "id": "mhGk4eYKdAo2",
        "colab_type": "code",
        "outputId": "da1ad380-82d5-43ba-f93a-cfbdbb3a08b7",
        "colab": {
          "base_uri": "https://localhost:8080/",
          "height": 343
        }
      },
      "source": [
        "sns.boxplot(x='Type 1', y='Speed', data=pokemonNormal)\n",
        "plt.xticks(rotation = 45)"
      ],
      "execution_count": 24,
      "outputs": [
        {
          "output_type": "execute_result",
          "data": {
            "text/plain": [
              "(array([ 0,  1,  2,  3,  4,  5,  6,  7,  8,  9, 10, 11, 12, 13, 14, 15, 16,\n",
              "        17]), <a list of 18 Text xticklabel objects>)"
            ]
          },
          "metadata": {
            "tags": []
          },
          "execution_count": 24
        },
        {
          "output_type": "display_data",
          "data": {
            "image/png": "[encoded data removed]",
            "text/plain": [
              "<Figure size 432x288 with 1 Axes>"
            ]
          },
          "metadata": {
            "tags": []
          }
        }
      ]
    },
    {
      "cell_type": "markdown",
      "metadata": {
        "id": "_-Jl4W_O-06L",
        "colab_type": "text"
      },
      "source": [
        "### In the boxplot of Generation vs. Total, it seems that all of the Generations have similar average Totals, except Generation 4 which has a significantly higher average Total. "
      ]
    },
    {
      "cell_type": "code",
      "metadata": {
        "id": "AznXX5ExpCxC",
        "colab_type": "code",
        "outputId": "098295f2-baf4-4dde-b5b8-334fb917408f",
        "colab": {
          "base_uri": "https://localhost:8080/",
          "height": 300
        }
      },
      "source": [
        "sns.boxplot(x='Generation', y='Total', data=pokemonNormal) #Each generation has a similar spread of numeric values"
      ],
      "execution_count": 25,
      "outputs": [
        {
          "output_type": "execute_result",
          "data": {
            "text/plain": [
              "<matplotlib.axes._subplots.AxesSubplot at 0x7f9ce7311748>"
            ]
          },
          "metadata": {
            "tags": []
          },
          "execution_count": 25
        },
        {
          "output_type": "display_data",
          "data": {
            "image/png": "[encoded data removed]",
            "text/plain": [
              "<Figure size 432x288 with 1 Axes>"
            ]
          },
          "metadata": {
            "tags": []
          }
        }
      ]
    },
    {
      "cell_type": "markdown",
      "metadata": {
        "id": "ops4MQszdAn4",
        "colab_type": "text"
      },
      "source": [
        "## (c) Do Pokemon with 1 type or 2 types have better baseline statistics overall? \n",
        "\n",
        "### We will first look individually at the Type 1 and Type 2 variables, then we will combine the two to view the overall popularity of each type. "
      ]
    },
    {
      "cell_type": "code",
      "metadata": {
        "id": "V35w9IhMGQma",
        "colab_type": "code",
        "outputId": "80a65714-49c1-433d-df66-96115dd35284",
        "colab": {
          "base_uri": "https://localhost:8080/",
          "height": 85
        }
      },
      "source": [
        "print(pokemonNormal['Type 1'].nunique())\n",
        "print(pokemonNormal['Type 1'].unique())"
      ],
      "execution_count": 26,
      "outputs": [
        {
          "output_type": "stream",
          "text": [
            "18\n",
            "['Grass' 'Fire' 'Water' 'Bug' 'Normal' 'Poison' 'Electric' 'Ground'\n",
            " 'Fairy' 'Fighting' 'Psychic' 'Rock' 'Ghost' 'Ice' 'Dragon' 'Dark' 'Steel'\n",
            " 'Flying']\n"
          ],
          "name": "stdout"
        }
      ]
    },
    {
      "cell_type": "markdown",
      "metadata": {
        "id": "z3ac1Q8tDRnL",
        "colab_type": "text"
      },
      "source": [
        "### What are the most common Type 1 of Pokemon?"
      ]
    },
    {
      "cell_type": "code",
      "metadata": {
        "id": "ruO1rW2QdAnj",
        "colab_type": "code",
        "outputId": "654a54af-a111-4186-f1d1-d98daa735038",
        "colab": {
          "base_uri": "https://localhost:8080/",
          "height": 340
        }
      },
      "source": [
        "num_Type1 = pokemonNormal['Type 1'].value_counts()\n",
        "num_Type1"
      ],
      "execution_count": 27,
      "outputs": [
        {
          "output_type": "execute_result",
          "data": {
            "text/plain": [
              "Water       102\n",
              "Normal       91\n",
              "Grass        64\n",
              "Bug          63\n",
              "Fire         42\n",
              "Psychic      39\n",
              "Rock         38\n",
              "Electric     33\n",
              "Ground       28\n",
              "Poison       28\n",
              "Dark         26\n",
              "Fighting     25\n",
              "Ghost        22\n",
              "Ice          21\n",
              "Steel        18\n",
              "Dragon       17\n",
              "Fairy        16\n",
              "Flying        2\n",
              "Name: Type 1, dtype: int64"
            ]
          },
          "metadata": {
            "tags": []
          },
          "execution_count": 27
        }
      ]
    },
    {
      "cell_type": "code",
      "metadata": {
        "id": "_pXADYEQdAn5",
        "colab_type": "code",
        "outputId": "ac9bbd47-071c-4a5e-e1d3-55553fcd9b3a",
        "colab": {
          "base_uri": "https://localhost:8080/",
          "height": 467
        }
      },
      "source": [
        "sns.factorplot(y='Type 1', data=pokemonNormal,kind='count', order=pokemonNormal['Type 1'].value_counts().index, aspect=1.5,\n",
        "               color='dodgerblue').set_axis_labels('# of Pokemon', 'Type 1')\n",
        "plt.title('What are the most common types of Pokemon? (Type 1)')"
      ],
      "execution_count": 28,
      "outputs": [
        {
          "output_type": "stream",
          "text": [
            "/usr/local/lib/python3.6/dist-packages/seaborn/categorical.py:3666: UserWarning: The `factorplot` function has been renamed to `catplot`. The original name will be removed in a future release. Please update your code. Note that the default `kind` in `factorplot` (`'point'`) has changed `'strip'` in `catplot`.\n",
            "  warnings.warn(msg)\n"
          ],
          "name": "stderr"
        },
        {
          "output_type": "execute_result",
          "data": {
            "text/plain": [
              "Text(0.5, 1.0, 'What are the most common types of Pokemon? (Type 1)')"
            ]
          },
          "metadata": {
            "tags": []
          },
          "execution_count": 28
        },
        {
          "output_type": "display_data",
          "data": {
            "image/png": "[encoded data removed]",
            "text/plain": [
              "<Figure size 540x360 with 1 Axes>"
            ]
          },
          "metadata": {
            "tags": []
          }
        }
      ]
    },
    {
      "cell_type": "markdown",
      "metadata": {
        "id": "PF8_VyOnAPfM",
        "colab_type": "text"
      },
      "source": [
        "#### Water and Normal are the most common types of Pokemon, with 102 and 91 Pokemon with those types in the Type 1 variable."
      ]
    },
    {
      "cell_type": "markdown",
      "metadata": {
        "id": "HZJ8SMP7Dqfe",
        "colab_type": "text"
      },
      "source": [
        "### What are the most common Type 2 of Pokemon?"
      ]
    },
    {
      "cell_type": "code",
      "metadata": {
        "id": "NzBDCKGQpkTM",
        "colab_type": "code",
        "outputId": "9dc8511f-19ca-43df-d3be-729a56d18d8c",
        "colab": {
          "base_uri": "https://localhost:8080/",
          "height": 357
        }
      },
      "source": [
        "num_Type2 = pokemonNormal['Type 2'].value_counts()\n",
        "num_Type2"
      ],
      "execution_count": 29,
      "outputs": [
        {
          "output_type": "execute_result",
          "data": {
            "text/plain": [
              "None        352\n",
              "Flying       78\n",
              "Poison       31\n",
              "Ground       29\n",
              "Psychic      24\n",
              "Grass        18\n",
              "Steel        18\n",
              "Fairy        17\n",
              "Fighting     16\n",
              "Dark         16\n",
              "Rock         14\n",
              "Water        12\n",
              "Ghost        11\n",
              "Dragon       11\n",
              "Ice           9\n",
              "Fire          7\n",
              "Electric      5\n",
              "Normal        4\n",
              "Bug           3\n",
              "Name: Type 2, dtype: int64"
            ]
          },
          "metadata": {
            "tags": []
          },
          "execution_count": 29
        }
      ]
    },
    {
      "cell_type": "code",
      "metadata": {
        "id": "w7pkZzLpdAn9",
        "colab_type": "code",
        "outputId": "1eccc81a-d83b-4bba-bd8c-ab85021052fb",
        "colab": {
          "base_uri": "https://localhost:8080/",
          "height": 467
        }
      },
      "source": [
        "sns.factorplot(y='Type 2', data=pokemonNormal, kind='count', order=pokemonNormal['Type 2'].value_counts().index, aspect=1.5,\n",
        "               color='purple').set_axis_labels('# of Pokemon', 'Type 2')\n",
        "plt.title('What are the most common Pokemon? (Type 2)')"
      ],
      "execution_count": 30,
      "outputs": [
        {
          "output_type": "stream",
          "text": [
            "/usr/local/lib/python3.6/dist-packages/seaborn/categorical.py:3666: UserWarning: The `factorplot` function has been renamed to `catplot`. The original name will be removed in a future release. Please update your code. Note that the default `kind` in `factorplot` (`'point'`) has changed `'strip'` in `catplot`.\n",
            "  warnings.warn(msg)\n"
          ],
          "name": "stderr"
        },
        {
          "output_type": "execute_result",
          "data": {
            "text/plain": [
              "Text(0.5, 1.0, 'What are the most common Pokemon? (Type 2)')"
            ]
          },
          "metadata": {
            "tags": []
          },
          "execution_count": 30
        },
        {
          "output_type": "display_data",
          "data": {
            "image/png": "[encoded data removed]",
            "text/plain": [
              "<Figure size 540x360 with 1 Axes>"
            ]
          },
          "metadata": {
            "tags": []
          }
        }
      ]
    },
    {
      "cell_type": "markdown",
      "metadata": {
        "id": "GZwSeJYsAdAU",
        "colab_type": "text"
      },
      "source": [
        "#### If a Pokemon has only 1 type, it will have a \"None\" in the Type 2 variable column. In the Type 2 variable, we see that overwhelmingly 352 Pokemon only have one type."
      ]
    },
    {
      "cell_type": "markdown",
      "metadata": {
        "id": "guV2htqMD3G9",
        "colab_type": "text"
      },
      "source": [
        "### To gain a more holistic understanding of the most common types, we will combine the frequencies of Type1 and Type2 into num_Types (number of Types). num_Types will take into account both Type 1 and Type 2 of each Pokemon. So, all Pokemon that have two types will be accounted for twice in this variable. With the table and graph, we can draw a complete understanding of what is the most commonly occurring type."
      ]
    },
    {
      "cell_type": "code",
      "metadata": {
        "id": "gOQuXwkgpwNC",
        "colab_type": "code",
        "outputId": "1694830c-fb5e-4174-b7ce-c322032ae501",
        "colab": {
          "base_uri": "https://localhost:8080/",
          "height": 340
        }
      },
      "source": [
        "num_Types = num_Type1 + num_Type2 #combined Type1 and Type2 into num_Types\n",
        "num_Types.sort_values(ascending=False).dropna()"
      ],
      "execution_count": 31,
      "outputs": [
        {
          "output_type": "execute_result",
          "data": {
            "text/plain": [
              "Water       114.0\n",
              "Normal       95.0\n",
              "Grass        82.0\n",
              "Flying       80.0\n",
              "Bug          66.0\n",
              "Psychic      63.0\n",
              "Poison       59.0\n",
              "Ground       57.0\n",
              "Rock         52.0\n",
              "Fire         49.0\n",
              "Dark         42.0\n",
              "Fighting     41.0\n",
              "Electric     38.0\n",
              "Steel        36.0\n",
              "Fairy        33.0\n",
              "Ghost        33.0\n",
              "Ice          30.0\n",
              "Dragon       28.0\n",
              "dtype: float64"
            ]
          },
          "metadata": {
            "tags": []
          },
          "execution_count": 31
        }
      ]
    },
    {
      "cell_type": "code",
      "metadata": {
        "id": "eg5cb-sZvXat",
        "colab_type": "code",
        "outputId": "47730106-3c54-4969-8095-f7132947dd82",
        "colab": {
          "base_uri": "https://localhost:8080/",
          "height": 312
        }
      },
      "source": [
        "num_Types.sort_values().dropna().plot(kind=\"barh\")\n",
        "plt.xlabel(\"Pokemon Type\")\n",
        "plt.ylabel(\"Count\")\n",
        "plt.title(\"What are the most common types of Pokemon? (Both Types)\")"
      ],
      "execution_count": 32,
      "outputs": [
        {
          "output_type": "execute_result",
          "data": {
            "text/plain": [
              "Text(0.5, 1.0, 'What are the most common types of Pokemon? (Both Types)')"
            ]
          },
          "metadata": {
            "tags": []
          },
          "execution_count": 32
        },
        {
          "output_type": "display_data",
          "data": {
            "image/png": "[encoded data removed]",
            "text/plain": [
              "<Figure size 432x288 with 1 Axes>"
            ]
          },
          "metadata": {
            "tags": []
          }
        }
      ]
    },
    {
      "cell_type": "markdown",
      "metadata": {
        "id": "X2q7zH5w_gCR",
        "colab_type": "text"
      },
      "source": [
        "#### Water types are the most common overall type with 114 different Pokemon sharing this type. Normal, Grass and Flying types fall not far behind at 95, 82, 80, respectively."
      ]
    },
    {
      "cell_type": "markdown",
      "metadata": {
        "id": "grDWB7kfyLPD",
        "colab_type": "text"
      },
      "source": [
        "### What is the most frequent combination of Pokemon that have 2 Types? "
      ]
    },
    {
      "cell_type": "code",
      "metadata": {
        "id": "D1cJxo5JBPM1",
        "colab_type": "code",
        "outputId": "d5142718-343d-43f3-adb7-344de85b32ae",
        "colab": {
          "base_uri": "https://localhost:8080/",
          "height": 119
        }
      },
      "source": [
        "pokemonNormal['All Types'] = pokemonNormal['Type 1'].str.cat(pokemonNormal['Type 2'],sep=\" \")\n",
        "\n",
        "# subset data to only Pokemons with 2 types\n",
        "twotypes = pokemonNormal[pokemonNormal['Type 2'] != 'None']"
      ],
      "execution_count": 33,
      "outputs": [
        {
          "output_type": "stream",
          "text": [
            "/usr/local/lib/python3.6/dist-packages/ipykernel_launcher.py:1: SettingWithCopyWarning: \n",
            "A value is trying to be set on a copy of a slice from a DataFrame.\n",
            "Try using .loc[row_indexer,col_indexer] = value instead\n",
            "\n",
            "See the caveats in the documentation: http://pandas.pydata.org/pandas-docs/stable/indexing.html#indexing-view-versus-copy\n",
            "  \"\"\"Entry point for launching an IPython kernel.\n"
          ],
          "name": "stderr"
        }
      ]
    },
    {
      "cell_type": "code",
      "metadata": {
        "id": "YE8v0luVCQVu",
        "colab_type": "code",
        "outputId": "fa108666-9285-4907-f09f-a9da1ba17e63",
        "colab": {
          "base_uri": "https://localhost:8080/",
          "height": 461
        }
      },
      "source": [
        "# Alphabetically sort WITHIN the 'All Types' column because the order of Pokemon Type does not matter (i.e.: Water Electric == Electric Water)\n",
        "twotypes['All Types'] = twotypes['All Types'].apply(lambda x: ' '.join(sorted(x.split())))\n",
        "twotypes.head(10)"
      ],
      "execution_count": 34,
      "outputs": [
        {
          "output_type": "stream",
          "text": [
            "/usr/local/lib/python3.6/dist-packages/ipykernel_launcher.py:1: SettingWithCopyWarning: \n",
            "A value is trying to be set on a copy of a slice from a DataFrame.\n",
            "Try using .loc[row_indexer,col_indexer] = value instead\n",
            "\n",
            "See the caveats in the documentation: http://pandas.pydata.org/pandas-docs/stable/indexing.html#indexing-view-versus-copy\n",
            "  \"\"\"Entry point for launching an IPython kernel.\n"
          ],
          "name": "stderr"
        },
        {
          "output_type": "execute_result",
          "data": {
            "text/html": [
              "<div>\n",
              "<style scoped>\n",
              "    .dataframe tbody tr th:only-of-type {\n",
              "        vertical-align: middle;\n",
              "    }\n",
              "\n",
              "    .dataframe tbody tr th {\n",
              "        vertical-align: top;\n",
              "    }\n",
              "\n",
              "    .dataframe thead th {\n",
              "        text-align: right;\n",
              "    }\n",
              "</style>\n",
              "<table border=\"1\" class=\"dataframe\">\n",
              "  <thead>\n",
              "    <tr style=\"text-align: right;\">\n",
              "      <th></th>\n",
              "      <th>id</th>\n",
              "      <th>Name</th>\n",
              "      <th>Type 1</th>\n",
              "      <th>Type 2</th>\n",
              "      <th>Total</th>\n",
              "      <th>HP</th>\n",
              "      <th>Attack</th>\n",
              "      <th>Defense</th>\n",
              "      <th>Sp. Atk</th>\n",
              "      <th>Sp. Def</th>\n",
              "      <th>Speed</th>\n",
              "      <th>Generation</th>\n",
              "      <th>Legendary</th>\n",
              "      <th>All Types</th>\n",
              "    </tr>\n",
              "  </thead>\n",
              "  <tbody>\n",
              "    <tr>\n",
              "      <th>0</th>\n",
              "      <td>1</td>\n",
              "      <td>Bulbasaur</td>\n",
              "      <td>Grass</td>\n",
              "      <td>Poison</td>\n",
              "      <td>318</td>\n",
              "      <td>45</td>\n",
              "      <td>49</td>\n",
              "      <td>49</td>\n",
              "      <td>65</td>\n",
              "      <td>65</td>\n",
              "      <td>45</td>\n",
              "      <td>1</td>\n",
              "      <td>False</td>\n",
              "      <td>Grass Poison</td>\n",
              "    </tr>\n",
              "    <tr>\n",
              "      <th>1</th>\n",
              "      <td>2</td>\n",
              "      <td>Ivysaur</td>\n",
              "      <td>Grass</td>\n",
              "      <td>Poison</td>\n",
              "      <td>405</td>\n",
              "      <td>60</td>\n",
              "      <td>62</td>\n",
              "      <td>63</td>\n",
              "      <td>80</td>\n",
              "      <td>80</td>\n",
              "      <td>60</td>\n",
              "      <td>1</td>\n",
              "      <td>False</td>\n",
              "      <td>Grass Poison</td>\n",
              "    </tr>\n",
              "    <tr>\n",
              "      <th>2</th>\n",
              "      <td>3</td>\n",
              "      <td>Venusaur</td>\n",
              "      <td>Grass</td>\n",
              "      <td>Poison</td>\n",
              "      <td>525</td>\n",
              "      <td>80</td>\n",
              "      <td>82</td>\n",
              "      <td>83</td>\n",
              "      <td>100</td>\n",
              "      <td>100</td>\n",
              "      <td>80</td>\n",
              "      <td>1</td>\n",
              "      <td>False</td>\n",
              "      <td>Grass Poison</td>\n",
              "    </tr>\n",
              "    <tr>\n",
              "      <th>6</th>\n",
              "      <td>6</td>\n",
              "      <td>Charizard</td>\n",
              "      <td>Fire</td>\n",
              "      <td>Flying</td>\n",
              "      <td>534</td>\n",
              "      <td>78</td>\n",
              "      <td>84</td>\n",
              "      <td>78</td>\n",
              "      <td>109</td>\n",
              "      <td>85</td>\n",
              "      <td>100</td>\n",
              "      <td>1</td>\n",
              "      <td>False</td>\n",
              "      <td>Fire Flying</td>\n",
              "    </tr>\n",
              "    <tr>\n",
              "      <th>15</th>\n",
              "      <td>12</td>\n",
              "      <td>Butterfree</td>\n",
              "      <td>Bug</td>\n",
              "      <td>Flying</td>\n",
              "      <td>395</td>\n",
              "      <td>60</td>\n",
              "      <td>45</td>\n",
              "      <td>50</td>\n",
              "      <td>90</td>\n",
              "      <td>80</td>\n",
              "      <td>70</td>\n",
              "      <td>1</td>\n",
              "      <td>False</td>\n",
              "      <td>Bug Flying</td>\n",
              "    </tr>\n",
              "    <tr>\n",
              "      <th>16</th>\n",
              "      <td>13</td>\n",
              "      <td>Weedle</td>\n",
              "      <td>Bug</td>\n",
              "      <td>Poison</td>\n",
              "      <td>195</td>\n",
              "      <td>40</td>\n",
              "      <td>35</td>\n",
              "      <td>30</td>\n",
              "      <td>20</td>\n",
              "      <td>20</td>\n",
              "      <td>50</td>\n",
              "      <td>1</td>\n",
              "      <td>False</td>\n",
              "      <td>Bug Poison</td>\n",
              "    </tr>\n",
              "    <tr>\n",
              "      <th>17</th>\n",
              "      <td>14</td>\n",
              "      <td>Kakuna</td>\n",
              "      <td>Bug</td>\n",
              "      <td>Poison</td>\n",
              "      <td>205</td>\n",
              "      <td>45</td>\n",
              "      <td>25</td>\n",
              "      <td>50</td>\n",
              "      <td>25</td>\n",
              "      <td>25</td>\n",
              "      <td>35</td>\n",
              "      <td>1</td>\n",
              "      <td>False</td>\n",
              "      <td>Bug Poison</td>\n",
              "    </tr>\n",
              "    <tr>\n",
              "      <th>18</th>\n",
              "      <td>15</td>\n",
              "      <td>Beedrill</td>\n",
              "      <td>Bug</td>\n",
              "      <td>Poison</td>\n",
              "      <td>395</td>\n",
              "      <td>65</td>\n",
              "      <td>90</td>\n",
              "      <td>40</td>\n",
              "      <td>45</td>\n",
              "      <td>80</td>\n",
              "      <td>75</td>\n",
              "      <td>1</td>\n",
              "      <td>False</td>\n",
              "      <td>Bug Poison</td>\n",
              "    </tr>\n",
              "    <tr>\n",
              "      <th>20</th>\n",
              "      <td>16</td>\n",
              "      <td>Pidgey</td>\n",
              "      <td>Normal</td>\n",
              "      <td>Flying</td>\n",
              "      <td>251</td>\n",
              "      <td>40</td>\n",
              "      <td>45</td>\n",
              "      <td>40</td>\n",
              "      <td>35</td>\n",
              "      <td>35</td>\n",
              "      <td>56</td>\n",
              "      <td>1</td>\n",
              "      <td>False</td>\n",
              "      <td>Flying Normal</td>\n",
              "    </tr>\n",
              "    <tr>\n",
              "      <th>21</th>\n",
              "      <td>17</td>\n",
              "      <td>Pidgeotto</td>\n",
              "      <td>Normal</td>\n",
              "      <td>Flying</td>\n",
              "      <td>349</td>\n",
              "      <td>63</td>\n",
              "      <td>60</td>\n",
              "      <td>55</td>\n",
              "      <td>50</td>\n",
              "      <td>50</td>\n",
              "      <td>71</td>\n",
              "      <td>1</td>\n",
              "      <td>False</td>\n",
              "      <td>Flying Normal</td>\n",
              "    </tr>\n",
              "  </tbody>\n",
              "</table>\n",
              "</div>"
            ],
            "text/plain": [
              "    id        Name  Type 1  Type 2  ...  Speed  Generation  Legendary      All Types\n",
              "0    1   Bulbasaur   Grass  Poison  ...     45           1      False   Grass Poison\n",
              "1    2     Ivysaur   Grass  Poison  ...     60           1      False   Grass Poison\n",
              "2    3    Venusaur   Grass  Poison  ...     80           1      False   Grass Poison\n",
              "6    6   Charizard    Fire  Flying  ...    100           1      False    Fire Flying\n",
              "15  12  Butterfree     Bug  Flying  ...     70           1      False     Bug Flying\n",
              "16  13      Weedle     Bug  Poison  ...     50           1      False     Bug Poison\n",
              "17  14      Kakuna     Bug  Poison  ...     35           1      False     Bug Poison\n",
              "18  15    Beedrill     Bug  Poison  ...     75           1      False     Bug Poison\n",
              "20  16      Pidgey  Normal  Flying  ...     56           1      False  Flying Normal\n",
              "21  17   Pidgeotto  Normal  Flying  ...     71           1      False  Flying Normal\n",
              "\n",
              "[10 rows x 14 columns]"
            ]
          },
          "metadata": {
            "tags": []
          },
          "execution_count": 34
        }
      ]
    },
    {
      "cell_type": "code",
      "metadata": {
        "id": "i9xbT-BPVcA7",
        "colab_type": "code",
        "outputId": "166c3f5f-8f08-427c-8421-304f8863a0c2",
        "colab": {
          "base_uri": "https://localhost:8080/",
          "height": 359
        }
      },
      "source": [
        "twotypes['All Types'].value_counts().sort_values(ascending=False).head(10).plot.bar()\n",
        "plt.title('What are the most frequent dual types of Pokemon?')"
      ],
      "execution_count": 35,
      "outputs": [
        {
          "output_type": "execute_result",
          "data": {
            "text/plain": [
              "Text(0.5, 1.0, 'What are the most frequent dual types of Pokemon?')"
            ]
          },
          "metadata": {
            "tags": []
          },
          "execution_count": 35
        },
        {
          "output_type": "display_data",
          "data": {
            "image/png": "[encoded data removed]",
            "text/plain": [
              "<Figure size 432x288 with 1 Axes>"
            ]
          },
          "metadata": {
            "tags": []
          }
        }
      ]
    },
    {
      "cell_type": "markdown",
      "metadata": {
        "id": "_sKvOVkDBZDU",
        "colab_type": "text"
      },
      "source": [
        "#### Flying paired with Normal is the most common dual-type Pokemon. The Normal type is actually a type in the video game. They are very common and frequently appear on the very first route you visit when playing the game."
      ]
    },
    {
      "cell_type": "markdown",
      "metadata": {
        "id": "qD0MaB0Usex9",
        "colab_type": "text"
      },
      "source": [
        "### Are those who have two types better in any way than those with just one type?"
      ]
    },
    {
      "cell_type": "markdown",
      "metadata": {
        "id": "GR36FJaEE18x",
        "colab_type": "text"
      },
      "source": [
        "#### ONE TYPE POKEMON: "
      ]
    },
    {
      "cell_type": "code",
      "metadata": {
        "id": "Uf38Cqqbkpru",
        "colab_type": "code",
        "outputId": "fd3b637f-0763-4c9b-c42e-c299f8192a89",
        "colab": {
          "base_uri": "https://localhost:8080/",
          "height": 286
        }
      },
      "source": [
        "has_one_type = pokemonNormal.loc[pokemonNormal['Type 2'] == 'None'] # Pokemon that only have ONE type\n",
        "has_one_type['Total'].hist(bins=30)"
      ],
      "execution_count": 36,
      "outputs": [
        {
          "output_type": "execute_result",
          "data": {
            "text/plain": [
              "<matplotlib.axes._subplots.AxesSubplot at 0x7f9ce738e390>"
            ]
          },
          "metadata": {
            "tags": []
          },
          "execution_count": 36
        },
        {
          "output_type": "display_data",
          "data": {
            "image/png": "[encoded data removed]",
            "text/plain": [
              "<Figure size 432x288 with 1 Axes>"
            ]
          },
          "metadata": {
            "tags": []
          }
        }
      ]
    },
    {
      "cell_type": "code",
      "metadata": {
        "id": "st9lNKaVzJlL",
        "colab_type": "code",
        "outputId": "d250716b-88a3-4f0f-cb14-e29721bd53a9",
        "colab": {
          "base_uri": "https://localhost:8080/",
          "height": 266
        }
      },
      "source": [
        "has_one_type.loc[has_one_type.Total > 550,].sort_values('Total', ascending=False) # Finding the strongest ONE type Pokemon"
      ],
      "execution_count": 37,
      "outputs": [
        {
          "output_type": "execute_result",
          "data": {
            "text/html": [
              "<div>\n",
              "<style scoped>\n",
              "    .dataframe tbody tr th:only-of-type {\n",
              "        vertical-align: middle;\n",
              "    }\n",
              "\n",
              "    .dataframe tbody tr th {\n",
              "        vertical-align: top;\n",
              "    }\n",
              "\n",
              "    .dataframe thead th {\n",
              "        text-align: right;\n",
              "    }\n",
              "</style>\n",
              "<table border=\"1\" class=\"dataframe\">\n",
              "  <thead>\n",
              "    <tr style=\"text-align: right;\">\n",
              "      <th></th>\n",
              "      <th>id</th>\n",
              "      <th>Name</th>\n",
              "      <th>Type 1</th>\n",
              "      <th>Type 2</th>\n",
              "      <th>Total</th>\n",
              "      <th>HP</th>\n",
              "      <th>Attack</th>\n",
              "      <th>Defense</th>\n",
              "      <th>Sp. Atk</th>\n",
              "      <th>Sp. Def</th>\n",
              "      <th>Speed</th>\n",
              "      <th>Generation</th>\n",
              "      <th>Legendary</th>\n",
              "      <th>All Types</th>\n",
              "    </tr>\n",
              "  </thead>\n",
              "  <tbody>\n",
              "    <tr>\n",
              "      <th>313</th>\n",
              "      <td>289</td>\n",
              "      <td>Slaking</td>\n",
              "      <td>Normal</td>\n",
              "      <td>None</td>\n",
              "      <td>670</td>\n",
              "      <td>150</td>\n",
              "      <td>160</td>\n",
              "      <td>100</td>\n",
              "      <td>95</td>\n",
              "      <td>65</td>\n",
              "      <td>100</td>\n",
              "      <td>3</td>\n",
              "      <td>False</td>\n",
              "      <td>Normal None</td>\n",
              "    </tr>\n",
              "    <tr>\n",
              "      <th>165</th>\n",
              "      <td>151</td>\n",
              "      <td>Mew</td>\n",
              "      <td>Psychic</td>\n",
              "      <td>None</td>\n",
              "      <td>600</td>\n",
              "      <td>100</td>\n",
              "      <td>100</td>\n",
              "      <td>100</td>\n",
              "      <td>100</td>\n",
              "      <td>100</td>\n",
              "      <td>100</td>\n",
              "      <td>1</td>\n",
              "      <td>False</td>\n",
              "      <td>Psychic None</td>\n",
              "    </tr>\n",
              "    <tr>\n",
              "      <th>546</th>\n",
              "      <td>488</td>\n",
              "      <td>Cresselia</td>\n",
              "      <td>Psychic</td>\n",
              "      <td>None</td>\n",
              "      <td>600</td>\n",
              "      <td>120</td>\n",
              "      <td>70</td>\n",
              "      <td>120</td>\n",
              "      <td>75</td>\n",
              "      <td>130</td>\n",
              "      <td>85</td>\n",
              "      <td>4</td>\n",
              "      <td>False</td>\n",
              "      <td>Psychic None</td>\n",
              "    </tr>\n",
              "    <tr>\n",
              "      <th>548</th>\n",
              "      <td>490</td>\n",
              "      <td>Manaphy</td>\n",
              "      <td>Water</td>\n",
              "      <td>None</td>\n",
              "      <td>600</td>\n",
              "      <td>100</td>\n",
              "      <td>100</td>\n",
              "      <td>100</td>\n",
              "      <td>100</td>\n",
              "      <td>100</td>\n",
              "      <td>100</td>\n",
              "      <td>4</td>\n",
              "      <td>False</td>\n",
              "      <td>Water None</td>\n",
              "    </tr>\n",
              "    <tr>\n",
              "      <th>776</th>\n",
              "      <td>706</td>\n",
              "      <td>Goodra</td>\n",
              "      <td>Dragon</td>\n",
              "      <td>None</td>\n",
              "      <td>600</td>\n",
              "      <td>90</td>\n",
              "      <td>100</td>\n",
              "      <td>70</td>\n",
              "      <td>110</td>\n",
              "      <td>150</td>\n",
              "      <td>80</td>\n",
              "      <td>6</td>\n",
              "      <td>False</td>\n",
              "      <td>Dragon None</td>\n",
              "    </tr>\n",
              "    <tr>\n",
              "      <th>64</th>\n",
              "      <td>59</td>\n",
              "      <td>Arcanine</td>\n",
              "      <td>Fire</td>\n",
              "      <td>None</td>\n",
              "      <td>555</td>\n",
              "      <td>90</td>\n",
              "      <td>110</td>\n",
              "      <td>80</td>\n",
              "      <td>100</td>\n",
              "      <td>80</td>\n",
              "      <td>95</td>\n",
              "      <td>1</td>\n",
              "      <td>False</td>\n",
              "      <td>Fire None</td>\n",
              "    </tr>\n",
              "    <tr>\n",
              "      <th>739</th>\n",
              "      <td>671</td>\n",
              "      <td>Florges</td>\n",
              "      <td>Fairy</td>\n",
              "      <td>None</td>\n",
              "      <td>552</td>\n",
              "      <td>78</td>\n",
              "      <td>65</td>\n",
              "      <td>68</td>\n",
              "      <td>112</td>\n",
              "      <td>154</td>\n",
              "      <td>75</td>\n",
              "      <td>6</td>\n",
              "      <td>False</td>\n",
              "      <td>Fairy None</td>\n",
              "    </tr>\n",
              "  </tbody>\n",
              "</table>\n",
              "</div>"
            ],
            "text/plain": [
              "      id       Name   Type 1 Type 2  ...  Speed  Generation  Legendary     All Types\n",
              "313  289    Slaking   Normal   None  ...    100           3      False   Normal None\n",
              "165  151        Mew  Psychic   None  ...    100           1      False  Psychic None\n",
              "546  488  Cresselia  Psychic   None  ...     85           4      False  Psychic None\n",
              "548  490    Manaphy    Water   None  ...    100           4      False    Water None\n",
              "776  706     Goodra   Dragon   None  ...     80           6      False   Dragon None\n",
              "64    59   Arcanine     Fire   None  ...     95           1      False     Fire None\n",
              "739  671    Florges    Fairy   None  ...     75           6      False    Fairy None\n",
              "\n",
              "[7 rows x 14 columns]"
            ]
          },
          "metadata": {
            "tags": []
          },
          "execution_count": 37
        }
      ]
    },
    {
      "cell_type": "markdown",
      "metadata": {
        "id": "qZ74BfINE5NK",
        "colab_type": "text"
      },
      "source": [
        "#### TWO TYPE POKEMON:"
      ]
    },
    {
      "cell_type": "code",
      "metadata": {
        "id": "qcx8YOoAzCe2",
        "colab_type": "code",
        "outputId": "93fe28d0-5d46-4e18-9cba-3beb659ce7a6",
        "colab": {
          "base_uri": "https://localhost:8080/",
          "height": 286
        }
      },
      "source": [
        "has_two_types = pokemonNormal.loc[pokemonNormal['Type 2'] != 'None'] # Pokemon that have TWO types\n",
        "has_two_types['Total'].hist(bins=30)"
      ],
      "execution_count": 38,
      "outputs": [
        {
          "output_type": "execute_result",
          "data": {
            "text/plain": [
              "<matplotlib.axes._subplots.AxesSubplot at 0x7f9ce725b470>"
            ]
          },
          "metadata": {
            "tags": []
          },
          "execution_count": 38
        },
        {
          "output_type": "display_data",
          "data": {
            "image/png": "[encoded data removed]",
            "text/plain": [
              "<Figure size 432x288 with 1 Axes>"
            ]
          },
          "metadata": {
            "tags": []
          }
        }
      ]
    },
    {
      "cell_type": "code",
      "metadata": {
        "id": "0WdXSFfjz7oy",
        "colab_type": "code",
        "outputId": "32f52a8b-a28a-4990-dfca-af5dd2558211",
        "colab": {
          "base_uri": "https://localhost:8080/",
          "height": 390
        }
      },
      "source": [
        "has_two_types.loc[has_two_types.Total > 550,].sort_values('Total', ascending=False) # All of the TWO type Pokemon with the highest Total are MegaEvolved."
      ],
      "execution_count": 39,
      "outputs": [
        {
          "output_type": "execute_result",
          "data": {
            "text/html": [
              "<div>\n",
              "<style scoped>\n",
              "    .dataframe tbody tr th:only-of-type {\n",
              "        vertical-align: middle;\n",
              "    }\n",
              "\n",
              "    .dataframe tbody tr th {\n",
              "        vertical-align: top;\n",
              "    }\n",
              "\n",
              "    .dataframe thead th {\n",
              "        text-align: right;\n",
              "    }\n",
              "</style>\n",
              "<table border=\"1\" class=\"dataframe\">\n",
              "  <thead>\n",
              "    <tr style=\"text-align: right;\">\n",
              "      <th></th>\n",
              "      <th>id</th>\n",
              "      <th>Name</th>\n",
              "      <th>Type 1</th>\n",
              "      <th>Type 2</th>\n",
              "      <th>Total</th>\n",
              "      <th>HP</th>\n",
              "      <th>Attack</th>\n",
              "      <th>Defense</th>\n",
              "      <th>Sp. Atk</th>\n",
              "      <th>Sp. Def</th>\n",
              "      <th>Speed</th>\n",
              "      <th>Generation</th>\n",
              "      <th>Legendary</th>\n",
              "      <th>All Types</th>\n",
              "    </tr>\n",
              "  </thead>\n",
              "  <tbody>\n",
              "    <tr>\n",
              "      <th>161</th>\n",
              "      <td>149</td>\n",
              "      <td>Dragonite</td>\n",
              "      <td>Dragon</td>\n",
              "      <td>Flying</td>\n",
              "      <td>600</td>\n",
              "      <td>91</td>\n",
              "      <td>134</td>\n",
              "      <td>95</td>\n",
              "      <td>100</td>\n",
              "      <td>100</td>\n",
              "      <td>80</td>\n",
              "      <td>1</td>\n",
              "      <td>False</td>\n",
              "      <td>Dragon Flying</td>\n",
              "    </tr>\n",
              "    <tr>\n",
              "      <th>267</th>\n",
              "      <td>248</td>\n",
              "      <td>Tyranitar</td>\n",
              "      <td>Rock</td>\n",
              "      <td>Dark</td>\n",
              "      <td>600</td>\n",
              "      <td>100</td>\n",
              "      <td>134</td>\n",
              "      <td>110</td>\n",
              "      <td>95</td>\n",
              "      <td>100</td>\n",
              "      <td>61</td>\n",
              "      <td>2</td>\n",
              "      <td>False</td>\n",
              "      <td>Rock Dark</td>\n",
              "    </tr>\n",
              "    <tr>\n",
              "      <th>271</th>\n",
              "      <td>251</td>\n",
              "      <td>Celebi</td>\n",
              "      <td>Psychic</td>\n",
              "      <td>Grass</td>\n",
              "      <td>600</td>\n",
              "      <td>100</td>\n",
              "      <td>100</td>\n",
              "      <td>100</td>\n",
              "      <td>100</td>\n",
              "      <td>100</td>\n",
              "      <td>100</td>\n",
              "      <td>2</td>\n",
              "      <td>False</td>\n",
              "      <td>Psychic Grass</td>\n",
              "    </tr>\n",
              "    <tr>\n",
              "      <th>408</th>\n",
              "      <td>373</td>\n",
              "      <td>Salamence</td>\n",
              "      <td>Dragon</td>\n",
              "      <td>Flying</td>\n",
              "      <td>600</td>\n",
              "      <td>95</td>\n",
              "      <td>135</td>\n",
              "      <td>80</td>\n",
              "      <td>110</td>\n",
              "      <td>80</td>\n",
              "      <td>100</td>\n",
              "      <td>3</td>\n",
              "      <td>False</td>\n",
              "      <td>Dragon Flying</td>\n",
              "    </tr>\n",
              "    <tr>\n",
              "      <th>412</th>\n",
              "      <td>376</td>\n",
              "      <td>Metagross</td>\n",
              "      <td>Steel</td>\n",
              "      <td>Psychic</td>\n",
              "      <td>600</td>\n",
              "      <td>80</td>\n",
              "      <td>135</td>\n",
              "      <td>130</td>\n",
              "      <td>95</td>\n",
              "      <td>90</td>\n",
              "      <td>70</td>\n",
              "      <td>3</td>\n",
              "      <td>False</td>\n",
              "      <td>Steel Psychic</td>\n",
              "    </tr>\n",
              "    <tr>\n",
              "      <th>493</th>\n",
              "      <td>445</td>\n",
              "      <td>Garchomp</td>\n",
              "      <td>Dragon</td>\n",
              "      <td>Ground</td>\n",
              "      <td>600</td>\n",
              "      <td>108</td>\n",
              "      <td>130</td>\n",
              "      <td>95</td>\n",
              "      <td>80</td>\n",
              "      <td>85</td>\n",
              "      <td>102</td>\n",
              "      <td>4</td>\n",
              "      <td>False</td>\n",
              "      <td>Dragon Ground</td>\n",
              "    </tr>\n",
              "    <tr>\n",
              "      <th>696</th>\n",
              "      <td>635</td>\n",
              "      <td>Hydreigon</td>\n",
              "      <td>Dark</td>\n",
              "      <td>Dragon</td>\n",
              "      <td>600</td>\n",
              "      <td>92</td>\n",
              "      <td>105</td>\n",
              "      <td>90</td>\n",
              "      <td>125</td>\n",
              "      <td>90</td>\n",
              "      <td>98</td>\n",
              "      <td>5</td>\n",
              "      <td>False</td>\n",
              "      <td>Dark Dragon</td>\n",
              "    </tr>\n",
              "    <tr>\n",
              "      <th>715</th>\n",
              "      <td>648</td>\n",
              "      <td>MeloettaAria Forme</td>\n",
              "      <td>Normal</td>\n",
              "      <td>Psychic</td>\n",
              "      <td>600</td>\n",
              "      <td>100</td>\n",
              "      <td>77</td>\n",
              "      <td>77</td>\n",
              "      <td>128</td>\n",
              "      <td>128</td>\n",
              "      <td>90</td>\n",
              "      <td>5</td>\n",
              "      <td>False</td>\n",
              "      <td>Normal Psychic</td>\n",
              "    </tr>\n",
              "    <tr>\n",
              "      <th>717</th>\n",
              "      <td>649</td>\n",
              "      <td>Genesect</td>\n",
              "      <td>Bug</td>\n",
              "      <td>Steel</td>\n",
              "      <td>600</td>\n",
              "      <td>71</td>\n",
              "      <td>120</td>\n",
              "      <td>95</td>\n",
              "      <td>120</td>\n",
              "      <td>95</td>\n",
              "      <td>99</td>\n",
              "      <td>5</td>\n",
              "      <td>False</td>\n",
              "      <td>Bug Steel</td>\n",
              "    </tr>\n",
              "    <tr>\n",
              "      <th>713</th>\n",
              "      <td>647</td>\n",
              "      <td>KeldeoOrdinary Forme</td>\n",
              "      <td>Water</td>\n",
              "      <td>Fighting</td>\n",
              "      <td>580</td>\n",
              "      <td>91</td>\n",
              "      <td>72</td>\n",
              "      <td>90</td>\n",
              "      <td>129</td>\n",
              "      <td>90</td>\n",
              "      <td>108</td>\n",
              "      <td>5</td>\n",
              "      <td>False</td>\n",
              "      <td>Water Fighting</td>\n",
              "    </tr>\n",
              "    <tr>\n",
              "      <th>628</th>\n",
              "      <td>567</td>\n",
              "      <td>Archeops</td>\n",
              "      <td>Rock</td>\n",
              "      <td>Flying</td>\n",
              "      <td>567</td>\n",
              "      <td>75</td>\n",
              "      <td>140</td>\n",
              "      <td>65</td>\n",
              "      <td>112</td>\n",
              "      <td>65</td>\n",
              "      <td>110</td>\n",
              "      <td>5</td>\n",
              "      <td>False</td>\n",
              "      <td>Rock Flying</td>\n",
              "    </tr>\n",
              "  </tbody>\n",
              "</table>\n",
              "</div>"
            ],
            "text/plain": [
              "      id                  Name   Type 1  ... Generation  Legendary       All Types\n",
              "161  149             Dragonite   Dragon  ...          1      False   Dragon Flying\n",
              "267  248             Tyranitar     Rock  ...          2      False       Rock Dark\n",
              "271  251                Celebi  Psychic  ...          2      False   Psychic Grass\n",
              "408  373             Salamence   Dragon  ...          3      False   Dragon Flying\n",
              "412  376             Metagross    Steel  ...          3      False   Steel Psychic\n",
              "493  445              Garchomp   Dragon  ...          4      False   Dragon Ground\n",
              "696  635             Hydreigon     Dark  ...          5      False     Dark Dragon\n",
              "715  648    MeloettaAria Forme   Normal  ...          5      False  Normal Psychic\n",
              "717  649              Genesect      Bug  ...          5      False       Bug Steel\n",
              "713  647  KeldeoOrdinary Forme    Water  ...          5      False  Water Fighting\n",
              "628  567              Archeops     Rock  ...          5      False     Rock Flying\n",
              "\n",
              "[11 rows x 14 columns]"
            ]
          },
          "metadata": {
            "tags": []
          },
          "execution_count": 39
        }
      ]
    },
    {
      "cell_type": "markdown",
      "metadata": {
        "id": "AUG-Eca9B23X",
        "colab_type": "text"
      },
      "source": [
        "#### Average Baseline statistics for Pokemons with only ONE type.\n"
      ]
    },
    {
      "cell_type": "code",
      "metadata": {
        "id": "av0QpJn-23in",
        "colab_type": "code",
        "colab": {}
      },
      "source": [
        "one_type_means = has_one_type.iloc[:,4:11].mean(axis=0)\n",
        "one_type_std = has_one_type.iloc[:,4:11].std(axis=0)\n"
      ],
      "execution_count": 0,
      "outputs": []
    },
    {
      "cell_type": "markdown",
      "metadata": {
        "id": "N2AZtQw3CByC",
        "colab_type": "text"
      },
      "source": [
        "#### Average Baseline statistics for Pokemons with TWO types.\n"
      ]
    },
    {
      "cell_type": "code",
      "metadata": {
        "id": "kKGkSGtu4Ige",
        "colab_type": "code",
        "colab": {}
      },
      "source": [
        "two_types_means = has_two_types.iloc[:,4:11].mean(axis=0)\n",
        "two_types_std = has_two_types.iloc[:,4:11].std(axis=0)"
      ],
      "execution_count": 0,
      "outputs": []
    },
    {
      "cell_type": "markdown",
      "metadata": {
        "id": "lZatm0Q0BYwo",
        "colab_type": "text"
      },
      "source": [
        "### We will take the difference between the means and the standard deviations in the one_type group and the two_type group. \n",
        "\n",
        "### Result: Pokemon that have two types overall have higher average statistics, shown by the positive values in the types_mean_difference. Pokemon that have two types also generally have more variability across all numeric metrics."
      ]
    },
    {
      "cell_type": "code",
      "metadata": {
        "id": "OvOsPutE3q_q",
        "colab_type": "code",
        "outputId": "5bfef453-25ee-4111-d8ba-f1b367fa4327",
        "colab": {
          "base_uri": "https://localhost:8080/",
          "height": 289
        }
      },
      "source": [
        "types_mean_difference = two_types_means - one_type_means\n",
        "print(types_mean_difference) \n",
        "types_std_difference = two_types_std - one_type_std\n",
        "print(types_std_difference) "
      ],
      "execution_count": 42,
      "outputs": [
        {
          "output_type": "stream",
          "text": [
            "Total      23.912829\n",
            "HP          0.772947\n",
            "Attack      3.776764\n",
            "Defense     8.472901\n",
            "Sp. Atk     4.047346\n",
            "Sp. Def     3.762586\n",
            "Speed       3.080284\n",
            "dtype: float64\n",
            "Total     -2.563934\n",
            "HP        -6.355010\n",
            "Attack     0.523172\n",
            "Defense    5.954563\n",
            "Sp. Atk    0.014414\n",
            "Sp. Def    1.229336\n",
            "Speed     -0.351292\n",
            "dtype: float64\n"
          ],
          "name": "stdout"
        }
      ]
    },
    {
      "cell_type": "markdown",
      "metadata": {
        "id": "NvZqadyZJT5n",
        "colab_type": "text"
      },
      "source": [
        "## (d) A deeper look into the 4 main types of Pokemon in the Kalos Elite Four: Fire, Water, Steel, Dragon\n",
        "\n",
        "### Note that we are unable to generalize an overarching type for the Pokemon used by the Champion, so this portion of the analysis will only look at the Elite Four and their type specializations."
      ]
    },
    {
      "cell_type": "markdown",
      "metadata": {
        "id": "UzJFIXh7KKAN",
        "colab_type": "text"
      },
      "source": [
        "### (i) Fire Type"
      ]
    },
    {
      "cell_type": "code",
      "metadata": {
        "id": "S2iySBEcJTP4",
        "colab_type": "code",
        "outputId": "d7ffdf14-8b9f-442f-a9a6-0e554fe36907",
        "colab": {
          "base_uri": "https://localhost:8080/",
          "height": 136
        }
      },
      "source": [
        "pokemonFire = pokemonNormal.loc[(pokemonNormal['Type 1'] == 'Fire') | (pokemonNormal['Type 2'] == 'Fire')]\n",
        "pokemonFire['elitefourType'] = 'Fire'\n",
        "pokemonFire.shape"
      ],
      "execution_count": 43,
      "outputs": [
        {
          "output_type": "stream",
          "text": [
            "/usr/local/lib/python3.6/dist-packages/ipykernel_launcher.py:2: SettingWithCopyWarning: \n",
            "A value is trying to be set on a copy of a slice from a DataFrame.\n",
            "Try using .loc[row_indexer,col_indexer] = value instead\n",
            "\n",
            "See the caveats in the documentation: http://pandas.pydata.org/pandas-docs/stable/indexing.html#indexing-view-versus-copy\n",
            "  \n"
          ],
          "name": "stderr"
        },
        {
          "output_type": "execute_result",
          "data": {
            "text/plain": [
              "(49, 15)"
            ]
          },
          "metadata": {
            "tags": []
          },
          "execution_count": 43
        }
      ]
    },
    {
      "cell_type": "code",
      "metadata": {
        "id": "HC8d15iwuWKr",
        "colab_type": "code",
        "outputId": "ead638f2-d295-43f9-86fd-9aa4878239c3",
        "colab": {
          "base_uri": "https://localhost:8080/",
          "height": 297
        }
      },
      "source": [
        "pokemonFire.iloc[:,5:11].describe()"
      ],
      "execution_count": 44,
      "outputs": [
        {
          "output_type": "execute_result",
          "data": {
            "text/html": [
              "<div>\n",
              "<style scoped>\n",
              "    .dataframe tbody tr th:only-of-type {\n",
              "        vertical-align: middle;\n",
              "    }\n",
              "\n",
              "    .dataframe tbody tr th {\n",
              "        vertical-align: top;\n",
              "    }\n",
              "\n",
              "    .dataframe thead th {\n",
              "        text-align: right;\n",
              "    }\n",
              "</style>\n",
              "<table border=\"1\" class=\"dataframe\">\n",
              "  <thead>\n",
              "    <tr style=\"text-align: right;\">\n",
              "      <th></th>\n",
              "      <th>HP</th>\n",
              "      <th>Attack</th>\n",
              "      <th>Defense</th>\n",
              "      <th>Sp. Atk</th>\n",
              "      <th>Sp. Def</th>\n",
              "      <th>Speed</th>\n",
              "    </tr>\n",
              "  </thead>\n",
              "  <tbody>\n",
              "    <tr>\n",
              "      <th>count</th>\n",
              "      <td>49.000000</td>\n",
              "      <td>49.000000</td>\n",
              "      <td>49.000000</td>\n",
              "      <td>49.000000</td>\n",
              "      <td>49.000000</td>\n",
              "      <td>49.000000</td>\n",
              "    </tr>\n",
              "    <tr>\n",
              "      <th>mean</th>\n",
              "      <td>64.734694</td>\n",
              "      <td>76.306122</td>\n",
              "      <td>60.489796</td>\n",
              "      <td>82.000000</td>\n",
              "      <td>66.326531</td>\n",
              "      <td>72.326531</td>\n",
              "    </tr>\n",
              "    <tr>\n",
              "      <th>std</th>\n",
              "      <td>16.973970</td>\n",
              "      <td>24.863967</td>\n",
              "      <td>19.661852</td>\n",
              "      <td>25.995192</td>\n",
              "      <td>17.416931</td>\n",
              "      <td>25.235051</td>\n",
              "    </tr>\n",
              "    <tr>\n",
              "      <th>min</th>\n",
              "      <td>38.000000</td>\n",
              "      <td>30.000000</td>\n",
              "      <td>30.000000</td>\n",
              "      <td>15.000000</td>\n",
              "      <td>40.000000</td>\n",
              "      <td>20.000000</td>\n",
              "    </tr>\n",
              "    <tr>\n",
              "      <th>25%</th>\n",
              "      <td>50.000000</td>\n",
              "      <td>59.000000</td>\n",
              "      <td>45.000000</td>\n",
              "      <td>65.000000</td>\n",
              "      <td>52.000000</td>\n",
              "      <td>60.000000</td>\n",
              "    </tr>\n",
              "    <tr>\n",
              "      <th>50%</th>\n",
              "      <td>64.000000</td>\n",
              "      <td>75.000000</td>\n",
              "      <td>58.000000</td>\n",
              "      <td>80.000000</td>\n",
              "      <td>65.000000</td>\n",
              "      <td>72.000000</td>\n",
              "    </tr>\n",
              "    <tr>\n",
              "      <th>75%</th>\n",
              "      <td>75.000000</td>\n",
              "      <td>93.000000</td>\n",
              "      <td>70.000000</td>\n",
              "      <td>100.000000</td>\n",
              "      <td>80.000000</td>\n",
              "      <td>95.000000</td>\n",
              "    </tr>\n",
              "    <tr>\n",
              "      <th>max</th>\n",
              "      <td>110.000000</td>\n",
              "      <td>140.000000</td>\n",
              "      <td>140.000000</td>\n",
              "      <td>145.000000</td>\n",
              "      <td>110.000000</td>\n",
              "      <td>126.000000</td>\n",
              "    </tr>\n",
              "  </tbody>\n",
              "</table>\n",
              "</div>"
            ],
            "text/plain": [
              "               HP      Attack     Defense     Sp. Atk     Sp. Def       Speed\n",
              "count   49.000000   49.000000   49.000000   49.000000   49.000000   49.000000\n",
              "mean    64.734694   76.306122   60.489796   82.000000   66.326531   72.326531\n",
              "std     16.973970   24.863967   19.661852   25.995192   17.416931   25.235051\n",
              "min     38.000000   30.000000   30.000000   15.000000   40.000000   20.000000\n",
              "25%     50.000000   59.000000   45.000000   65.000000   52.000000   60.000000\n",
              "50%     64.000000   75.000000   58.000000   80.000000   65.000000   72.000000\n",
              "75%     75.000000   93.000000   70.000000  100.000000   80.000000   95.000000\n",
              "max    110.000000  140.000000  140.000000  145.000000  110.000000  126.000000"
            ]
          },
          "metadata": {
            "tags": []
          },
          "execution_count": 44
        }
      ]
    },
    {
      "cell_type": "markdown",
      "metadata": {
        "id": "Ql3BTYoyKUIo",
        "colab_type": "text"
      },
      "source": [
        "### (ii) Water Type"
      ]
    },
    {
      "cell_type": "code",
      "metadata": {
        "id": "criq1L6TKUjU",
        "colab_type": "code",
        "outputId": "9f677a3f-4b96-4c26-d3a7-cbe2dd2ff162",
        "colab": {
          "base_uri": "https://localhost:8080/",
          "height": 136
        }
      },
      "source": [
        "pokemonWater = pokemonNormal.loc[(pokemonNormal['Type 1'] == 'Water') | (pokemonNormal['Type 2'] == 'Water')]\n",
        "pokemonWater['elitefourType'] = 'Water'\n",
        "pokemonWater.shape"
      ],
      "execution_count": 45,
      "outputs": [
        {
          "output_type": "stream",
          "text": [
            "/usr/local/lib/python3.6/dist-packages/ipykernel_launcher.py:2: SettingWithCopyWarning: \n",
            "A value is trying to be set on a copy of a slice from a DataFrame.\n",
            "Try using .loc[row_indexer,col_indexer] = value instead\n",
            "\n",
            "See the caveats in the documentation: http://pandas.pydata.org/pandas-docs/stable/indexing.html#indexing-view-versus-copy\n",
            "  \n"
          ],
          "name": "stderr"
        },
        {
          "output_type": "execute_result",
          "data": {
            "text/plain": [
              "(114, 15)"
            ]
          },
          "metadata": {
            "tags": []
          },
          "execution_count": 45
        }
      ]
    },
    {
      "cell_type": "code",
      "metadata": {
        "id": "5hKpgHcBuikH",
        "colab_type": "code",
        "outputId": "61927c15-1c67-46e8-8a52-3c94e3084d7d",
        "colab": {
          "base_uri": "https://localhost:8080/",
          "height": 297
        }
      },
      "source": [
        "pokemonWater.iloc[:,5:11].describe()"
      ],
      "execution_count": 46,
      "outputs": [
        {
          "output_type": "execute_result",
          "data": {
            "text/html": [
              "<div>\n",
              "<style scoped>\n",
              "    .dataframe tbody tr th:only-of-type {\n",
              "        vertical-align: middle;\n",
              "    }\n",
              "\n",
              "    .dataframe tbody tr th {\n",
              "        vertical-align: top;\n",
              "    }\n",
              "\n",
              "    .dataframe thead th {\n",
              "        text-align: right;\n",
              "    }\n",
              "</style>\n",
              "<table border=\"1\" class=\"dataframe\">\n",
              "  <thead>\n",
              "    <tr style=\"text-align: right;\">\n",
              "      <th></th>\n",
              "      <th>HP</th>\n",
              "      <th>Attack</th>\n",
              "      <th>Defense</th>\n",
              "      <th>Sp. Atk</th>\n",
              "      <th>Sp. Def</th>\n",
              "      <th>Speed</th>\n",
              "    </tr>\n",
              "  </thead>\n",
              "  <tbody>\n",
              "    <tr>\n",
              "      <th>count</th>\n",
              "      <td>114.000000</td>\n",
              "      <td>114.000000</td>\n",
              "      <td>114.000000</td>\n",
              "      <td>114.000000</td>\n",
              "      <td>114.000000</td>\n",
              "      <td>114.000000</td>\n",
              "    </tr>\n",
              "    <tr>\n",
              "      <th>mean</th>\n",
              "      <td>69.289474</td>\n",
              "      <td>69.929825</td>\n",
              "      <td>70.701754</td>\n",
              "      <td>69.719298</td>\n",
              "      <td>66.114035</td>\n",
              "      <td>63.114035</td>\n",
              "    </tr>\n",
              "    <tr>\n",
              "      <th>std</th>\n",
              "      <td>27.523996</td>\n",
              "      <td>24.808191</td>\n",
              "      <td>25.714887</td>\n",
              "      <td>23.572711</td>\n",
              "      <td>24.088612</td>\n",
              "      <td>22.129450</td>\n",
              "    </tr>\n",
              "    <tr>\n",
              "      <th>min</th>\n",
              "      <td>20.000000</td>\n",
              "      <td>10.000000</td>\n",
              "      <td>20.000000</td>\n",
              "      <td>10.000000</td>\n",
              "      <td>20.000000</td>\n",
              "      <td>15.000000</td>\n",
              "    </tr>\n",
              "    <tr>\n",
              "      <th>25%</th>\n",
              "      <td>50.000000</td>\n",
              "      <td>51.250000</td>\n",
              "      <td>52.250000</td>\n",
              "      <td>53.250000</td>\n",
              "      <td>50.000000</td>\n",
              "      <td>50.000000</td>\n",
              "    </tr>\n",
              "    <tr>\n",
              "      <th>50%</th>\n",
              "      <td>65.000000</td>\n",
              "      <td>69.500000</td>\n",
              "      <td>68.000000</td>\n",
              "      <td>65.000000</td>\n",
              "      <td>63.000000</td>\n",
              "      <td>63.500000</td>\n",
              "    </tr>\n",
              "    <tr>\n",
              "      <th>75%</th>\n",
              "      <td>84.750000</td>\n",
              "      <td>85.750000</td>\n",
              "      <td>85.000000</td>\n",
              "      <td>85.000000</td>\n",
              "      <td>81.500000</td>\n",
              "      <td>78.000000</td>\n",
              "    </tr>\n",
              "    <tr>\n",
              "      <th>max</th>\n",
              "      <td>170.000000</td>\n",
              "      <td>130.000000</td>\n",
              "      <td>180.000000</td>\n",
              "      <td>129.000000</td>\n",
              "      <td>140.000000</td>\n",
              "      <td>122.000000</td>\n",
              "    </tr>\n",
              "  </tbody>\n",
              "</table>\n",
              "</div>"
            ],
            "text/plain": [
              "               HP      Attack     Defense     Sp. Atk     Sp. Def       Speed\n",
              "count  114.000000  114.000000  114.000000  114.000000  114.000000  114.000000\n",
              "mean    69.289474   69.929825   70.701754   69.719298   66.114035   63.114035\n",
              "std     27.523996   24.808191   25.714887   23.572711   24.088612   22.129450\n",
              "min     20.000000   10.000000   20.000000   10.000000   20.000000   15.000000\n",
              "25%     50.000000   51.250000   52.250000   53.250000   50.000000   50.000000\n",
              "50%     65.000000   69.500000   68.000000   65.000000   63.000000   63.500000\n",
              "75%     84.750000   85.750000   85.000000   85.000000   81.500000   78.000000\n",
              "max    170.000000  130.000000  180.000000  129.000000  140.000000  122.000000"
            ]
          },
          "metadata": {
            "tags": []
          },
          "execution_count": 46
        }
      ]
    },
    {
      "cell_type": "markdown",
      "metadata": {
        "id": "WwNm35BMKXOP",
        "colab_type": "text"
      },
      "source": [
        "### (iii) Steel Type"
      ]
    },
    {
      "cell_type": "code",
      "metadata": {
        "id": "3SLGJ4grKaCP",
        "colab_type": "code",
        "outputId": "4030a461-b61d-46be-b509-98d34b6f32bf",
        "colab": {
          "base_uri": "https://localhost:8080/",
          "height": 136
        }
      },
      "source": [
        "pokemonSteel = pokemonNormal.loc[(pokemonNormal['Type 1'] == 'Steel') | (pokemonNormal['Type 2'] == 'Steel')]\n",
        "pokemonSteel['elitefourType'] = 'Steel'\n",
        "pokemonSteel.shape"
      ],
      "execution_count": 47,
      "outputs": [
        {
          "output_type": "stream",
          "text": [
            "/usr/local/lib/python3.6/dist-packages/ipykernel_launcher.py:2: SettingWithCopyWarning: \n",
            "A value is trying to be set on a copy of a slice from a DataFrame.\n",
            "Try using .loc[row_indexer,col_indexer] = value instead\n",
            "\n",
            "See the caveats in the documentation: http://pandas.pydata.org/pandas-docs/stable/indexing.html#indexing-view-versus-copy\n",
            "  \n"
          ],
          "name": "stderr"
        },
        {
          "output_type": "execute_result",
          "data": {
            "text/plain": [
              "(36, 15)"
            ]
          },
          "metadata": {
            "tags": []
          },
          "execution_count": 47
        }
      ]
    },
    {
      "cell_type": "code",
      "metadata": {
        "id": "_4ED8ZH1um-b",
        "colab_type": "code",
        "outputId": "2f07789a-deb2-4d2c-80c8-2f31721933c5",
        "colab": {
          "base_uri": "https://localhost:8080/",
          "height": 297
        }
      },
      "source": [
        "pokemonSteel.iloc[:,5:11].describe()"
      ],
      "execution_count": 48,
      "outputs": [
        {
          "output_type": "execute_result",
          "data": {
            "text/html": [
              "<div>\n",
              "<style scoped>\n",
              "    .dataframe tbody tr th:only-of-type {\n",
              "        vertical-align: middle;\n",
              "    }\n",
              "\n",
              "    .dataframe tbody tr th {\n",
              "        vertical-align: top;\n",
              "    }\n",
              "\n",
              "    .dataframe thead th {\n",
              "        text-align: right;\n",
              "    }\n",
              "</style>\n",
              "<table border=\"1\" class=\"dataframe\">\n",
              "  <thead>\n",
              "    <tr style=\"text-align: right;\">\n",
              "      <th></th>\n",
              "      <th>HP</th>\n",
              "      <th>Attack</th>\n",
              "      <th>Defense</th>\n",
              "      <th>Sp. Atk</th>\n",
              "      <th>Sp. Def</th>\n",
              "      <th>Speed</th>\n",
              "    </tr>\n",
              "  </thead>\n",
              "  <tbody>\n",
              "    <tr>\n",
              "      <th>count</th>\n",
              "      <td>36.000000</td>\n",
              "      <td>36.000000</td>\n",
              "      <td>36.000000</td>\n",
              "      <td>36.000000</td>\n",
              "      <td>36.000000</td>\n",
              "      <td>36.000000</td>\n",
              "    </tr>\n",
              "    <tr>\n",
              "      <th>mean</th>\n",
              "      <td>60.722222</td>\n",
              "      <td>87.111111</td>\n",
              "      <td>108.361111</td>\n",
              "      <td>66.361111</td>\n",
              "      <td>76.444444</td>\n",
              "      <td>51.388889</td>\n",
              "    </tr>\n",
              "    <tr>\n",
              "      <th>std</th>\n",
              "      <td>15.835965</td>\n",
              "      <td>30.982740</td>\n",
              "      <td>33.719136</td>\n",
              "      <td>31.382573</td>\n",
              "      <td>26.544243</td>\n",
              "      <td>24.587195</td>\n",
              "    </tr>\n",
              "    <tr>\n",
              "      <th>min</th>\n",
              "      <td>25.000000</td>\n",
              "      <td>24.000000</td>\n",
              "      <td>50.000000</td>\n",
              "      <td>24.000000</td>\n",
              "      <td>37.000000</td>\n",
              "      <td>10.000000</td>\n",
              "    </tr>\n",
              "    <tr>\n",
              "      <th>25%</th>\n",
              "      <td>50.000000</td>\n",
              "      <td>67.500000</td>\n",
              "      <td>87.500000</td>\n",
              "      <td>45.000000</td>\n",
              "      <td>58.750000</td>\n",
              "      <td>30.000000</td>\n",
              "    </tr>\n",
              "    <tr>\n",
              "      <th>50%</th>\n",
              "      <td>60.000000</td>\n",
              "      <td>85.000000</td>\n",
              "      <td>100.000000</td>\n",
              "      <td>55.000000</td>\n",
              "      <td>70.000000</td>\n",
              "      <td>50.000000</td>\n",
              "    </tr>\n",
              "    <tr>\n",
              "      <th>75%</th>\n",
              "      <td>70.000000</td>\n",
              "      <td>110.000000</td>\n",
              "      <td>130.250000</td>\n",
              "      <td>79.250000</td>\n",
              "      <td>88.500000</td>\n",
              "      <td>70.000000</td>\n",
              "    </tr>\n",
              "    <tr>\n",
              "      <th>max</th>\n",
              "      <td>110.000000</td>\n",
              "      <td>150.000000</td>\n",
              "      <td>200.000000</td>\n",
              "      <td>150.000000</td>\n",
              "      <td>150.000000</td>\n",
              "      <td>109.000000</td>\n",
              "    </tr>\n",
              "  </tbody>\n",
              "</table>\n",
              "</div>"
            ],
            "text/plain": [
              "               HP      Attack     Defense     Sp. Atk     Sp. Def       Speed\n",
              "count   36.000000   36.000000   36.000000   36.000000   36.000000   36.000000\n",
              "mean    60.722222   87.111111  108.361111   66.361111   76.444444   51.388889\n",
              "std     15.835965   30.982740   33.719136   31.382573   26.544243   24.587195\n",
              "min     25.000000   24.000000   50.000000   24.000000   37.000000   10.000000\n",
              "25%     50.000000   67.500000   87.500000   45.000000   58.750000   30.000000\n",
              "50%     60.000000   85.000000  100.000000   55.000000   70.000000   50.000000\n",
              "75%     70.000000  110.000000  130.250000   79.250000   88.500000   70.000000\n",
              "max    110.000000  150.000000  200.000000  150.000000  150.000000  109.000000"
            ]
          },
          "metadata": {
            "tags": []
          },
          "execution_count": 48
        }
      ]
    },
    {
      "cell_type": "markdown",
      "metadata": {
        "id": "VLxXbAalKaSj",
        "colab_type": "text"
      },
      "source": [
        "### (iv) Dragon Type"
      ]
    },
    {
      "cell_type": "code",
      "metadata": {
        "id": "GJaJUZl4utYv",
        "colab_type": "code",
        "outputId": "53e31ae3-e450-4cfc-adfe-a17808e791c6",
        "colab": {
          "base_uri": "https://localhost:8080/",
          "height": 136
        }
      },
      "source": [
        "pokemonDragon = pokemonNormal.loc[(pokemonNormal['Type 1'] == 'Dragon') | (pokemonNormal['Type 2'] == 'Dragon')]\n",
        "pokemonDragon['elitefourType'] = 'Dragon'\n",
        "pokemonDragon.shape"
      ],
      "execution_count": 49,
      "outputs": [
        {
          "output_type": "stream",
          "text": [
            "/usr/local/lib/python3.6/dist-packages/ipykernel_launcher.py:2: SettingWithCopyWarning: \n",
            "A value is trying to be set on a copy of a slice from a DataFrame.\n",
            "Try using .loc[row_indexer,col_indexer] = value instead\n",
            "\n",
            "See the caveats in the documentation: http://pandas.pydata.org/pandas-docs/stable/indexing.html#indexing-view-versus-copy\n",
            "  \n"
          ],
          "name": "stderr"
        },
        {
          "output_type": "execute_result",
          "data": {
            "text/plain": [
              "(28, 15)"
            ]
          },
          "metadata": {
            "tags": []
          },
          "execution_count": 49
        }
      ]
    },
    {
      "cell_type": "code",
      "metadata": {
        "id": "l_3VOGhOKdOF",
        "colab_type": "code",
        "outputId": "7274de10-b2e6-4732-ac91-7a22f9016dc3",
        "colab": {
          "base_uri": "https://localhost:8080/",
          "height": 297
        }
      },
      "source": [
        "pokemonDragon.iloc[:,5:11].describe()"
      ],
      "execution_count": 50,
      "outputs": [
        {
          "output_type": "execute_result",
          "data": {
            "text/html": [
              "<div>\n",
              "<style scoped>\n",
              "    .dataframe tbody tr th:only-of-type {\n",
              "        vertical-align: middle;\n",
              "    }\n",
              "\n",
              "    .dataframe tbody tr th {\n",
              "        vertical-align: top;\n",
              "    }\n",
              "\n",
              "    .dataframe thead th {\n",
              "        text-align: right;\n",
              "    }\n",
              "</style>\n",
              "<table border=\"1\" class=\"dataframe\">\n",
              "  <thead>\n",
              "    <tr style=\"text-align: right;\">\n",
              "      <th></th>\n",
              "      <th>HP</th>\n",
              "      <th>Attack</th>\n",
              "      <th>Defense</th>\n",
              "      <th>Sp. Atk</th>\n",
              "      <th>Sp. Def</th>\n",
              "      <th>Speed</th>\n",
              "    </tr>\n",
              "  </thead>\n",
              "  <tbody>\n",
              "    <tr>\n",
              "      <th>count</th>\n",
              "      <td>28.000000</td>\n",
              "      <td>28.000000</td>\n",
              "      <td>28.000000</td>\n",
              "      <td>28.000000</td>\n",
              "      <td>28.000000</td>\n",
              "      <td>28.000000</td>\n",
              "    </tr>\n",
              "    <tr>\n",
              "      <th>mean</th>\n",
              "      <td>68.785714</td>\n",
              "      <td>91.000000</td>\n",
              "      <td>73.000000</td>\n",
              "      <td>68.607143</td>\n",
              "      <td>72.857143</td>\n",
              "      <td>69.464286</td>\n",
              "    </tr>\n",
              "    <tr>\n",
              "      <th>std</th>\n",
              "      <td>17.945096</td>\n",
              "      <td>27.684733</td>\n",
              "      <td>21.354157</td>\n",
              "      <td>25.421396</td>\n",
              "      <td>28.496542</td>\n",
              "      <td>22.776665</td>\n",
              "    </tr>\n",
              "    <tr>\n",
              "      <th>min</th>\n",
              "      <td>40.000000</td>\n",
              "      <td>30.000000</td>\n",
              "      <td>35.000000</td>\n",
              "      <td>30.000000</td>\n",
              "      <td>30.000000</td>\n",
              "      <td>38.000000</td>\n",
              "    </tr>\n",
              "    <tr>\n",
              "      <th>25%</th>\n",
              "      <td>56.500000</td>\n",
              "      <td>70.000000</td>\n",
              "      <td>58.250000</td>\n",
              "      <td>48.750000</td>\n",
              "      <td>50.000000</td>\n",
              "      <td>50.000000</td>\n",
              "    </tr>\n",
              "    <tr>\n",
              "      <th>50%</th>\n",
              "      <td>68.000000</td>\n",
              "      <td>88.000000</td>\n",
              "      <td>73.500000</td>\n",
              "      <td>62.500000</td>\n",
              "      <td>70.000000</td>\n",
              "      <td>68.500000</td>\n",
              "    </tr>\n",
              "    <tr>\n",
              "      <th>75%</th>\n",
              "      <td>80.500000</td>\n",
              "      <td>108.000000</td>\n",
              "      <td>90.000000</td>\n",
              "      <td>86.000000</td>\n",
              "      <td>90.000000</td>\n",
              "      <td>82.750000</td>\n",
              "    </tr>\n",
              "    <tr>\n",
              "      <th>max</th>\n",
              "      <td>108.000000</td>\n",
              "      <td>147.000000</td>\n",
              "      <td>119.000000</td>\n",
              "      <td>125.000000</td>\n",
              "      <td>150.000000</td>\n",
              "      <td>123.000000</td>\n",
              "    </tr>\n",
              "  </tbody>\n",
              "</table>\n",
              "</div>"
            ],
            "text/plain": [
              "               HP      Attack     Defense     Sp. Atk     Sp. Def       Speed\n",
              "count   28.000000   28.000000   28.000000   28.000000   28.000000   28.000000\n",
              "mean    68.785714   91.000000   73.000000   68.607143   72.857143   69.464286\n",
              "std     17.945096   27.684733   21.354157   25.421396   28.496542   22.776665\n",
              "min     40.000000   30.000000   35.000000   30.000000   30.000000   38.000000\n",
              "25%     56.500000   70.000000   58.250000   48.750000   50.000000   50.000000\n",
              "50%     68.000000   88.000000   73.500000   62.500000   70.000000   68.500000\n",
              "75%     80.500000  108.000000   90.000000   86.000000   90.000000   82.750000\n",
              "max    108.000000  147.000000  119.000000  125.000000  150.000000  123.000000"
            ]
          },
          "metadata": {
            "tags": []
          },
          "execution_count": 50
        }
      ]
    },
    {
      "cell_type": "code",
      "metadata": {
        "id": "tM5ojg_fu0Dq",
        "colab_type": "code",
        "outputId": "42925b62-583b-44b4-8d00-f358409e1f4b",
        "colab": {
          "base_uri": "https://localhost:8080/",
          "height": 204
        }
      },
      "source": [
        "# concatenate (rbind) the four types data\n",
        "pokemonFour = pd.concat([pokemonFire, pokemonWater, pokemonSteel, pokemonDragon])\n",
        "pokemonFour.head()"
      ],
      "execution_count": 51,
      "outputs": [
        {
          "output_type": "execute_result",
          "data": {
            "text/html": [
              "<div>\n",
              "<style scoped>\n",
              "    .dataframe tbody tr th:only-of-type {\n",
              "        vertical-align: middle;\n",
              "    }\n",
              "\n",
              "    .dataframe tbody tr th {\n",
              "        vertical-align: top;\n",
              "    }\n",
              "\n",
              "    .dataframe thead th {\n",
              "        text-align: right;\n",
              "    }\n",
              "</style>\n",
              "<table border=\"1\" class=\"dataframe\">\n",
              "  <thead>\n",
              "    <tr style=\"text-align: right;\">\n",
              "      <th></th>\n",
              "      <th>id</th>\n",
              "      <th>Name</th>\n",
              "      <th>Type 1</th>\n",
              "      <th>Type 2</th>\n",
              "      <th>Total</th>\n",
              "      <th>HP</th>\n",
              "      <th>Attack</th>\n",
              "      <th>Defense</th>\n",
              "      <th>Sp. Atk</th>\n",
              "      <th>Sp. Def</th>\n",
              "      <th>Speed</th>\n",
              "      <th>Generation</th>\n",
              "      <th>Legendary</th>\n",
              "      <th>All Types</th>\n",
              "      <th>elitefourType</th>\n",
              "    </tr>\n",
              "  </thead>\n",
              "  <tbody>\n",
              "    <tr>\n",
              "      <th>4</th>\n",
              "      <td>4</td>\n",
              "      <td>Charmander</td>\n",
              "      <td>Fire</td>\n",
              "      <td>None</td>\n",
              "      <td>309</td>\n",
              "      <td>39</td>\n",
              "      <td>52</td>\n",
              "      <td>43</td>\n",
              "      <td>60</td>\n",
              "      <td>50</td>\n",
              "      <td>65</td>\n",
              "      <td>1</td>\n",
              "      <td>False</td>\n",
              "      <td>Fire None</td>\n",
              "      <td>Fire</td>\n",
              "    </tr>\n",
              "    <tr>\n",
              "      <th>5</th>\n",
              "      <td>5</td>\n",
              "      <td>Charmeleon</td>\n",
              "      <td>Fire</td>\n",
              "      <td>None</td>\n",
              "      <td>405</td>\n",
              "      <td>58</td>\n",
              "      <td>64</td>\n",
              "      <td>58</td>\n",
              "      <td>80</td>\n",
              "      <td>65</td>\n",
              "      <td>80</td>\n",
              "      <td>1</td>\n",
              "      <td>False</td>\n",
              "      <td>Fire None</td>\n",
              "      <td>Fire</td>\n",
              "    </tr>\n",
              "    <tr>\n",
              "      <th>6</th>\n",
              "      <td>6</td>\n",
              "      <td>Charizard</td>\n",
              "      <td>Fire</td>\n",
              "      <td>Flying</td>\n",
              "      <td>534</td>\n",
              "      <td>78</td>\n",
              "      <td>84</td>\n",
              "      <td>78</td>\n",
              "      <td>109</td>\n",
              "      <td>85</td>\n",
              "      <td>100</td>\n",
              "      <td>1</td>\n",
              "      <td>False</td>\n",
              "      <td>Fire Flying</td>\n",
              "      <td>Fire</td>\n",
              "    </tr>\n",
              "    <tr>\n",
              "      <th>42</th>\n",
              "      <td>37</td>\n",
              "      <td>Vulpix</td>\n",
              "      <td>Fire</td>\n",
              "      <td>None</td>\n",
              "      <td>299</td>\n",
              "      <td>38</td>\n",
              "      <td>41</td>\n",
              "      <td>40</td>\n",
              "      <td>50</td>\n",
              "      <td>65</td>\n",
              "      <td>65</td>\n",
              "      <td>1</td>\n",
              "      <td>False</td>\n",
              "      <td>Fire None</td>\n",
              "      <td>Fire</td>\n",
              "    </tr>\n",
              "    <tr>\n",
              "      <th>43</th>\n",
              "      <td>38</td>\n",
              "      <td>Ninetales</td>\n",
              "      <td>Fire</td>\n",
              "      <td>None</td>\n",
              "      <td>505</td>\n",
              "      <td>73</td>\n",
              "      <td>76</td>\n",
              "      <td>75</td>\n",
              "      <td>81</td>\n",
              "      <td>100</td>\n",
              "      <td>100</td>\n",
              "      <td>1</td>\n",
              "      <td>False</td>\n",
              "      <td>Fire None</td>\n",
              "      <td>Fire</td>\n",
              "    </tr>\n",
              "  </tbody>\n",
              "</table>\n",
              "</div>"
            ],
            "text/plain": [
              "    id        Name Type 1  ... Legendary    All Types  elitefourType\n",
              "4    4  Charmander   Fire  ...     False    Fire None           Fire\n",
              "5    5  Charmeleon   Fire  ...     False    Fire None           Fire\n",
              "6    6   Charizard   Fire  ...     False  Fire Flying           Fire\n",
              "42  37      Vulpix   Fire  ...     False    Fire None           Fire\n",
              "43  38   Ninetales   Fire  ...     False    Fire None           Fire\n",
              "\n",
              "[5 rows x 15 columns]"
            ]
          },
          "metadata": {
            "tags": []
          },
          "execution_count": 51
        }
      ]
    },
    {
      "cell_type": "markdown",
      "metadata": {
        "id": "gelYz660vSNe",
        "colab_type": "text"
      },
      "source": [
        "### - From the line plot below, we can see that Steel-Type Pokemon have the greatest range and variability in their baseline stats of the four types we are analyzing. Steel Pokemon also have the highest average Defense and second highest average Attack, on the other hand they have the lowest average Speed by far.\n",
        "\n",
        "### - Dragon type Pokemon have the highest average Attack among the Kalos Elite Four types.\n",
        "\n",
        "### - Fire and Water type Pokemon are fairly low in variability compared to the other two types."
      ]
    },
    {
      "cell_type": "code",
      "metadata": {
        "id": "gSVnAM8mvBKN",
        "colab_type": "code",
        "outputId": "6e45118f-59d8-4253-f927-fd2577d1994c",
        "colab": {
          "base_uri": "https://localhost:8080/",
          "height": 312
        }
      },
      "source": [
        "pokemonFour.groupby('elitefourType')[['HP','Attack','Defense','Sp. Atk','Sp. Def','Speed']].mean().plot()\n",
        "plt.ylabel(\"Average\")\n",
        "plt.xlabel(\"Overarching type of each Elite Four member\")\n",
        "plt.title('Elite Four Types Pokemon Averages')\n",
        "plt.legend( bbox_to_anchor = (1,1))"
      ],
      "execution_count": 52,
      "outputs": [
        {
          "output_type": "execute_result",
          "data": {
            "text/plain": [
              "<matplotlib.legend.Legend at 0x7f9ce73fcac8>"
            ]
          },
          "metadata": {
            "tags": []
          },
          "execution_count": 52
        },
        {
          "output_type": "display_data",
          "data": {
            "image/png": "[encoded data removed]",
            "text/plain": [
              "<Figure size 432x288 with 1 Axes>"
            ]
          },
          "metadata": {
            "tags": []
          }
        }
      ]
    },
    {
      "cell_type": "markdown",
      "metadata": {
        "id": "h4ataUanSeRg",
        "colab_type": "text"
      },
      "source": [
        "# (2) Create a new variable: *strength*\n",
        "###  Using the Total variable to rank our Pokemon by how powerful they are overall is problematic. We see that many Pokemon have the same 'Total' stat, therefore we want to create a new variable to be a more exact judge of a Pokemon's power. "
      ]
    },
    {
      "cell_type": "markdown",
      "metadata": {
        "id": "q_y7UiptMXPP",
        "colab_type": "text"
      },
      "source": [
        "### - From the histogram, we see that many Pokemon are clustered around Totals of 300 and 500. Ideally we would want the Total variable to approximate a normal distribution, but it instead appears to be a bimodal distribution.\n",
        "\n",
        "### - In the table below, we can see that 26 Pokemon have the same Total of 405, and there are a lot of other Pokemon who share the same values in the Total variable. In order to place the strength of our Pokemon on a more standardized and continuous scale, we will proceed to create a new \"strength\" variable."
      ]
    },
    {
      "cell_type": "code",
      "metadata": {
        "id": "B5HUNypNJFde",
        "colab_type": "code",
        "outputId": "d949d761-cd1f-4c91-b66a-8f2028fe9df7",
        "colab": {
          "base_uri": "https://localhost:8080/",
          "height": 312
        }
      },
      "source": [
        "plt.hist(pokemon['Total'], bins = 30)\n",
        "plt.title('Histogram of  Total Variable')\n",
        "plt.xlabel('Total')\n",
        "plt.ylabel('Frequency')"
      ],
      "execution_count": 53,
      "outputs": [
        {
          "output_type": "execute_result",
          "data": {
            "text/plain": [
              "Text(0, 0.5, 'Frequency')"
            ]
          },
          "metadata": {
            "tags": []
          },
          "execution_count": 53
        },
        {
          "output_type": "display_data",
          "data": {
            "image/png": "[encoded data removed]",
            "text/plain": [
              "<Figure size 432x288 with 1 Axes>"
            ]
          },
          "metadata": {
            "tags": []
          }
        }
      ]
    },
    {
      "cell_type": "code",
      "metadata": {
        "id": "1Fu6kFPrLol2",
        "colab_type": "code",
        "outputId": "4bcec75e-0213-4016-8a7e-37aadc2251a4",
        "colab": {
          "base_uri": "https://localhost:8080/",
          "height": 544
        }
      },
      "source": [
        "pokemon['Total'].value_counts().head(30)"
      ],
      "execution_count": 54,
      "outputs": [
        {
          "output_type": "execute_result",
          "data": {
            "text/plain": [
              "600    37\n",
              "405    26\n",
              "500    23\n",
              "580    23\n",
              "300    19\n",
              "490    18\n",
              "525    16\n",
              "480    15\n",
              "495    15\n",
              "330    15\n",
              "680    13\n",
              "305    13\n",
              "485    12\n",
              "520    12\n",
              "530    10\n",
              "460    10\n",
              "310    10\n",
              "510    10\n",
              "535     9\n",
              "540     9\n",
              "420     9\n",
              "410     9\n",
              "455     9\n",
              "700     9\n",
              "325     9\n",
              "335     9\n",
              "340     8\n",
              "465     8\n",
              "320     8\n",
              "440     8\n",
              "Name: Total, dtype: int64"
            ]
          },
          "metadata": {
            "tags": []
          },
          "execution_count": 54
        }
      ]
    },
    {
      "cell_type": "markdown",
      "metadata": {
        "id": "_KD2kFYFNxPV",
        "colab_type": "text"
      },
      "source": [
        "### With this in mind, we will go ahead and proceed with creating a *strength* variable. The variable will standardize each numeric metric by subtracting each column mean and dividing by its standard deviation. Then, the strength column will sum up those newly standardized values for each row, or each Pokemon in the data frame."
      ]
    },
    {
      "cell_type": "markdown",
      "metadata": {
        "id": "kZT57SWxXujb",
        "colab_type": "text"
      },
      "source": [
        "### Calculating *strength*: standardize and sum the baseline statistics"
      ]
    },
    {
      "cell_type": "code",
      "metadata": {
        "id": "gAmx7W-sRaUw",
        "colab_type": "code",
        "colab": {}
      },
      "source": [
        "std_stats = pokemon[['#', \"Total\",\t\"HP\",\t'Attack',\t'Defense',\t'Sp. Atk',\t'Sp. Def',\t'Speed']].drop('Total', axis='columns').set_index('#').apply(lambda x: (x - x.mean()) / x.std())\n",
        "std_stats['strength'] = std_stats.sum(axis='columns')\n",
        "std_stats.reset_index(inplace=True)"
      ],
      "execution_count": 0,
      "outputs": []
    },
    {
      "cell_type": "code",
      "metadata": {
        "id": "pEKvIJSZVBPF",
        "colab_type": "code",
        "colab": {}
      },
      "source": [
        "pokemon = pd.concat([pokemon, std_stats['strength']], axis=1)"
      ],
      "execution_count": 0,
      "outputs": []
    },
    {
      "cell_type": "markdown",
      "metadata": {
        "id": "3LDdJqmWHsL1",
        "colab_type": "text"
      },
      "source": [
        "### According to the baseline statistics, we see that the Pokemon 'Slaking' is the strongest non-MegaEvolved, non-Legendary Pokemon by far, nearly 2 points higher than the second strongest Pokemon."
      ]
    },
    {
      "cell_type": "code",
      "metadata": {
        "id": "TITXTeWRFdzV",
        "colab_type": "code",
        "colab": {}
      },
      "source": [
        "pokemon = pokemon.loc[pokemon.Legendary == False] #remove Legendary"
      ],
      "execution_count": 0,
      "outputs": []
    },
    {
      "cell_type": "code",
      "metadata": {
        "id": "2-jxZzdLIC38",
        "colab_type": "code",
        "colab": {}
      },
      "source": [
        "pokemon.drop_duplicates('#', keep='first', inplace=True) #remove Mega-Evolved"
      ],
      "execution_count": 0,
      "outputs": []
    },
    {
      "cell_type": "code",
      "metadata": {
        "id": "NWuN4BTbY8Di",
        "colab_type": "code",
        "outputId": "a59471a0-ad18-49e4-ea81-95efe8fb096a",
        "colab": {
          "base_uri": "https://localhost:8080/",
          "height": 359
        }
      },
      "source": [
        "pokemon.sort_values('strength', ascending=False).head(10)"
      ],
      "execution_count": 59,
      "outputs": [
        {
          "output_type": "execute_result",
          "data": {
            "text/html": [
              "<div>\n",
              "<style scoped>\n",
              "    .dataframe tbody tr th:only-of-type {\n",
              "        vertical-align: middle;\n",
              "    }\n",
              "\n",
              "    .dataframe tbody tr th {\n",
              "        vertical-align: top;\n",
              "    }\n",
              "\n",
              "    .dataframe thead th {\n",
              "        text-align: right;\n",
              "    }\n",
              "</style>\n",
              "<table border=\"1\" class=\"dataframe\">\n",
              "  <thead>\n",
              "    <tr style=\"text-align: right;\">\n",
              "      <th></th>\n",
              "      <th>#</th>\n",
              "      <th>Name</th>\n",
              "      <th>Type 1</th>\n",
              "      <th>Type 2</th>\n",
              "      <th>Total</th>\n",
              "      <th>HP</th>\n",
              "      <th>Attack</th>\n",
              "      <th>Defense</th>\n",
              "      <th>Sp. Atk</th>\n",
              "      <th>Sp. Def</th>\n",
              "      <th>Speed</th>\n",
              "      <th>Generation</th>\n",
              "      <th>Legendary</th>\n",
              "      <th>strength</th>\n",
              "    </tr>\n",
              "  </thead>\n",
              "  <tbody>\n",
              "    <tr>\n",
              "      <th>313</th>\n",
              "      <td>289</td>\n",
              "      <td>Slaking</td>\n",
              "      <td>Normal</td>\n",
              "      <td>None</td>\n",
              "      <td>670</td>\n",
              "      <td>150</td>\n",
              "      <td>160</td>\n",
              "      <td>100</td>\n",
              "      <td>95</td>\n",
              "      <td>65</td>\n",
              "      <td>100</td>\n",
              "      <td>3</td>\n",
              "      <td>False</td>\n",
              "      <td>8.017787</td>\n",
              "    </tr>\n",
              "    <tr>\n",
              "      <th>546</th>\n",
              "      <td>488</td>\n",
              "      <td>Cresselia</td>\n",
              "      <td>Psychic</td>\n",
              "      <td>None</td>\n",
              "      <td>600</td>\n",
              "      <td>120</td>\n",
              "      <td>70</td>\n",
              "      <td>120</td>\n",
              "      <td>75</td>\n",
              "      <td>130</td>\n",
              "      <td>85</td>\n",
              "      <td>4</td>\n",
              "      <td>False</td>\n",
              "      <td>5.919742</td>\n",
              "    </tr>\n",
              "    <tr>\n",
              "      <th>715</th>\n",
              "      <td>648</td>\n",
              "      <td>MeloettaAria Forme</td>\n",
              "      <td>Normal</td>\n",
              "      <td>Psychic</td>\n",
              "      <td>600</td>\n",
              "      <td>100</td>\n",
              "      <td>77</td>\n",
              "      <td>77</td>\n",
              "      <td>128</td>\n",
              "      <td>128</td>\n",
              "      <td>90</td>\n",
              "      <td>5</td>\n",
              "      <td>False</td>\n",
              "      <td>5.693104</td>\n",
              "    </tr>\n",
              "    <tr>\n",
              "      <th>776</th>\n",
              "      <td>706</td>\n",
              "      <td>Goodra</td>\n",
              "      <td>Dragon</td>\n",
              "      <td>None</td>\n",
              "      <td>600</td>\n",
              "      <td>90</td>\n",
              "      <td>100</td>\n",
              "      <td>70</td>\n",
              "      <td>110</td>\n",
              "      <td>150</td>\n",
              "      <td>80</td>\n",
              "      <td>6</td>\n",
              "      <td>False</td>\n",
              "      <td>5.681975</td>\n",
              "    </tr>\n",
              "    <tr>\n",
              "      <th>165</th>\n",
              "      <td>151</td>\n",
              "      <td>Mew</td>\n",
              "      <td>Psychic</td>\n",
              "      <td>None</td>\n",
              "      <td>600</td>\n",
              "      <td>100</td>\n",
              "      <td>100</td>\n",
              "      <td>100</td>\n",
              "      <td>100</td>\n",
              "      <td>100</td>\n",
              "      <td>100</td>\n",
              "      <td>1</td>\n",
              "      <td>False</td>\n",
              "      <td>5.621572</td>\n",
              "    </tr>\n",
              "    <tr>\n",
              "      <th>548</th>\n",
              "      <td>490</td>\n",
              "      <td>Manaphy</td>\n",
              "      <td>Water</td>\n",
              "      <td>None</td>\n",
              "      <td>600</td>\n",
              "      <td>100</td>\n",
              "      <td>100</td>\n",
              "      <td>100</td>\n",
              "      <td>100</td>\n",
              "      <td>100</td>\n",
              "      <td>100</td>\n",
              "      <td>4</td>\n",
              "      <td>False</td>\n",
              "      <td>5.621572</td>\n",
              "    </tr>\n",
              "    <tr>\n",
              "      <th>271</th>\n",
              "      <td>251</td>\n",
              "      <td>Celebi</td>\n",
              "      <td>Psychic</td>\n",
              "      <td>Grass</td>\n",
              "      <td>600</td>\n",
              "      <td>100</td>\n",
              "      <td>100</td>\n",
              "      <td>100</td>\n",
              "      <td>100</td>\n",
              "      <td>100</td>\n",
              "      <td>100</td>\n",
              "      <td>2</td>\n",
              "      <td>False</td>\n",
              "      <td>5.621572</td>\n",
              "    </tr>\n",
              "    <tr>\n",
              "      <th>493</th>\n",
              "      <td>445</td>\n",
              "      <td>Garchomp</td>\n",
              "      <td>Dragon</td>\n",
              "      <td>Ground</td>\n",
              "      <td>600</td>\n",
              "      <td>108</td>\n",
              "      <td>130</td>\n",
              "      <td>95</td>\n",
              "      <td>80</td>\n",
              "      <td>85</td>\n",
              "      <td>102</td>\n",
              "      <td>4</td>\n",
              "      <td>False</td>\n",
              "      <td>5.617430</td>\n",
              "    </tr>\n",
              "    <tr>\n",
              "      <th>267</th>\n",
              "      <td>248</td>\n",
              "      <td>Tyranitar</td>\n",
              "      <td>Rock</td>\n",
              "      <td>Dark</td>\n",
              "      <td>600</td>\n",
              "      <td>100</td>\n",
              "      <td>134</td>\n",
              "      <td>110</td>\n",
              "      <td>95</td>\n",
              "      <td>100</td>\n",
              "      <td>61</td>\n",
              "      <td>2</td>\n",
              "      <td>False</td>\n",
              "      <td>5.494952</td>\n",
              "    </tr>\n",
              "    <tr>\n",
              "      <th>696</th>\n",
              "      <td>635</td>\n",
              "      <td>Hydreigon</td>\n",
              "      <td>Dark</td>\n",
              "      <td>Dragon</td>\n",
              "      <td>600</td>\n",
              "      <td>92</td>\n",
              "      <td>105</td>\n",
              "      <td>90</td>\n",
              "      <td>125</td>\n",
              "      <td>90</td>\n",
              "      <td>98</td>\n",
              "      <td>5</td>\n",
              "      <td>False</td>\n",
              "      <td>5.477483</td>\n",
              "    </tr>\n",
              "  </tbody>\n",
              "</table>\n",
              "</div>"
            ],
            "text/plain": [
              "       #                Name   Type 1  ... Generation  Legendary  strength\n",
              "313  289             Slaking   Normal  ...          3      False  8.017787\n",
              "546  488           Cresselia  Psychic  ...          4      False  5.919742\n",
              "715  648  MeloettaAria Forme   Normal  ...          5      False  5.693104\n",
              "776  706              Goodra   Dragon  ...          6      False  5.681975\n",
              "165  151                 Mew  Psychic  ...          1      False  5.621572\n",
              "548  490             Manaphy    Water  ...          4      False  5.621572\n",
              "271  251              Celebi  Psychic  ...          2      False  5.621572\n",
              "493  445            Garchomp   Dragon  ...          4      False  5.617430\n",
              "267  248           Tyranitar     Rock  ...          2      False  5.494952\n",
              "696  635           Hydreigon     Dark  ...          5      False  5.477483\n",
              "\n",
              "[10 rows x 14 columns]"
            ]
          },
          "metadata": {
            "tags": []
          },
          "execution_count": 59
        }
      ]
    },
    {
      "cell_type": "code",
      "metadata": {
        "id": "PsrUelDxPfCg",
        "colab_type": "code",
        "outputId": "050676a0-25b4-466b-d086-7afaf06c8f63",
        "colab": {
          "base_uri": "https://localhost:8080/",
          "height": 544
        }
      },
      "source": [
        "pokemon['strength'].value_counts().head(30)"
      ],
      "execution_count": 60,
      "outputs": [
        {
          "output_type": "execute_result",
          "data": {
            "text/plain": [
              " 2.038105    3\n",
              "-3.995838    3\n",
              " 5.621572    3\n",
              "-1.036373    2\n",
              " 1.562664    2\n",
              " 3.297577    2\n",
              "-7.694237    2\n",
              "-4.297575    2\n",
              " 2.051738    1\n",
              "-4.556862    1\n",
              "-0.841226    1\n",
              "-4.495496    1\n",
              "-5.009903    1\n",
              "-3.994037    1\n",
              "-3.484847    1\n",
              "-1.643882    1\n",
              " 1.912421    1\n",
              " 0.281648    1\n",
              " 5.681975    1\n",
              "-1.008538    1\n",
              "-4.432221    1\n",
              " 3.174475    1\n",
              "-5.190925    1\n",
              " 2.607961    1\n",
              " 1.404418    1\n",
              "-4.314515    1\n",
              "-0.492053    1\n",
              " 2.065806    1\n",
              "-4.817948    1\n",
              "-3.518641    1\n",
              "Name: strength, dtype: int64"
            ]
          },
          "metadata": {
            "tags": []
          },
          "execution_count": 60
        }
      ]
    },
    {
      "cell_type": "markdown",
      "metadata": {
        "id": "DewTXlEAPndk",
        "colab_type": "text"
      },
      "source": [
        "### The value counts for the strength column show that we have now put all our Pokemon on a continuous scale and can more effectively rank them from one another by overall power."
      ]
    },
    {
      "cell_type": "markdown",
      "metadata": {
        "id": "hZ-Dm4YdHQPz",
        "colab_type": "text"
      },
      "source": [
        "### Type 1 vs. Strength:\n",
        "- Fighting and Ice type Pokemon have the highest average Strength.\n",
        "- Flying, Fairy, and Bug type Pokemon have the lowest average Strength.\n",
        "- Normal Type Pokemon have the greatest range of Strength. "
      ]
    },
    {
      "cell_type": "code",
      "metadata": {
        "id": "8l2M90zsZ0yh",
        "colab_type": "code",
        "outputId": "d4105ff7-0e76-4c3f-bca3-8cb4664091f1",
        "colab": {
          "base_uri": "https://localhost:8080/",
          "height": 343
        }
      },
      "source": [
        "sns.boxplot(x='Type 1', y='strength', data=pokemon)\n",
        "plt.xticks(rotation=45)"
      ],
      "execution_count": 61,
      "outputs": [
        {
          "output_type": "execute_result",
          "data": {
            "text/plain": [
              "(array([ 0,  1,  2,  3,  4,  5,  6,  7,  8,  9, 10, 11, 12, 13, 14, 15, 16,\n",
              "        17]), <a list of 18 Text xticklabel objects>)"
            ]
          },
          "metadata": {
            "tags": []
          },
          "execution_count": 61
        },
        {
          "output_type": "display_data",
          "data": {
            "image/png": "[encoded data removed]",
            "text/plain": [
              "<Figure size 432x288 with 1 Axes>"
            ]
          },
          "metadata": {
            "tags": []
          }
        }
      ]
    },
    {
      "cell_type": "code",
      "metadata": {
        "id": "rC1x0TdjbRLH",
        "colab_type": "code",
        "outputId": "aa87aec4-6773-42c4-e01a-3fe360dae3fd",
        "colab": {
          "base_uri": "https://localhost:8080/",
          "height": 34
        }
      },
      "source": [
        "pokemon.shape #updated data frame has reduced number of rows and one more variable"
      ],
      "execution_count": 62,
      "outputs": [
        {
          "output_type": "execute_result",
          "data": {
            "text/plain": [
              "(675, 14)"
            ]
          },
          "metadata": {
            "tags": []
          },
          "execution_count": 62
        }
      ]
    },
    {
      "cell_type": "markdown",
      "metadata": {
        "id": "T6goZGAifTPk",
        "colab_type": "text"
      },
      "source": [
        "# (3) Create the data frames for the Kalos Elite Four trainer teams: Malva (4), Siebold (4), Wikstrom (4), Drasna (4), and the final Champion: Diantha (5). "
      ]
    },
    {
      "cell_type": "code",
      "metadata": {
        "id": "3ZcPoZT25n6r",
        "colab_type": "code",
        "outputId": "4067e13c-c9d3-44ac-8395-1ad5bb8b2a7f",
        "colab": {
          "base_uri": "https://localhost:8080/",
          "height": 173
        }
      },
      "source": [
        "# Malva (fire)\n",
        "malva = pokemon.loc[(pokemon.Name == 'Pyroar')  | (pokemon.Name == 'Torkoal') | (pokemon.Name == 'Chandelure') | (pokemon.Name == 'Talonflame') ]\n",
        "malva"
      ],
      "execution_count": 63,
      "outputs": [
        {
          "output_type": "execute_result",
          "data": {
            "text/html": [
              "<div>\n",
              "<style scoped>\n",
              "    .dataframe tbody tr th:only-of-type {\n",
              "        vertical-align: middle;\n",
              "    }\n",
              "\n",
              "    .dataframe tbody tr th {\n",
              "        vertical-align: top;\n",
              "    }\n",
              "\n",
              "    .dataframe thead th {\n",
              "        text-align: right;\n",
              "    }\n",
              "</style>\n",
              "<table border=\"1\" class=\"dataframe\">\n",
              "  <thead>\n",
              "    <tr style=\"text-align: right;\">\n",
              "      <th></th>\n",
              "      <th>#</th>\n",
              "      <th>Name</th>\n",
              "      <th>Type 1</th>\n",
              "      <th>Type 2</th>\n",
              "      <th>Total</th>\n",
              "      <th>HP</th>\n",
              "      <th>Attack</th>\n",
              "      <th>Defense</th>\n",
              "      <th>Sp. Atk</th>\n",
              "      <th>Sp. Def</th>\n",
              "      <th>Speed</th>\n",
              "      <th>Generation</th>\n",
              "      <th>Legendary</th>\n",
              "      <th>strength</th>\n",
              "    </tr>\n",
              "  </thead>\n",
              "  <tbody>\n",
              "    <tr>\n",
              "      <th>355</th>\n",
              "      <td>324</td>\n",
              "      <td>Torkoal</td>\n",
              "      <td>Fire</td>\n",
              "      <td>None</td>\n",
              "      <td>470</td>\n",
              "      <td>70</td>\n",
              "      <td>85</td>\n",
              "      <td>140</td>\n",
              "      <td>85</td>\n",
              "      <td>70</td>\n",
              "      <td>20</td>\n",
              "      <td>3</td>\n",
              "      <td>False</td>\n",
              "      <td>0.977985</td>\n",
              "    </tr>\n",
              "    <tr>\n",
              "      <th>670</th>\n",
              "      <td>609</td>\n",
              "      <td>Chandelure</td>\n",
              "      <td>Ghost</td>\n",
              "      <td>Fire</td>\n",
              "      <td>520</td>\n",
              "      <td>60</td>\n",
              "      <td>55</td>\n",
              "      <td>90</td>\n",
              "      <td>145</td>\n",
              "      <td>90</td>\n",
              "      <td>80</td>\n",
              "      <td>5</td>\n",
              "      <td>False</td>\n",
              "      <td>2.675609</td>\n",
              "    </tr>\n",
              "    <tr>\n",
              "      <th>731</th>\n",
              "      <td>663</td>\n",
              "      <td>Talonflame</td>\n",
              "      <td>Fire</td>\n",
              "      <td>Flying</td>\n",
              "      <td>499</td>\n",
              "      <td>78</td>\n",
              "      <td>81</td>\n",
              "      <td>71</td>\n",
              "      <td>74</td>\n",
              "      <td>69</td>\n",
              "      <td>126</td>\n",
              "      <td>6</td>\n",
              "      <td>False</td>\n",
              "      <td>2.230808</td>\n",
              "    </tr>\n",
              "    <tr>\n",
              "      <th>736</th>\n",
              "      <td>668</td>\n",
              "      <td>Pyroar</td>\n",
              "      <td>Fire</td>\n",
              "      <td>Normal</td>\n",
              "      <td>507</td>\n",
              "      <td>86</td>\n",
              "      <td>68</td>\n",
              "      <td>72</td>\n",
              "      <td>109</td>\n",
              "      <td>66</td>\n",
              "      <td>106</td>\n",
              "      <td>6</td>\n",
              "      <td>False</td>\n",
              "      <td>2.449236</td>\n",
              "    </tr>\n",
              "  </tbody>\n",
              "</table>\n",
              "</div>"
            ],
            "text/plain": [
              "       #        Name Type 1  Type 2  ...  Speed  Generation  Legendary  strength\n",
              "355  324     Torkoal   Fire    None  ...     20           3      False  0.977985\n",
              "670  609  Chandelure  Ghost    Fire  ...     80           5      False  2.675609\n",
              "731  663  Talonflame   Fire  Flying  ...    126           6      False  2.230808\n",
              "736  668      Pyroar   Fire  Normal  ...    106           6      False  2.449236\n",
              "\n",
              "[4 rows x 14 columns]"
            ]
          },
          "metadata": {
            "tags": []
          },
          "execution_count": 63
        }
      ]
    },
    {
      "cell_type": "code",
      "metadata": {
        "id": "FfzoN3nrt6dr",
        "colab_type": "code",
        "outputId": "4b71bacc-0798-472d-f602-44f368e81703",
        "colab": {
          "base_uri": "https://localhost:8080/",
          "height": 173
        }
      },
      "source": [
        "#Siebold (Water)\n",
        "siebold = pokemon.loc[ (pokemon['Name'] == \"Clawitzer\") | (pokemon['Name'] == \"Gyarados\") | (pokemon['Name'] == \"Starmie\") | (pokemon['Name'] == \"Barbaracle\"),]\n",
        "siebold"
      ],
      "execution_count": 64,
      "outputs": [
        {
          "output_type": "execute_result",
          "data": {
            "text/html": [
              "<div>\n",
              "<style scoped>\n",
              "    .dataframe tbody tr th:only-of-type {\n",
              "        vertical-align: middle;\n",
              "    }\n",
              "\n",
              "    .dataframe tbody tr th {\n",
              "        vertical-align: top;\n",
              "    }\n",
              "\n",
              "    .dataframe thead th {\n",
              "        text-align: right;\n",
              "    }\n",
              "</style>\n",
              "<table border=\"1\" class=\"dataframe\">\n",
              "  <thead>\n",
              "    <tr style=\"text-align: right;\">\n",
              "      <th></th>\n",
              "      <th>#</th>\n",
              "      <th>Name</th>\n",
              "      <th>Type 1</th>\n",
              "      <th>Type 2</th>\n",
              "      <th>Total</th>\n",
              "      <th>HP</th>\n",
              "      <th>Attack</th>\n",
              "      <th>Defense</th>\n",
              "      <th>Sp. Atk</th>\n",
              "      <th>Sp. Def</th>\n",
              "      <th>Speed</th>\n",
              "      <th>Generation</th>\n",
              "      <th>Legendary</th>\n",
              "      <th>strength</th>\n",
              "    </tr>\n",
              "  </thead>\n",
              "  <tbody>\n",
              "    <tr>\n",
              "      <th>130</th>\n",
              "      <td>121</td>\n",
              "      <td>Starmie</td>\n",
              "      <td>Water</td>\n",
              "      <td>Psychic</td>\n",
              "      <td>520</td>\n",
              "      <td>60</td>\n",
              "      <td>75</td>\n",
              "      <td>85</td>\n",
              "      <td>100</td>\n",
              "      <td>85</td>\n",
              "      <td>115</td>\n",
              "      <td>1</td>\n",
              "      <td>False</td>\n",
              "      <td>2.780967</td>\n",
              "    </tr>\n",
              "    <tr>\n",
              "      <th>140</th>\n",
              "      <td>130</td>\n",
              "      <td>Gyarados</td>\n",
              "      <td>Water</td>\n",
              "      <td>Flying</td>\n",
              "      <td>540</td>\n",
              "      <td>95</td>\n",
              "      <td>125</td>\n",
              "      <td>79</td>\n",
              "      <td>60</td>\n",
              "      <td>100</td>\n",
              "      <td>81</td>\n",
              "      <td>1</td>\n",
              "      <td>False</td>\n",
              "      <td>3.646351</td>\n",
              "    </tr>\n",
              "    <tr>\n",
              "      <th>759</th>\n",
              "      <td>689</td>\n",
              "      <td>Barbaracle</td>\n",
              "      <td>Rock</td>\n",
              "      <td>Water</td>\n",
              "      <td>500</td>\n",
              "      <td>72</td>\n",
              "      <td>105</td>\n",
              "      <td>115</td>\n",
              "      <td>54</td>\n",
              "      <td>86</td>\n",
              "      <td>68</td>\n",
              "      <td>6</td>\n",
              "      <td>False</td>\n",
              "      <td>2.150100</td>\n",
              "    </tr>\n",
              "    <tr>\n",
              "      <th>763</th>\n",
              "      <td>693</td>\n",
              "      <td>Clawitzer</td>\n",
              "      <td>Water</td>\n",
              "      <td>None</td>\n",
              "      <td>500</td>\n",
              "      <td>71</td>\n",
              "      <td>73</td>\n",
              "      <td>88</td>\n",
              "      <td>120</td>\n",
              "      <td>89</td>\n",
              "      <td>59</td>\n",
              "      <td>6</td>\n",
              "      <td>False</td>\n",
              "      <td>2.074263</td>\n",
              "    </tr>\n",
              "  </tbody>\n",
              "</table>\n",
              "</div>"
            ],
            "text/plain": [
              "       #        Name Type 1   Type 2  ...  Speed  Generation  Legendary  strength\n",
              "130  121     Starmie  Water  Psychic  ...    115           1      False  2.780967\n",
              "140  130    Gyarados  Water   Flying  ...     81           1      False  3.646351\n",
              "759  689  Barbaracle   Rock    Water  ...     68           6      False  2.150100\n",
              "763  693   Clawitzer  Water     None  ...     59           6      False  2.074263\n",
              "\n",
              "[4 rows x 14 columns]"
            ]
          },
          "metadata": {
            "tags": []
          },
          "execution_count": 64
        }
      ]
    },
    {
      "cell_type": "code",
      "metadata": {
        "id": "eEfaiY6FdApE",
        "colab_type": "code",
        "outputId": "67880cea-7f70-43c8-86cc-69fd1342d106",
        "colab": {
          "base_uri": "https://localhost:8080/",
          "height": 173
        }
      },
      "source": [
        "# Wikstrom (steel)\n",
        "wikstrom = pokemon.loc[(pokemon.Name == 'Klefki')  | (pokemon.Name == 'Probopass') | (pokemon.Name == 'Scizor') | (pokemon.Name == 'AegislashBlade Forme') | (pokemon.Name == 'AegislashShield Forme')]\n",
        "wikstrom"
      ],
      "execution_count": 65,
      "outputs": [
        {
          "output_type": "execute_result",
          "data": {
            "text/html": [
              "<div>\n",
              "<style scoped>\n",
              "    .dataframe tbody tr th:only-of-type {\n",
              "        vertical-align: middle;\n",
              "    }\n",
              "\n",
              "    .dataframe tbody tr th {\n",
              "        vertical-align: top;\n",
              "    }\n",
              "\n",
              "    .dataframe thead th {\n",
              "        text-align: right;\n",
              "    }\n",
              "</style>\n",
              "<table border=\"1\" class=\"dataframe\">\n",
              "  <thead>\n",
              "    <tr style=\"text-align: right;\">\n",
              "      <th></th>\n",
              "      <th>#</th>\n",
              "      <th>Name</th>\n",
              "      <th>Type 1</th>\n",
              "      <th>Type 2</th>\n",
              "      <th>Total</th>\n",
              "      <th>HP</th>\n",
              "      <th>Attack</th>\n",
              "      <th>Defense</th>\n",
              "      <th>Sp. Atk</th>\n",
              "      <th>Sp. Def</th>\n",
              "      <th>Speed</th>\n",
              "      <th>Generation</th>\n",
              "      <th>Legendary</th>\n",
              "      <th>strength</th>\n",
              "    </tr>\n",
              "  </thead>\n",
              "  <tbody>\n",
              "    <tr>\n",
              "      <th>228</th>\n",
              "      <td>212</td>\n",
              "      <td>Scizor</td>\n",
              "      <td>Bug</td>\n",
              "      <td>Steel</td>\n",
              "      <td>500</td>\n",
              "      <td>70</td>\n",
              "      <td>130</td>\n",
              "      <td>100</td>\n",
              "      <td>55</td>\n",
              "      <td>80</td>\n",
              "      <td>65</td>\n",
              "      <td>2</td>\n",
              "      <td>False</td>\n",
              "      <td>2.072717</td>\n",
              "    </tr>\n",
              "    <tr>\n",
              "      <th>528</th>\n",
              "      <td>476</td>\n",
              "      <td>Probopass</td>\n",
              "      <td>Rock</td>\n",
              "      <td>Steel</td>\n",
              "      <td>525</td>\n",
              "      <td>60</td>\n",
              "      <td>55</td>\n",
              "      <td>145</td>\n",
              "      <td>75</td>\n",
              "      <td>150</td>\n",
              "      <td>40</td>\n",
              "      <td>4</td>\n",
              "      <td>False</td>\n",
              "      <td>3.079738</td>\n",
              "    </tr>\n",
              "    <tr>\n",
              "      <th>750</th>\n",
              "      <td>681</td>\n",
              "      <td>AegislashBlade Forme</td>\n",
              "      <td>Steel</td>\n",
              "      <td>Ghost</td>\n",
              "      <td>520</td>\n",
              "      <td>60</td>\n",
              "      <td>150</td>\n",
              "      <td>50</td>\n",
              "      <td>150</td>\n",
              "      <td>50</td>\n",
              "      <td>60</td>\n",
              "      <td>6</td>\n",
              "      <td>False</td>\n",
              "      <td>2.347023</td>\n",
              "    </tr>\n",
              "    <tr>\n",
              "      <th>777</th>\n",
              "      <td>707</td>\n",
              "      <td>Klefki</td>\n",
              "      <td>Steel</td>\n",
              "      <td>Fairy</td>\n",
              "      <td>470</td>\n",
              "      <td>57</td>\n",
              "      <td>80</td>\n",
              "      <td>91</td>\n",
              "      <td>80</td>\n",
              "      <td>87</td>\n",
              "      <td>75</td>\n",
              "      <td>6</td>\n",
              "      <td>False</td>\n",
              "      <td>1.094161</td>\n",
              "    </tr>\n",
              "  </tbody>\n",
              "</table>\n",
              "</div>"
            ],
            "text/plain": [
              "       #                  Name Type 1  ... Generation  Legendary  strength\n",
              "228  212                Scizor    Bug  ...          2      False  2.072717\n",
              "528  476             Probopass   Rock  ...          4      False  3.079738\n",
              "750  681  AegislashBlade Forme  Steel  ...          6      False  2.347023\n",
              "777  707                Klefki  Steel  ...          6      False  1.094161\n",
              "\n",
              "[4 rows x 14 columns]"
            ]
          },
          "metadata": {
            "tags": []
          },
          "execution_count": 65
        }
      ]
    },
    {
      "cell_type": "code",
      "metadata": {
        "id": "81K4MvrOl_fS",
        "colab_type": "code",
        "outputId": "1424f5af-2921-4bfc-b5c8-15b53a6ab0e9",
        "colab": {
          "base_uri": "https://localhost:8080/",
          "height": 173
        }
      },
      "source": [
        "#Drasna (dragon)\n",
        "drasna = pokemon.loc[ (pokemon['Name'] == \"Dragalge\") | (pokemon['Name'] == \"Druddigon\") | (pokemon['Name'] == \"Altaria\") | (pokemon['Name'] == \"Noivern\"),]\n",
        "drasna"
      ],
      "execution_count": 66,
      "outputs": [
        {
          "output_type": "execute_result",
          "data": {
            "text/html": [
              "<div>\n",
              "<style scoped>\n",
              "    .dataframe tbody tr th:only-of-type {\n",
              "        vertical-align: middle;\n",
              "    }\n",
              "\n",
              "    .dataframe tbody tr th {\n",
              "        vertical-align: top;\n",
              "    }\n",
              "\n",
              "    .dataframe thead th {\n",
              "        text-align: right;\n",
              "    }\n",
              "</style>\n",
              "<table border=\"1\" class=\"dataframe\">\n",
              "  <thead>\n",
              "    <tr style=\"text-align: right;\">\n",
              "      <th></th>\n",
              "      <th>#</th>\n",
              "      <th>Name</th>\n",
              "      <th>Type 1</th>\n",
              "      <th>Type 2</th>\n",
              "      <th>Total</th>\n",
              "      <th>HP</th>\n",
              "      <th>Attack</th>\n",
              "      <th>Defense</th>\n",
              "      <th>Sp. Atk</th>\n",
              "      <th>Sp. Def</th>\n",
              "      <th>Speed</th>\n",
              "      <th>Generation</th>\n",
              "      <th>Legendary</th>\n",
              "      <th>strength</th>\n",
              "    </tr>\n",
              "  </thead>\n",
              "  <tbody>\n",
              "    <tr>\n",
              "      <th>365</th>\n",
              "      <td>334</td>\n",
              "      <td>Altaria</td>\n",
              "      <td>Dragon</td>\n",
              "      <td>Flying</td>\n",
              "      <td>490</td>\n",
              "      <td>75</td>\n",
              "      <td>70</td>\n",
              "      <td>90</td>\n",
              "      <td>70</td>\n",
              "      <td>105</td>\n",
              "      <td>80</td>\n",
              "      <td>3</td>\n",
              "      <td>False</td>\n",
              "      <td>1.972182</td>\n",
              "    </tr>\n",
              "    <tr>\n",
              "      <th>682</th>\n",
              "      <td>621</td>\n",
              "      <td>Druddigon</td>\n",
              "      <td>Dragon</td>\n",
              "      <td>None</td>\n",
              "      <td>485</td>\n",
              "      <td>77</td>\n",
              "      <td>120</td>\n",
              "      <td>90</td>\n",
              "      <td>60</td>\n",
              "      <td>90</td>\n",
              "      <td>48</td>\n",
              "      <td>5</td>\n",
              "      <td>False</td>\n",
              "      <td>1.645228</td>\n",
              "    </tr>\n",
              "    <tr>\n",
              "      <th>761</th>\n",
              "      <td>691</td>\n",
              "      <td>Dragalge</td>\n",
              "      <td>Poison</td>\n",
              "      <td>Dragon</td>\n",
              "      <td>494</td>\n",
              "      <td>65</td>\n",
              "      <td>75</td>\n",
              "      <td>90</td>\n",
              "      <td>97</td>\n",
              "      <td>123</td>\n",
              "      <td>44</td>\n",
              "      <td>6</td>\n",
              "      <td>False</td>\n",
              "      <td>1.967745</td>\n",
              "    </tr>\n",
              "    <tr>\n",
              "      <th>791</th>\n",
              "      <td>715</td>\n",
              "      <td>Noivern</td>\n",
              "      <td>Flying</td>\n",
              "      <td>Dragon</td>\n",
              "      <td>535</td>\n",
              "      <td>85</td>\n",
              "      <td>70</td>\n",
              "      <td>80</td>\n",
              "      <td>97</td>\n",
              "      <td>80</td>\n",
              "      <td>123</td>\n",
              "      <td>6</td>\n",
              "      <td>False</td>\n",
              "      <td>3.449577</td>\n",
              "    </tr>\n",
              "  </tbody>\n",
              "</table>\n",
              "</div>"
            ],
            "text/plain": [
              "       #       Name  Type 1  Type 2  ...  Speed  Generation  Legendary  strength\n",
              "365  334    Altaria  Dragon  Flying  ...     80           3      False  1.972182\n",
              "682  621  Druddigon  Dragon    None  ...     48           5      False  1.645228\n",
              "761  691   Dragalge  Poison  Dragon  ...     44           6      False  1.967745\n",
              "791  715    Noivern  Flying  Dragon  ...    123           6      False  3.449577\n",
              "\n",
              "[4 rows x 14 columns]"
            ]
          },
          "metadata": {
            "tags": []
          },
          "execution_count": 66
        }
      ]
    },
    {
      "cell_type": "code",
      "metadata": {
        "id": "VqiM5uLR6Uw4",
        "colab_type": "code",
        "outputId": "15ede1da-5a38-41ff-b032-5f6c7ef67752",
        "colab": {
          "base_uri": "https://localhost:8080/",
          "height": 204
        }
      },
      "source": [
        "#Diantha (Champion)\n",
        "diantha = pokemon.loc[ (pokemon['Name'] == \"Hawlucha\") | (pokemon['Name'] == \"Tyrantrum\") | (pokemon['Name'] == \"Aurorus\") | (pokemon['Name'] == \"GourgeistAverage Size\") | (pokemon['Name'] == \"Goodra\") | (pokemon['Name'] == \"GardevoirMega Gardevoir\"),]\n",
        "diantha"
      ],
      "execution_count": 67,
      "outputs": [
        {
          "output_type": "execute_result",
          "data": {
            "text/html": [
              "<div>\n",
              "<style scoped>\n",
              "    .dataframe tbody tr th:only-of-type {\n",
              "        vertical-align: middle;\n",
              "    }\n",
              "\n",
              "    .dataframe tbody tr th {\n",
              "        vertical-align: top;\n",
              "    }\n",
              "\n",
              "    .dataframe thead th {\n",
              "        text-align: right;\n",
              "    }\n",
              "</style>\n",
              "<table border=\"1\" class=\"dataframe\">\n",
              "  <thead>\n",
              "    <tr style=\"text-align: right;\">\n",
              "      <th></th>\n",
              "      <th>#</th>\n",
              "      <th>Name</th>\n",
              "      <th>Type 1</th>\n",
              "      <th>Type 2</th>\n",
              "      <th>Total</th>\n",
              "      <th>HP</th>\n",
              "      <th>Attack</th>\n",
              "      <th>Defense</th>\n",
              "      <th>Sp. Atk</th>\n",
              "      <th>Sp. Def</th>\n",
              "      <th>Speed</th>\n",
              "      <th>Generation</th>\n",
              "      <th>Legendary</th>\n",
              "      <th>strength</th>\n",
              "    </tr>\n",
              "  </thead>\n",
              "  <tbody>\n",
              "    <tr>\n",
              "      <th>767</th>\n",
              "      <td>697</td>\n",
              "      <td>Tyrantrum</td>\n",
              "      <td>Rock</td>\n",
              "      <td>Dragon</td>\n",
              "      <td>521</td>\n",
              "      <td>82</td>\n",
              "      <td>121</td>\n",
              "      <td>119</td>\n",
              "      <td>69</td>\n",
              "      <td>59</td>\n",
              "      <td>71</td>\n",
              "      <td>6</td>\n",
              "      <td>False</td>\n",
              "      <td>2.754374</td>\n",
              "    </tr>\n",
              "    <tr>\n",
              "      <th>769</th>\n",
              "      <td>699</td>\n",
              "      <td>Aurorus</td>\n",
              "      <td>Rock</td>\n",
              "      <td>Ice</td>\n",
              "      <td>521</td>\n",
              "      <td>123</td>\n",
              "      <td>77</td>\n",
              "      <td>72</td>\n",
              "      <td>99</td>\n",
              "      <td>92</td>\n",
              "      <td>58</td>\n",
              "      <td>6</td>\n",
              "      <td>False</td>\n",
              "      <td>3.152483</td>\n",
              "    </tr>\n",
              "    <tr>\n",
              "      <th>771</th>\n",
              "      <td>701</td>\n",
              "      <td>Hawlucha</td>\n",
              "      <td>Fighting</td>\n",
              "      <td>Flying</td>\n",
              "      <td>500</td>\n",
              "      <td>78</td>\n",
              "      <td>92</td>\n",
              "      <td>75</td>\n",
              "      <td>74</td>\n",
              "      <td>63</td>\n",
              "      <td>118</td>\n",
              "      <td>6</td>\n",
              "      <td>False</td>\n",
              "      <td>2.207096</td>\n",
              "    </tr>\n",
              "    <tr>\n",
              "      <th>776</th>\n",
              "      <td>706</td>\n",
              "      <td>Goodra</td>\n",
              "      <td>Dragon</td>\n",
              "      <td>None</td>\n",
              "      <td>600</td>\n",
              "      <td>90</td>\n",
              "      <td>100</td>\n",
              "      <td>70</td>\n",
              "      <td>110</td>\n",
              "      <td>150</td>\n",
              "      <td>80</td>\n",
              "      <td>6</td>\n",
              "      <td>False</td>\n",
              "      <td>5.681975</td>\n",
              "    </tr>\n",
              "    <tr>\n",
              "      <th>784</th>\n",
              "      <td>711</td>\n",
              "      <td>GourgeistAverage Size</td>\n",
              "      <td>Ghost</td>\n",
              "      <td>Grass</td>\n",
              "      <td>494</td>\n",
              "      <td>65</td>\n",
              "      <td>90</td>\n",
              "      <td>122</td>\n",
              "      <td>58</td>\n",
              "      <td>75</td>\n",
              "      <td>84</td>\n",
              "      <td>6</td>\n",
              "      <td>False</td>\n",
              "      <td>1.915841</td>\n",
              "    </tr>\n",
              "  </tbody>\n",
              "</table>\n",
              "</div>"
            ],
            "text/plain": [
              "       #                   Name    Type 1  ... Generation  Legendary  strength\n",
              "767  697              Tyrantrum      Rock  ...          6      False  2.754374\n",
              "769  699                Aurorus      Rock  ...          6      False  3.152483\n",
              "771  701               Hawlucha  Fighting  ...          6      False  2.207096\n",
              "776  706                 Goodra    Dragon  ...          6      False  5.681975\n",
              "784  711  GourgeistAverage Size     Ghost  ...          6      False  1.915841\n",
              "\n",
              "[5 rows x 14 columns]"
            ]
          },
          "metadata": {
            "tags": []
          },
          "execution_count": 67
        }
      ]
    },
    {
      "cell_type": "code",
      "metadata": {
        "id": "y9mBrNqg47jx",
        "colab_type": "code",
        "outputId": "f51a813d-4818-40a5-aa79-8f5affacd66a",
        "colab": {
          "base_uri": "https://localhost:8080/",
          "height": 700
        }
      },
      "source": [
        "bosses = pd.concat([malva, siebold, wikstrom, drasna, diantha])\n",
        "bosses = bosses.reset_index(drop=True)\n",
        "bosses"
      ],
      "execution_count": 68,
      "outputs": [
        {
          "output_type": "execute_result",
          "data": {
            "text/html": [
              "<div>\n",
              "<style scoped>\n",
              "    .dataframe tbody tr th:only-of-type {\n",
              "        vertical-align: middle;\n",
              "    }\n",
              "\n",
              "    .dataframe tbody tr th {\n",
              "        vertical-align: top;\n",
              "    }\n",
              "\n",
              "    .dataframe thead th {\n",
              "        text-align: right;\n",
              "    }\n",
              "</style>\n",
              "<table border=\"1\" class=\"dataframe\">\n",
              "  <thead>\n",
              "    <tr style=\"text-align: right;\">\n",
              "      <th></th>\n",
              "      <th>#</th>\n",
              "      <th>Name</th>\n",
              "      <th>Type 1</th>\n",
              "      <th>Type 2</th>\n",
              "      <th>Total</th>\n",
              "      <th>HP</th>\n",
              "      <th>Attack</th>\n",
              "      <th>Defense</th>\n",
              "      <th>Sp. Atk</th>\n",
              "      <th>Sp. Def</th>\n",
              "      <th>Speed</th>\n",
              "      <th>Generation</th>\n",
              "      <th>Legendary</th>\n",
              "      <th>strength</th>\n",
              "    </tr>\n",
              "  </thead>\n",
              "  <tbody>\n",
              "    <tr>\n",
              "      <th>0</th>\n",
              "      <td>324</td>\n",
              "      <td>Torkoal</td>\n",
              "      <td>Fire</td>\n",
              "      <td>None</td>\n",
              "      <td>470</td>\n",
              "      <td>70</td>\n",
              "      <td>85</td>\n",
              "      <td>140</td>\n",
              "      <td>85</td>\n",
              "      <td>70</td>\n",
              "      <td>20</td>\n",
              "      <td>3</td>\n",
              "      <td>False</td>\n",
              "      <td>0.977985</td>\n",
              "    </tr>\n",
              "    <tr>\n",
              "      <th>1</th>\n",
              "      <td>609</td>\n",
              "      <td>Chandelure</td>\n",
              "      <td>Ghost</td>\n",
              "      <td>Fire</td>\n",
              "      <td>520</td>\n",
              "      <td>60</td>\n",
              "      <td>55</td>\n",
              "      <td>90</td>\n",
              "      <td>145</td>\n",
              "      <td>90</td>\n",
              "      <td>80</td>\n",
              "      <td>5</td>\n",
              "      <td>False</td>\n",
              "      <td>2.675609</td>\n",
              "    </tr>\n",
              "    <tr>\n",
              "      <th>2</th>\n",
              "      <td>663</td>\n",
              "      <td>Talonflame</td>\n",
              "      <td>Fire</td>\n",
              "      <td>Flying</td>\n",
              "      <td>499</td>\n",
              "      <td>78</td>\n",
              "      <td>81</td>\n",
              "      <td>71</td>\n",
              "      <td>74</td>\n",
              "      <td>69</td>\n",
              "      <td>126</td>\n",
              "      <td>6</td>\n",
              "      <td>False</td>\n",
              "      <td>2.230808</td>\n",
              "    </tr>\n",
              "    <tr>\n",
              "      <th>3</th>\n",
              "      <td>668</td>\n",
              "      <td>Pyroar</td>\n",
              "      <td>Fire</td>\n",
              "      <td>Normal</td>\n",
              "      <td>507</td>\n",
              "      <td>86</td>\n",
              "      <td>68</td>\n",
              "      <td>72</td>\n",
              "      <td>109</td>\n",
              "      <td>66</td>\n",
              "      <td>106</td>\n",
              "      <td>6</td>\n",
              "      <td>False</td>\n",
              "      <td>2.449236</td>\n",
              "    </tr>\n",
              "    <tr>\n",
              "      <th>4</th>\n",
              "      <td>121</td>\n",
              "      <td>Starmie</td>\n",
              "      <td>Water</td>\n",
              "      <td>Psychic</td>\n",
              "      <td>520</td>\n",
              "      <td>60</td>\n",
              "      <td>75</td>\n",
              "      <td>85</td>\n",
              "      <td>100</td>\n",
              "      <td>85</td>\n",
              "      <td>115</td>\n",
              "      <td>1</td>\n",
              "      <td>False</td>\n",
              "      <td>2.780967</td>\n",
              "    </tr>\n",
              "    <tr>\n",
              "      <th>5</th>\n",
              "      <td>130</td>\n",
              "      <td>Gyarados</td>\n",
              "      <td>Water</td>\n",
              "      <td>Flying</td>\n",
              "      <td>540</td>\n",
              "      <td>95</td>\n",
              "      <td>125</td>\n",
              "      <td>79</td>\n",
              "      <td>60</td>\n",
              "      <td>100</td>\n",
              "      <td>81</td>\n",
              "      <td>1</td>\n",
              "      <td>False</td>\n",
              "      <td>3.646351</td>\n",
              "    </tr>\n",
              "    <tr>\n",
              "      <th>6</th>\n",
              "      <td>689</td>\n",
              "      <td>Barbaracle</td>\n",
              "      <td>Rock</td>\n",
              "      <td>Water</td>\n",
              "      <td>500</td>\n",
              "      <td>72</td>\n",
              "      <td>105</td>\n",
              "      <td>115</td>\n",
              "      <td>54</td>\n",
              "      <td>86</td>\n",
              "      <td>68</td>\n",
              "      <td>6</td>\n",
              "      <td>False</td>\n",
              "      <td>2.150100</td>\n",
              "    </tr>\n",
              "    <tr>\n",
              "      <th>7</th>\n",
              "      <td>693</td>\n",
              "      <td>Clawitzer</td>\n",
              "      <td>Water</td>\n",
              "      <td>None</td>\n",
              "      <td>500</td>\n",
              "      <td>71</td>\n",
              "      <td>73</td>\n",
              "      <td>88</td>\n",
              "      <td>120</td>\n",
              "      <td>89</td>\n",
              "      <td>59</td>\n",
              "      <td>6</td>\n",
              "      <td>False</td>\n",
              "      <td>2.074263</td>\n",
              "    </tr>\n",
              "    <tr>\n",
              "      <th>8</th>\n",
              "      <td>212</td>\n",
              "      <td>Scizor</td>\n",
              "      <td>Bug</td>\n",
              "      <td>Steel</td>\n",
              "      <td>500</td>\n",
              "      <td>70</td>\n",
              "      <td>130</td>\n",
              "      <td>100</td>\n",
              "      <td>55</td>\n",
              "      <td>80</td>\n",
              "      <td>65</td>\n",
              "      <td>2</td>\n",
              "      <td>False</td>\n",
              "      <td>2.072717</td>\n",
              "    </tr>\n",
              "    <tr>\n",
              "      <th>9</th>\n",
              "      <td>476</td>\n",
              "      <td>Probopass</td>\n",
              "      <td>Rock</td>\n",
              "      <td>Steel</td>\n",
              "      <td>525</td>\n",
              "      <td>60</td>\n",
              "      <td>55</td>\n",
              "      <td>145</td>\n",
              "      <td>75</td>\n",
              "      <td>150</td>\n",
              "      <td>40</td>\n",
              "      <td>4</td>\n",
              "      <td>False</td>\n",
              "      <td>3.079738</td>\n",
              "    </tr>\n",
              "    <tr>\n",
              "      <th>10</th>\n",
              "      <td>681</td>\n",
              "      <td>AegislashBlade Forme</td>\n",
              "      <td>Steel</td>\n",
              "      <td>Ghost</td>\n",
              "      <td>520</td>\n",
              "      <td>60</td>\n",
              "      <td>150</td>\n",
              "      <td>50</td>\n",
              "      <td>150</td>\n",
              "      <td>50</td>\n",
              "      <td>60</td>\n",
              "      <td>6</td>\n",
              "      <td>False</td>\n",
              "      <td>2.347023</td>\n",
              "    </tr>\n",
              "    <tr>\n",
              "      <th>11</th>\n",
              "      <td>707</td>\n",
              "      <td>Klefki</td>\n",
              "      <td>Steel</td>\n",
              "      <td>Fairy</td>\n",
              "      <td>470</td>\n",
              "      <td>57</td>\n",
              "      <td>80</td>\n",
              "      <td>91</td>\n",
              "      <td>80</td>\n",
              "      <td>87</td>\n",
              "      <td>75</td>\n",
              "      <td>6</td>\n",
              "      <td>False</td>\n",
              "      <td>1.094161</td>\n",
              "    </tr>\n",
              "    <tr>\n",
              "      <th>12</th>\n",
              "      <td>334</td>\n",
              "      <td>Altaria</td>\n",
              "      <td>Dragon</td>\n",
              "      <td>Flying</td>\n",
              "      <td>490</td>\n",
              "      <td>75</td>\n",
              "      <td>70</td>\n",
              "      <td>90</td>\n",
              "      <td>70</td>\n",
              "      <td>105</td>\n",
              "      <td>80</td>\n",
              "      <td>3</td>\n",
              "      <td>False</td>\n",
              "      <td>1.972182</td>\n",
              "    </tr>\n",
              "    <tr>\n",
              "      <th>13</th>\n",
              "      <td>621</td>\n",
              "      <td>Druddigon</td>\n",
              "      <td>Dragon</td>\n",
              "      <td>None</td>\n",
              "      <td>485</td>\n",
              "      <td>77</td>\n",
              "      <td>120</td>\n",
              "      <td>90</td>\n",
              "      <td>60</td>\n",
              "      <td>90</td>\n",
              "      <td>48</td>\n",
              "      <td>5</td>\n",
              "      <td>False</td>\n",
              "      <td>1.645228</td>\n",
              "    </tr>\n",
              "    <tr>\n",
              "      <th>14</th>\n",
              "      <td>691</td>\n",
              "      <td>Dragalge</td>\n",
              "      <td>Poison</td>\n",
              "      <td>Dragon</td>\n",
              "      <td>494</td>\n",
              "      <td>65</td>\n",
              "      <td>75</td>\n",
              "      <td>90</td>\n",
              "      <td>97</td>\n",
              "      <td>123</td>\n",
              "      <td>44</td>\n",
              "      <td>6</td>\n",
              "      <td>False</td>\n",
              "      <td>1.967745</td>\n",
              "    </tr>\n",
              "    <tr>\n",
              "      <th>15</th>\n",
              "      <td>715</td>\n",
              "      <td>Noivern</td>\n",
              "      <td>Flying</td>\n",
              "      <td>Dragon</td>\n",
              "      <td>535</td>\n",
              "      <td>85</td>\n",
              "      <td>70</td>\n",
              "      <td>80</td>\n",
              "      <td>97</td>\n",
              "      <td>80</td>\n",
              "      <td>123</td>\n",
              "      <td>6</td>\n",
              "      <td>False</td>\n",
              "      <td>3.449577</td>\n",
              "    </tr>\n",
              "    <tr>\n",
              "      <th>16</th>\n",
              "      <td>697</td>\n",
              "      <td>Tyrantrum</td>\n",
              "      <td>Rock</td>\n",
              "      <td>Dragon</td>\n",
              "      <td>521</td>\n",
              "      <td>82</td>\n",
              "      <td>121</td>\n",
              "      <td>119</td>\n",
              "      <td>69</td>\n",
              "      <td>59</td>\n",
              "      <td>71</td>\n",
              "      <td>6</td>\n",
              "      <td>False</td>\n",
              "      <td>2.754374</td>\n",
              "    </tr>\n",
              "    <tr>\n",
              "      <th>17</th>\n",
              "      <td>699</td>\n",
              "      <td>Aurorus</td>\n",
              "      <td>Rock</td>\n",
              "      <td>Ice</td>\n",
              "      <td>521</td>\n",
              "      <td>123</td>\n",
              "      <td>77</td>\n",
              "      <td>72</td>\n",
              "      <td>99</td>\n",
              "      <td>92</td>\n",
              "      <td>58</td>\n",
              "      <td>6</td>\n",
              "      <td>False</td>\n",
              "      <td>3.152483</td>\n",
              "    </tr>\n",
              "    <tr>\n",
              "      <th>18</th>\n",
              "      <td>701</td>\n",
              "      <td>Hawlucha</td>\n",
              "      <td>Fighting</td>\n",
              "      <td>Flying</td>\n",
              "      <td>500</td>\n",
              "      <td>78</td>\n",
              "      <td>92</td>\n",
              "      <td>75</td>\n",
              "      <td>74</td>\n",
              "      <td>63</td>\n",
              "      <td>118</td>\n",
              "      <td>6</td>\n",
              "      <td>False</td>\n",
              "      <td>2.207096</td>\n",
              "    </tr>\n",
              "    <tr>\n",
              "      <th>19</th>\n",
              "      <td>706</td>\n",
              "      <td>Goodra</td>\n",
              "      <td>Dragon</td>\n",
              "      <td>None</td>\n",
              "      <td>600</td>\n",
              "      <td>90</td>\n",
              "      <td>100</td>\n",
              "      <td>70</td>\n",
              "      <td>110</td>\n",
              "      <td>150</td>\n",
              "      <td>80</td>\n",
              "      <td>6</td>\n",
              "      <td>False</td>\n",
              "      <td>5.681975</td>\n",
              "    </tr>\n",
              "    <tr>\n",
              "      <th>20</th>\n",
              "      <td>711</td>\n",
              "      <td>GourgeistAverage Size</td>\n",
              "      <td>Ghost</td>\n",
              "      <td>Grass</td>\n",
              "      <td>494</td>\n",
              "      <td>65</td>\n",
              "      <td>90</td>\n",
              "      <td>122</td>\n",
              "      <td>58</td>\n",
              "      <td>75</td>\n",
              "      <td>84</td>\n",
              "      <td>6</td>\n",
              "      <td>False</td>\n",
              "      <td>1.915841</td>\n",
              "    </tr>\n",
              "  </tbody>\n",
              "</table>\n",
              "</div>"
            ],
            "text/plain": [
              "      #                   Name    Type 1  ... Generation  Legendary  strength\n",
              "0   324                Torkoal      Fire  ...          3      False  0.977985\n",
              "1   609             Chandelure     Ghost  ...          5      False  2.675609\n",
              "2   663             Talonflame      Fire  ...          6      False  2.230808\n",
              "3   668                 Pyroar      Fire  ...          6      False  2.449236\n",
              "4   121                Starmie     Water  ...          1      False  2.780967\n",
              "5   130               Gyarados     Water  ...          1      False  3.646351\n",
              "6   689             Barbaracle      Rock  ...          6      False  2.150100\n",
              "7   693              Clawitzer     Water  ...          6      False  2.074263\n",
              "8   212                 Scizor       Bug  ...          2      False  2.072717\n",
              "9   476              Probopass      Rock  ...          4      False  3.079738\n",
              "10  681   AegislashBlade Forme     Steel  ...          6      False  2.347023\n",
              "11  707                 Klefki     Steel  ...          6      False  1.094161\n",
              "12  334                Altaria    Dragon  ...          3      False  1.972182\n",
              "13  621              Druddigon    Dragon  ...          5      False  1.645228\n",
              "14  691               Dragalge    Poison  ...          6      False  1.967745\n",
              "15  715                Noivern    Flying  ...          6      False  3.449577\n",
              "16  697              Tyrantrum      Rock  ...          6      False  2.754374\n",
              "17  699                Aurorus      Rock  ...          6      False  3.152483\n",
              "18  701               Hawlucha  Fighting  ...          6      False  2.207096\n",
              "19  706                 Goodra    Dragon  ...          6      False  5.681975\n",
              "20  711  GourgeistAverage Size     Ghost  ...          6      False  1.915841\n",
              "\n",
              "[21 rows x 14 columns]"
            ]
          },
          "metadata": {
            "tags": []
          },
          "execution_count": 68
        }
      ]
    },
    {
      "cell_type": "code",
      "metadata": {
        "id": "aXhpDQnT-BCi",
        "colab_type": "code",
        "outputId": "8f5f1fb1-4f85-45e0-dd56-3462ba7be473",
        "colab": {
          "base_uri": "https://localhost:8080/",
          "height": 170
        }
      },
      "source": [
        "bosses_means = pd.concat([bosses.iloc[:,4:11],bosses.iloc[:,13]], axis=1).mean()\n",
        "bosses_means"
      ],
      "execution_count": 69,
      "outputs": [
        {
          "output_type": "execute_result",
          "data": {
            "text/plain": [
              "Total       510.047619\n",
              "HP           75.190476\n",
              "Attack       90.333333\n",
              "Defense      92.095238\n",
              "Sp. Atk      87.666667\n",
              "Sp. Def      88.523810\n",
              "Speed        76.238095\n",
              "strength      2.491688\n",
              "dtype: float64"
            ]
          },
          "metadata": {
            "tags": []
          },
          "execution_count": 69
        }
      ]
    },
    {
      "cell_type": "markdown",
      "metadata": {
        "id": "dERKAPzsI4Uv",
        "colab_type": "text"
      },
      "source": [
        "### This looks at the difference in means between the trainer bosses's Pokemon and overall Pokemon numeric stats. We see that for each numeric value, the Elite Four and Champion score higher, which makes sense since the trainers are supposed to be very high in strength."
      ]
    },
    {
      "cell_type": "code",
      "metadata": {
        "id": "a0o_1Z9b-aEr",
        "colab_type": "code",
        "outputId": "5e5a46c9-5bb0-4c1a-d3f2-4a14e8bb64fa",
        "colab": {
          "base_uri": "https://localhost:8080/",
          "height": 170
        }
      },
      "source": [
        "overall_numeric = pd.concat([pokemon.iloc[:,4:11],pokemon.iloc[:,13]], axis=1)\n",
        "bosses_means - overall_numeric.mean()"
      ],
      "execution_count": 70,
      "outputs": [
        {
          "output_type": "execute_result",
          "data": {
            "text/plain": [
              "Total       105.886138\n",
              "HP            8.556402\n",
              "Attack       17.460741\n",
              "Defense      23.532275\n",
              "Sp. Atk      21.857778\n",
              "Sp. Def      21.919365\n",
              "Speed        12.559577\n",
              "strength      3.515500\n",
              "dtype: float64"
            ]
          },
          "metadata": {
            "tags": []
          },
          "execution_count": 70
        }
      ]
    },
    {
      "cell_type": "code",
      "metadata": {
        "id": "mdQmz5oNU1hn",
        "colab_type": "code",
        "outputId": "9a95ffce-d704-4740-95ff-2993d4f668fe",
        "colab": {
          "base_uri": "https://localhost:8080/",
          "height": 616
        }
      },
      "source": [
        "trainer_names = pd.Series(['Malva', 'Malva','Malva','Malva','Siebold','Siebold','Siebold','Siebold','Wikstrom','Wikstrom','Wikstrom','Wikstrom','Drasna','Drasna','Drasna','Drasna'])\n",
        "elitefour = bosses.iloc[1:16,:]\n",
        "elitefour['trainer_names'] = trainer_names\n",
        "elitefour"
      ],
      "execution_count": 71,
      "outputs": [
        {
          "output_type": "stream",
          "text": [
            "/usr/local/lib/python3.6/dist-packages/ipykernel_launcher.py:3: SettingWithCopyWarning: \n",
            "A value is trying to be set on a copy of a slice from a DataFrame.\n",
            "Try using .loc[row_indexer,col_indexer] = value instead\n",
            "\n",
            "See the caveats in the documentation: http://pandas.pydata.org/pandas-docs/stable/indexing.html#indexing-view-versus-copy\n",
            "  This is separate from the ipykernel package so we can avoid doing imports until\n"
          ],
          "name": "stderr"
        },
        {
          "output_type": "execute_result",
          "data": {
            "text/html": [
              "<div>\n",
              "<style scoped>\n",
              "    .dataframe tbody tr th:only-of-type {\n",
              "        vertical-align: middle;\n",
              "    }\n",
              "\n",
              "    .dataframe tbody tr th {\n",
              "        vertical-align: top;\n",
              "    }\n",
              "\n",
              "    .dataframe thead th {\n",
              "        text-align: right;\n",
              "    }\n",
              "</style>\n",
              "<table border=\"1\" class=\"dataframe\">\n",
              "  <thead>\n",
              "    <tr style=\"text-align: right;\">\n",
              "      <th></th>\n",
              "      <th>#</th>\n",
              "      <th>Name</th>\n",
              "      <th>Type 1</th>\n",
              "      <th>Type 2</th>\n",
              "      <th>Total</th>\n",
              "      <th>HP</th>\n",
              "      <th>Attack</th>\n",
              "      <th>Defense</th>\n",
              "      <th>Sp. Atk</th>\n",
              "      <th>Sp. Def</th>\n",
              "      <th>Speed</th>\n",
              "      <th>Generation</th>\n",
              "      <th>Legendary</th>\n",
              "      <th>strength</th>\n",
              "      <th>trainer_names</th>\n",
              "    </tr>\n",
              "  </thead>\n",
              "  <tbody>\n",
              "    <tr>\n",
              "      <th>1</th>\n",
              "      <td>609</td>\n",
              "      <td>Chandelure</td>\n",
              "      <td>Ghost</td>\n",
              "      <td>Fire</td>\n",
              "      <td>520</td>\n",
              "      <td>60</td>\n",
              "      <td>55</td>\n",
              "      <td>90</td>\n",
              "      <td>145</td>\n",
              "      <td>90</td>\n",
              "      <td>80</td>\n",
              "      <td>5</td>\n",
              "      <td>False</td>\n",
              "      <td>2.675609</td>\n",
              "      <td>Malva</td>\n",
              "    </tr>\n",
              "    <tr>\n",
              "      <th>2</th>\n",
              "      <td>663</td>\n",
              "      <td>Talonflame</td>\n",
              "      <td>Fire</td>\n",
              "      <td>Flying</td>\n",
              "      <td>499</td>\n",
              "      <td>78</td>\n",
              "      <td>81</td>\n",
              "      <td>71</td>\n",
              "      <td>74</td>\n",
              "      <td>69</td>\n",
              "      <td>126</td>\n",
              "      <td>6</td>\n",
              "      <td>False</td>\n",
              "      <td>2.230808</td>\n",
              "      <td>Malva</td>\n",
              "    </tr>\n",
              "    <tr>\n",
              "      <th>3</th>\n",
              "      <td>668</td>\n",
              "      <td>Pyroar</td>\n",
              "      <td>Fire</td>\n",
              "      <td>Normal</td>\n",
              "      <td>507</td>\n",
              "      <td>86</td>\n",
              "      <td>68</td>\n",
              "      <td>72</td>\n",
              "      <td>109</td>\n",
              "      <td>66</td>\n",
              "      <td>106</td>\n",
              "      <td>6</td>\n",
              "      <td>False</td>\n",
              "      <td>2.449236</td>\n",
              "      <td>Malva</td>\n",
              "    </tr>\n",
              "    <tr>\n",
              "      <th>4</th>\n",
              "      <td>121</td>\n",
              "      <td>Starmie</td>\n",
              "      <td>Water</td>\n",
              "      <td>Psychic</td>\n",
              "      <td>520</td>\n",
              "      <td>60</td>\n",
              "      <td>75</td>\n",
              "      <td>85</td>\n",
              "      <td>100</td>\n",
              "      <td>85</td>\n",
              "      <td>115</td>\n",
              "      <td>1</td>\n",
              "      <td>False</td>\n",
              "      <td>2.780967</td>\n",
              "      <td>Siebold</td>\n",
              "    </tr>\n",
              "    <tr>\n",
              "      <th>5</th>\n",
              "      <td>130</td>\n",
              "      <td>Gyarados</td>\n",
              "      <td>Water</td>\n",
              "      <td>Flying</td>\n",
              "      <td>540</td>\n",
              "      <td>95</td>\n",
              "      <td>125</td>\n",
              "      <td>79</td>\n",
              "      <td>60</td>\n",
              "      <td>100</td>\n",
              "      <td>81</td>\n",
              "      <td>1</td>\n",
              "      <td>False</td>\n",
              "      <td>3.646351</td>\n",
              "      <td>Siebold</td>\n",
              "    </tr>\n",
              "    <tr>\n",
              "      <th>6</th>\n",
              "      <td>689</td>\n",
              "      <td>Barbaracle</td>\n",
              "      <td>Rock</td>\n",
              "      <td>Water</td>\n",
              "      <td>500</td>\n",
              "      <td>72</td>\n",
              "      <td>105</td>\n",
              "      <td>115</td>\n",
              "      <td>54</td>\n",
              "      <td>86</td>\n",
              "      <td>68</td>\n",
              "      <td>6</td>\n",
              "      <td>False</td>\n",
              "      <td>2.150100</td>\n",
              "      <td>Siebold</td>\n",
              "    </tr>\n",
              "    <tr>\n",
              "      <th>7</th>\n",
              "      <td>693</td>\n",
              "      <td>Clawitzer</td>\n",
              "      <td>Water</td>\n",
              "      <td>None</td>\n",
              "      <td>500</td>\n",
              "      <td>71</td>\n",
              "      <td>73</td>\n",
              "      <td>88</td>\n",
              "      <td>120</td>\n",
              "      <td>89</td>\n",
              "      <td>59</td>\n",
              "      <td>6</td>\n",
              "      <td>False</td>\n",
              "      <td>2.074263</td>\n",
              "      <td>Siebold</td>\n",
              "    </tr>\n",
              "    <tr>\n",
              "      <th>8</th>\n",
              "      <td>212</td>\n",
              "      <td>Scizor</td>\n",
              "      <td>Bug</td>\n",
              "      <td>Steel</td>\n",
              "      <td>500</td>\n",
              "      <td>70</td>\n",
              "      <td>130</td>\n",
              "      <td>100</td>\n",
              "      <td>55</td>\n",
              "      <td>80</td>\n",
              "      <td>65</td>\n",
              "      <td>2</td>\n",
              "      <td>False</td>\n",
              "      <td>2.072717</td>\n",
              "      <td>Wikstrom</td>\n",
              "    </tr>\n",
              "    <tr>\n",
              "      <th>9</th>\n",
              "      <td>476</td>\n",
              "      <td>Probopass</td>\n",
              "      <td>Rock</td>\n",
              "      <td>Steel</td>\n",
              "      <td>525</td>\n",
              "      <td>60</td>\n",
              "      <td>55</td>\n",
              "      <td>145</td>\n",
              "      <td>75</td>\n",
              "      <td>150</td>\n",
              "      <td>40</td>\n",
              "      <td>4</td>\n",
              "      <td>False</td>\n",
              "      <td>3.079738</td>\n",
              "      <td>Wikstrom</td>\n",
              "    </tr>\n",
              "    <tr>\n",
              "      <th>10</th>\n",
              "      <td>681</td>\n",
              "      <td>AegislashBlade Forme</td>\n",
              "      <td>Steel</td>\n",
              "      <td>Ghost</td>\n",
              "      <td>520</td>\n",
              "      <td>60</td>\n",
              "      <td>150</td>\n",
              "      <td>50</td>\n",
              "      <td>150</td>\n",
              "      <td>50</td>\n",
              "      <td>60</td>\n",
              "      <td>6</td>\n",
              "      <td>False</td>\n",
              "      <td>2.347023</td>\n",
              "      <td>Wikstrom</td>\n",
              "    </tr>\n",
              "    <tr>\n",
              "      <th>11</th>\n",
              "      <td>707</td>\n",
              "      <td>Klefki</td>\n",
              "      <td>Steel</td>\n",
              "      <td>Fairy</td>\n",
              "      <td>470</td>\n",
              "      <td>57</td>\n",
              "      <td>80</td>\n",
              "      <td>91</td>\n",
              "      <td>80</td>\n",
              "      <td>87</td>\n",
              "      <td>75</td>\n",
              "      <td>6</td>\n",
              "      <td>False</td>\n",
              "      <td>1.094161</td>\n",
              "      <td>Wikstrom</td>\n",
              "    </tr>\n",
              "    <tr>\n",
              "      <th>12</th>\n",
              "      <td>334</td>\n",
              "      <td>Altaria</td>\n",
              "      <td>Dragon</td>\n",
              "      <td>Flying</td>\n",
              "      <td>490</td>\n",
              "      <td>75</td>\n",
              "      <td>70</td>\n",
              "      <td>90</td>\n",
              "      <td>70</td>\n",
              "      <td>105</td>\n",
              "      <td>80</td>\n",
              "      <td>3</td>\n",
              "      <td>False</td>\n",
              "      <td>1.972182</td>\n",
              "      <td>Drasna</td>\n",
              "    </tr>\n",
              "    <tr>\n",
              "      <th>13</th>\n",
              "      <td>621</td>\n",
              "      <td>Druddigon</td>\n",
              "      <td>Dragon</td>\n",
              "      <td>None</td>\n",
              "      <td>485</td>\n",
              "      <td>77</td>\n",
              "      <td>120</td>\n",
              "      <td>90</td>\n",
              "      <td>60</td>\n",
              "      <td>90</td>\n",
              "      <td>48</td>\n",
              "      <td>5</td>\n",
              "      <td>False</td>\n",
              "      <td>1.645228</td>\n",
              "      <td>Drasna</td>\n",
              "    </tr>\n",
              "    <tr>\n",
              "      <th>14</th>\n",
              "      <td>691</td>\n",
              "      <td>Dragalge</td>\n",
              "      <td>Poison</td>\n",
              "      <td>Dragon</td>\n",
              "      <td>494</td>\n",
              "      <td>65</td>\n",
              "      <td>75</td>\n",
              "      <td>90</td>\n",
              "      <td>97</td>\n",
              "      <td>123</td>\n",
              "      <td>44</td>\n",
              "      <td>6</td>\n",
              "      <td>False</td>\n",
              "      <td>1.967745</td>\n",
              "      <td>Drasna</td>\n",
              "    </tr>\n",
              "    <tr>\n",
              "      <th>15</th>\n",
              "      <td>715</td>\n",
              "      <td>Noivern</td>\n",
              "      <td>Flying</td>\n",
              "      <td>Dragon</td>\n",
              "      <td>535</td>\n",
              "      <td>85</td>\n",
              "      <td>70</td>\n",
              "      <td>80</td>\n",
              "      <td>97</td>\n",
              "      <td>80</td>\n",
              "      <td>123</td>\n",
              "      <td>6</td>\n",
              "      <td>False</td>\n",
              "      <td>3.449577</td>\n",
              "      <td>Drasna</td>\n",
              "    </tr>\n",
              "  </tbody>\n",
              "</table>\n",
              "</div>"
            ],
            "text/plain": [
              "      #                  Name  Type 1  ... Legendary  strength  trainer_names\n",
              "1   609            Chandelure   Ghost  ...     False  2.675609          Malva\n",
              "2   663            Talonflame    Fire  ...     False  2.230808          Malva\n",
              "3   668                Pyroar    Fire  ...     False  2.449236          Malva\n",
              "4   121               Starmie   Water  ...     False  2.780967        Siebold\n",
              "5   130              Gyarados   Water  ...     False  3.646351        Siebold\n",
              "6   689            Barbaracle    Rock  ...     False  2.150100        Siebold\n",
              "7   693             Clawitzer   Water  ...     False  2.074263        Siebold\n",
              "8   212                Scizor     Bug  ...     False  2.072717       Wikstrom\n",
              "9   476             Probopass    Rock  ...     False  3.079738       Wikstrom\n",
              "10  681  AegislashBlade Forme   Steel  ...     False  2.347023       Wikstrom\n",
              "11  707                Klefki   Steel  ...     False  1.094161       Wikstrom\n",
              "12  334               Altaria  Dragon  ...     False  1.972182         Drasna\n",
              "13  621             Druddigon  Dragon  ...     False  1.645228         Drasna\n",
              "14  691              Dragalge  Poison  ...     False  1.967745         Drasna\n",
              "15  715               Noivern  Flying  ...     False  3.449577         Drasna\n",
              "\n",
              "[15 rows x 15 columns]"
            ]
          },
          "metadata": {
            "tags": []
          },
          "execution_count": 71
        }
      ]
    },
    {
      "cell_type": "code",
      "metadata": {
        "id": "f6X2qb5LTfUQ",
        "colab_type": "code",
        "outputId": "31364cbe-f578-4a98-e687-208e0117f640",
        "colab": {
          "base_uri": "https://localhost:8080/",
          "height": 313
        }
      },
      "source": [
        "elitefour.groupby(['trainer_names'])[['HP','Attack', 'Defense', 'Sp. Atk', 'Sp. Def', 'Speed']].mean().plot()\n",
        "plt.legend( bbox_to_anchor = (1,1))\n",
        "plt.ylabel('Average')\n",
        "plt.title('Elite Four with Team Averages')"
      ],
      "execution_count": 72,
      "outputs": [
        {
          "output_type": "execute_result",
          "data": {
            "text/plain": [
              "Text(0.5, 1.0, 'Elite Four with Team Averages')"
            ]
          },
          "metadata": {
            "tags": []
          },
          "execution_count": 72
        },
        {
          "output_type": "display_data",
          "data": {
            "image/png": "[encoded data removed]",
            "text/plain": [
              "<Figure size 432x288 with 1 Axes>"
            ]
          },
          "metadata": {
            "tags": []
          }
        }
      ]
    },
    {
      "cell_type": "code",
      "metadata": {
        "id": "Hb2ZDx8DS1Vr",
        "colab_type": "code",
        "outputId": "4cebbfbb-a7d2-4c8c-ccca-a6151f033224",
        "colab": {
          "base_uri": "https://localhost:8080/",
          "height": 344
        }
      },
      "source": [
        "bosses.iloc[17:,:][['HP','Attack', 'Defense', 'Sp. Atk', 'Sp. Def', 'Speed']].mean().plot(kind=\"bar\")\n",
        "plt.ylabel('Average')\n",
        "plt.xlabel('Numeric Metrics')\n",
        "plt.title('Champion and her Pokemon strength')"
      ],
      "execution_count": 73,
      "outputs": [
        {
          "output_type": "execute_result",
          "data": {
            "text/plain": [
              "Text(0.5, 1.0, 'Champion and her Pokemon strength')"
            ]
          },
          "metadata": {
            "tags": []
          },
          "execution_count": 73
        },
        {
          "output_type": "display_data",
          "data": {
            "image/png": "[encoded data removed]",
            "text/plain": [
              "<Figure size 432x288 with 1 Axes>"
            ]
          },
          "metadata": {
            "tags": []
          }
        }
      ]
    },
    {
      "cell_type": "markdown",
      "metadata": {
        "id": "yXCzPgHcYVRC",
        "colab_type": "text"
      },
      "source": [
        "# (4) Functions to find the best 6-Pokemon team:\n",
        "\n",
        "###   The Elite Four consists of four elite trainers who each specialize in a certain type of Pokémon, as well as a Champion, who commands a diverse team of powerful Pokémon. When challenging the Elite Four, we must battle each Elite Four trainer sequentially, before finally battling the Champion, and once we begin battling the Elite Four, we are unable to substitute any Pokémon on our team. For this reason, our team of six Pokémon must contain diverse types, so that we will always have at least one Pokémon that will be strong against any Pokémon the Elite Four sends out.\n",
        "\n",
        "###   In selecting the best six Pokémon, we first find the four best Pokémon that counter the type specialization of each Elite Four trainer. For example, if one trainer specializes in fire, then we find which types are super effective against fire, and then we find the strongest Pokémon amongst these types that has the highest strength. Then we find the strongest two Pokémon that counters the Champion’s Pokémon. For each Pokémon the Champion has, we find what type counters that Pokémon, and find which Pokémon contain the highest strength within each type. We end up with a DataFrame containing all the top counters to the Champion’s Pokémon, and within this DataFrame, we select the Top 2 Pokémon with diverse types to round out our team of six. \n"
      ]
    },
    {
      "cell_type": "code",
      "metadata": {
        "id": "OKn76oqLxGZK",
        "colab_type": "code",
        "colab": {}
      },
      "source": [
        "def counters(pokemonname):\n",
        "  #Get pokemon type\n",
        "  pokemontype1 = pokemon.loc[(pokemon['Name'] == pokemonname), ['Type 1']]\n",
        "  pokemontype1 = str.lower(pokemontype1['Type 1'].values[0])\n",
        "  pokemontype2 = pokemon.loc[(pokemon['Name'] == pokemonname), ['Type 2']]\n",
        "  pokemontype2 = str.lower(pokemontype2['Type 2'].values[0])\n",
        "  \n",
        "  #Get strongest type counters for pokemon\n",
        "  twotype = types.loc[(types['defense-type1'] == pokemontype1) & (types['defense-type2'] == pokemontype2), 'normal':]\n",
        "  maxweakness = twotype.max(axis = 1)\n",
        "  typecounters = twotype[twotype >= maxweakness.values[0]].dropna(axis = 1, how = 'all')\n",
        " \n",
        "  #Get Top 3 pokemon for all type counters\n",
        "  counter = pd.DataFrame([])\n",
        "  for c in typecounters.columns:\n",
        "     counter = counter.append(pokemon[(pokemon['Type 1'] == c.capitalize()) | (pokemon['Type 2'] == c.capitalize())].sort_values(['strength'], ascending = False).head(3))\n",
        "  return(counter)"
      ],
      "execution_count": 0,
      "outputs": []
    },
    {
      "cell_type": "code",
      "metadata": {
        "id": "Ffh8kgvSVMEU",
        "colab_type": "code",
        "colab": {}
      },
      "source": [
        "def typecounter(type):\n",
        "  typeweakness = types.loc[(types['defense-type1'] == type) & (types['defense-type2'] == 'none'), 'normal':]\n",
        "  supereffective = typeweakness[typeweakness >= 2].dropna(axis = 1, how = 'all')\n",
        "  \n",
        "  #Get top pokemon for type\n",
        "  counter = pd.DataFrame([])\n",
        "  for c in supereffective.columns:\n",
        "     counter = counter.append(pokemon[(pokemon['Type 1'] == c.capitalize()) | (pokemon['Type 2'] == c.capitalize())].sort_values(['strength'], ascending = False).head(3))\n",
        "  return(counter.head(1))\n"
      ],
      "execution_count": 0,
      "outputs": []
    },
    {
      "cell_type": "code",
      "metadata": {
        "id": "xipRHkyXVSne",
        "colab_type": "code",
        "colab": {}
      },
      "source": [
        "championcounter = pd.DataFrame([])\n",
        "championcounter = championcounter.append(counters(\"Tyrantrum\")).append(counters(\"Aurorus\")).append(counters(\"Hawlucha\")).append(counters(\"Goodra\")).append(counters(\"GourgeistAverage Size\"))"
      ],
      "execution_count": 0,
      "outputs": []
    },
    {
      "cell_type": "code",
      "metadata": {
        "id": "55Q8SlYXQ4Wb",
        "colab_type": "code",
        "outputId": "a88ee34d-a166-4e06-fb85-bdd00840a0df",
        "colab": {
          "base_uri": "https://localhost:8080/",
          "height": 359
        }
      },
      "source": [
        "champtop10 = championcounter.sort_values('strength', ascending = False).head(10)\n",
        "champtop10"
      ],
      "execution_count": 77,
      "outputs": [
        {
          "output_type": "execute_result",
          "data": {
            "text/html": [
              "<div>\n",
              "<style scoped>\n",
              "    .dataframe tbody tr th:only-of-type {\n",
              "        vertical-align: middle;\n",
              "    }\n",
              "\n",
              "    .dataframe tbody tr th {\n",
              "        vertical-align: top;\n",
              "    }\n",
              "\n",
              "    .dataframe thead th {\n",
              "        text-align: right;\n",
              "    }\n",
              "</style>\n",
              "<table border=\"1\" class=\"dataframe\">\n",
              "  <thead>\n",
              "    <tr style=\"text-align: right;\">\n",
              "      <th></th>\n",
              "      <th>#</th>\n",
              "      <th>Name</th>\n",
              "      <th>Type 1</th>\n",
              "      <th>Type 2</th>\n",
              "      <th>Total</th>\n",
              "      <th>HP</th>\n",
              "      <th>Attack</th>\n",
              "      <th>Defense</th>\n",
              "      <th>Sp. Atk</th>\n",
              "      <th>Sp. Def</th>\n",
              "      <th>Speed</th>\n",
              "      <th>Generation</th>\n",
              "      <th>Legendary</th>\n",
              "      <th>strength</th>\n",
              "    </tr>\n",
              "  </thead>\n",
              "  <tbody>\n",
              "    <tr>\n",
              "      <th>546</th>\n",
              "      <td>488</td>\n",
              "      <td>Cresselia</td>\n",
              "      <td>Psychic</td>\n",
              "      <td>None</td>\n",
              "      <td>600</td>\n",
              "      <td>120</td>\n",
              "      <td>70</td>\n",
              "      <td>120</td>\n",
              "      <td>75</td>\n",
              "      <td>130</td>\n",
              "      <td>85</td>\n",
              "      <td>4</td>\n",
              "      <td>False</td>\n",
              "      <td>5.919742</td>\n",
              "    </tr>\n",
              "    <tr>\n",
              "      <th>715</th>\n",
              "      <td>648</td>\n",
              "      <td>MeloettaAria Forme</td>\n",
              "      <td>Normal</td>\n",
              "      <td>Psychic</td>\n",
              "      <td>600</td>\n",
              "      <td>100</td>\n",
              "      <td>77</td>\n",
              "      <td>77</td>\n",
              "      <td>128</td>\n",
              "      <td>128</td>\n",
              "      <td>90</td>\n",
              "      <td>5</td>\n",
              "      <td>False</td>\n",
              "      <td>5.693104</td>\n",
              "    </tr>\n",
              "    <tr>\n",
              "      <th>776</th>\n",
              "      <td>706</td>\n",
              "      <td>Goodra</td>\n",
              "      <td>Dragon</td>\n",
              "      <td>None</td>\n",
              "      <td>600</td>\n",
              "      <td>90</td>\n",
              "      <td>100</td>\n",
              "      <td>70</td>\n",
              "      <td>110</td>\n",
              "      <td>150</td>\n",
              "      <td>80</td>\n",
              "      <td>6</td>\n",
              "      <td>False</td>\n",
              "      <td>5.681975</td>\n",
              "    </tr>\n",
              "    <tr>\n",
              "      <th>776</th>\n",
              "      <td>706</td>\n",
              "      <td>Goodra</td>\n",
              "      <td>Dragon</td>\n",
              "      <td>None</td>\n",
              "      <td>600</td>\n",
              "      <td>90</td>\n",
              "      <td>100</td>\n",
              "      <td>70</td>\n",
              "      <td>110</td>\n",
              "      <td>150</td>\n",
              "      <td>80</td>\n",
              "      <td>6</td>\n",
              "      <td>False</td>\n",
              "      <td>5.681975</td>\n",
              "    </tr>\n",
              "    <tr>\n",
              "      <th>271</th>\n",
              "      <td>251</td>\n",
              "      <td>Celebi</td>\n",
              "      <td>Psychic</td>\n",
              "      <td>Grass</td>\n",
              "      <td>600</td>\n",
              "      <td>100</td>\n",
              "      <td>100</td>\n",
              "      <td>100</td>\n",
              "      <td>100</td>\n",
              "      <td>100</td>\n",
              "      <td>100</td>\n",
              "      <td>2</td>\n",
              "      <td>False</td>\n",
              "      <td>5.621572</td>\n",
              "    </tr>\n",
              "    <tr>\n",
              "      <th>493</th>\n",
              "      <td>445</td>\n",
              "      <td>Garchomp</td>\n",
              "      <td>Dragon</td>\n",
              "      <td>Ground</td>\n",
              "      <td>600</td>\n",
              "      <td>108</td>\n",
              "      <td>130</td>\n",
              "      <td>95</td>\n",
              "      <td>80</td>\n",
              "      <td>85</td>\n",
              "      <td>102</td>\n",
              "      <td>4</td>\n",
              "      <td>False</td>\n",
              "      <td>5.617430</td>\n",
              "    </tr>\n",
              "    <tr>\n",
              "      <th>493</th>\n",
              "      <td>445</td>\n",
              "      <td>Garchomp</td>\n",
              "      <td>Dragon</td>\n",
              "      <td>Ground</td>\n",
              "      <td>600</td>\n",
              "      <td>108</td>\n",
              "      <td>130</td>\n",
              "      <td>95</td>\n",
              "      <td>80</td>\n",
              "      <td>85</td>\n",
              "      <td>102</td>\n",
              "      <td>4</td>\n",
              "      <td>False</td>\n",
              "      <td>5.617430</td>\n",
              "    </tr>\n",
              "    <tr>\n",
              "      <th>493</th>\n",
              "      <td>445</td>\n",
              "      <td>Garchomp</td>\n",
              "      <td>Dragon</td>\n",
              "      <td>Ground</td>\n",
              "      <td>600</td>\n",
              "      <td>108</td>\n",
              "      <td>130</td>\n",
              "      <td>95</td>\n",
              "      <td>80</td>\n",
              "      <td>85</td>\n",
              "      <td>102</td>\n",
              "      <td>4</td>\n",
              "      <td>False</td>\n",
              "      <td>5.617430</td>\n",
              "    </tr>\n",
              "    <tr>\n",
              "      <th>267</th>\n",
              "      <td>248</td>\n",
              "      <td>Tyranitar</td>\n",
              "      <td>Rock</td>\n",
              "      <td>Dark</td>\n",
              "      <td>600</td>\n",
              "      <td>100</td>\n",
              "      <td>134</td>\n",
              "      <td>110</td>\n",
              "      <td>95</td>\n",
              "      <td>100</td>\n",
              "      <td>61</td>\n",
              "      <td>2</td>\n",
              "      <td>False</td>\n",
              "      <td>5.494952</td>\n",
              "    </tr>\n",
              "    <tr>\n",
              "      <th>696</th>\n",
              "      <td>635</td>\n",
              "      <td>Hydreigon</td>\n",
              "      <td>Dark</td>\n",
              "      <td>Dragon</td>\n",
              "      <td>600</td>\n",
              "      <td>92</td>\n",
              "      <td>105</td>\n",
              "      <td>90</td>\n",
              "      <td>125</td>\n",
              "      <td>90</td>\n",
              "      <td>98</td>\n",
              "      <td>5</td>\n",
              "      <td>False</td>\n",
              "      <td>5.477483</td>\n",
              "    </tr>\n",
              "  </tbody>\n",
              "</table>\n",
              "</div>"
            ],
            "text/plain": [
              "       #                Name   Type 1  ... Generation  Legendary  strength\n",
              "546  488           Cresselia  Psychic  ...          4      False  5.919742\n",
              "715  648  MeloettaAria Forme   Normal  ...          5      False  5.693104\n",
              "776  706              Goodra   Dragon  ...          6      False  5.681975\n",
              "776  706              Goodra   Dragon  ...          6      False  5.681975\n",
              "271  251              Celebi  Psychic  ...          2      False  5.621572\n",
              "493  445            Garchomp   Dragon  ...          4      False  5.617430\n",
              "493  445            Garchomp   Dragon  ...          4      False  5.617430\n",
              "493  445            Garchomp   Dragon  ...          4      False  5.617430\n",
              "267  248           Tyranitar     Rock  ...          2      False  5.494952\n",
              "696  635           Hydreigon     Dark  ...          5      False  5.477483\n",
              "\n",
              "[10 rows x 14 columns]"
            ]
          },
          "metadata": {
            "tags": []
          },
          "execution_count": 77
        }
      ]
    },
    {
      "cell_type": "code",
      "metadata": {
        "id": "-k-cPCLcL4kR",
        "colab_type": "code",
        "outputId": "c7c5c2ac-8c53-4cb9-9f6b-fb993fb7b122",
        "colab": {
          "base_uri": "https://localhost:8080/",
          "height": 80
        }
      },
      "source": [
        "champtop1 = championcounter.sort_values('strength', ascending = False).head(1)\n",
        "champtop1"
      ],
      "execution_count": 78,
      "outputs": [
        {
          "output_type": "execute_result",
          "data": {
            "text/html": [
              "<div>\n",
              "<style scoped>\n",
              "    .dataframe tbody tr th:only-of-type {\n",
              "        vertical-align: middle;\n",
              "    }\n",
              "\n",
              "    .dataframe tbody tr th {\n",
              "        vertical-align: top;\n",
              "    }\n",
              "\n",
              "    .dataframe thead th {\n",
              "        text-align: right;\n",
              "    }\n",
              "</style>\n",
              "<table border=\"1\" class=\"dataframe\">\n",
              "  <thead>\n",
              "    <tr style=\"text-align: right;\">\n",
              "      <th></th>\n",
              "      <th>#</th>\n",
              "      <th>Name</th>\n",
              "      <th>Type 1</th>\n",
              "      <th>Type 2</th>\n",
              "      <th>Total</th>\n",
              "      <th>HP</th>\n",
              "      <th>Attack</th>\n",
              "      <th>Defense</th>\n",
              "      <th>Sp. Atk</th>\n",
              "      <th>Sp. Def</th>\n",
              "      <th>Speed</th>\n",
              "      <th>Generation</th>\n",
              "      <th>Legendary</th>\n",
              "      <th>strength</th>\n",
              "    </tr>\n",
              "  </thead>\n",
              "  <tbody>\n",
              "    <tr>\n",
              "      <th>546</th>\n",
              "      <td>488</td>\n",
              "      <td>Cresselia</td>\n",
              "      <td>Psychic</td>\n",
              "      <td>None</td>\n",
              "      <td>600</td>\n",
              "      <td>120</td>\n",
              "      <td>70</td>\n",
              "      <td>120</td>\n",
              "      <td>75</td>\n",
              "      <td>130</td>\n",
              "      <td>85</td>\n",
              "      <td>4</td>\n",
              "      <td>False</td>\n",
              "      <td>5.919742</td>\n",
              "    </tr>\n",
              "  </tbody>\n",
              "</table>\n",
              "</div>"
            ],
            "text/plain": [
              "       #       Name   Type 1 Type 2  ...  Speed  Generation  Legendary  strength\n",
              "546  488  Cresselia  Psychic   None  ...     85           4      False  5.919742\n",
              "\n",
              "[1 rows x 14 columns]"
            ]
          },
          "metadata": {
            "tags": []
          },
          "execution_count": 78
        }
      ]
    },
    {
      "cell_type": "markdown",
      "metadata": {
        "id": "e2t12uRXMdfz",
        "colab_type": "text"
      },
      "source": [
        "### First, we choose Cresselia to counter the Champion, which is the strongest Pokemon that is spit out from our function. However we notice that the next strongest Pokemon, MeloettaAria Forme, has the same Psychic Type as Cresselia. To diversify our 6-member Pokemon team, we will choose the Pokemon with the most frequently occurring duplicate Pokemon. The reason there are duplicate Pokemon among the champion top ten counters is because there were 3 counter Pokemon appended for each Pokemon in the Champion's team. By choosing the Pokemon that is most frequently occurring, we are taking advantage of how certain Pokemons are highly effective against more than one of the Champion's team members."
      ]
    },
    {
      "cell_type": "code",
      "metadata": {
        "id": "w_1W1vTJLQKp",
        "colab_type": "code",
        "outputId": "6bfb0cdd-6d62-4918-9903-e21020c082b1",
        "colab": {
          "base_uri": "https://localhost:8080/",
          "height": 170
        }
      },
      "source": [
        "champtop10.groupby(champtop10.columns.tolist(),as_index=False).size().sort_values(ascending = False)"
      ],
      "execution_count": 79,
      "outputs": [
        {
          "output_type": "execute_result",
          "data": {
            "text/plain": [
              "#    Name                Type 1   Type 2   Total  HP   Attack  Defense  Sp. Atk  Sp. Def  Speed  Generation  Legendary  strength\n",
              "445  Garchomp            Dragon   Ground   600    108  130     95       80       85       102    4           False      5.617430    3\n",
              "706  Goodra              Dragon   None     600    90   100     70       110      150      80     6           False      5.681975    2\n",
              "648  MeloettaAria Forme  Normal   Psychic  600    100  77      77       128      128      90     5           False      5.693104    1\n",
              "635  Hydreigon           Dark     Dragon   600    92   105     90       125      90       98     5           False      5.477483    1\n",
              "488  Cresselia           Psychic  None     600    120  70      120      75       130      85     4           False      5.919742    1\n",
              "251  Celebi              Psychic  Grass    600    100  100     100      100      100      100    2           False      5.621572    1\n",
              "248  Tyranitar           Rock     Dark     600    100  134     110      95       100      61     2           False      5.494952    1\n",
              "dtype: int64"
            ]
          },
          "metadata": {
            "tags": []
          },
          "execution_count": 79
        }
      ]
    },
    {
      "cell_type": "code",
      "metadata": {
        "id": "YltjcDi2PWQC",
        "colab_type": "code",
        "outputId": "0732dac6-dbfd-477e-d6c2-e2e3111ac8cd",
        "colab": {
          "base_uri": "https://localhost:8080/",
          "height": 272
        }
      },
      "source": [
        "champhighfreq = championcounter.sort_values('strength', ascending = False).iloc[6,]\n",
        "champhighfreq"
      ],
      "execution_count": 80,
      "outputs": [
        {
          "output_type": "execute_result",
          "data": {
            "text/plain": [
              "#                  445\n",
              "Name          Garchomp\n",
              "Type 1          Dragon\n",
              "Type 2          Ground\n",
              "Total              600\n",
              "HP                 108\n",
              "Attack             130\n",
              "Defense             95\n",
              "Sp. Atk             80\n",
              "Sp. Def             85\n",
              "Speed              102\n",
              "Generation           4\n",
              "Legendary        False\n",
              "strength       5.61743\n",
              "Name: 493, dtype: object"
            ]
          },
          "metadata": {
            "tags": []
          },
          "execution_count": 80
        }
      ]
    },
    {
      "cell_type": "markdown",
      "metadata": {
        "id": "5fA9D7V1MXTi",
        "colab_type": "text"
      },
      "source": [
        "### From here, we choose Garchomp to take the last open position in our 6-member team, because it not only is a different type (Dragon and Ground) from Cresselia (Psychic), but it also appears multiple times as an effective counter for the champion's team and remains high in strength. Thereby our decision to select Garchomp both diversifies the types we have, and chooses the most Pokemon that is highly effective against more than one of the Champion's team members."
      ]
    },
    {
      "cell_type": "code",
      "metadata": {
        "id": "QfIGGks5Lyxk",
        "colab_type": "code",
        "outputId": "2c71e865-6843-4deb-e594-e8d6ae92853f",
        "colab": {
          "base_uri": "https://localhost:8080/",
          "height": 235
        }
      },
      "source": [
        "#Best six pokemon to challenge the elite four \n",
        "bestsix = pd.DataFrame([])\n",
        "bestsix.append(typecounter('fire')).append(typecounter('water')).append(typecounter('steel')).append(typecounter('dragon')).append(champtop1).append(champhighfreq)"
      ],
      "execution_count": 81,
      "outputs": [
        {
          "output_type": "execute_result",
          "data": {
            "text/html": [
              "<div>\n",
              "<style scoped>\n",
              "    .dataframe tbody tr th:only-of-type {\n",
              "        vertical-align: middle;\n",
              "    }\n",
              "\n",
              "    .dataframe tbody tr th {\n",
              "        vertical-align: top;\n",
              "    }\n",
              "\n",
              "    .dataframe thead th {\n",
              "        text-align: right;\n",
              "    }\n",
              "</style>\n",
              "<table border=\"1\" class=\"dataframe\">\n",
              "  <thead>\n",
              "    <tr style=\"text-align: right;\">\n",
              "      <th></th>\n",
              "      <th>#</th>\n",
              "      <th>Name</th>\n",
              "      <th>Type 1</th>\n",
              "      <th>Type 2</th>\n",
              "      <th>Total</th>\n",
              "      <th>HP</th>\n",
              "      <th>Attack</th>\n",
              "      <th>Defense</th>\n",
              "      <th>Sp. Atk</th>\n",
              "      <th>Sp. Def</th>\n",
              "      <th>Speed</th>\n",
              "      <th>Generation</th>\n",
              "      <th>Legendary</th>\n",
              "      <th>strength</th>\n",
              "    </tr>\n",
              "  </thead>\n",
              "  <tbody>\n",
              "    <tr>\n",
              "      <th>548</th>\n",
              "      <td>490</td>\n",
              "      <td>Manaphy</td>\n",
              "      <td>Water</td>\n",
              "      <td>None</td>\n",
              "      <td>600</td>\n",
              "      <td>100</td>\n",
              "      <td>100</td>\n",
              "      <td>100</td>\n",
              "      <td>100</td>\n",
              "      <td>100</td>\n",
              "      <td>100</td>\n",
              "      <td>4</td>\n",
              "      <td>False</td>\n",
              "      <td>5.621572</td>\n",
              "    </tr>\n",
              "    <tr>\n",
              "      <th>517</th>\n",
              "      <td>466</td>\n",
              "      <td>Electivire</td>\n",
              "      <td>Electric</td>\n",
              "      <td>None</td>\n",
              "      <td>540</td>\n",
              "      <td>75</td>\n",
              "      <td>123</td>\n",
              "      <td>67</td>\n",
              "      <td>95</td>\n",
              "      <td>85</td>\n",
              "      <td>95</td>\n",
              "      <td>4</td>\n",
              "      <td>False</td>\n",
              "      <td>3.429017</td>\n",
              "    </tr>\n",
              "    <tr>\n",
              "      <th>64</th>\n",
              "      <td>59</td>\n",
              "      <td>Arcanine</td>\n",
              "      <td>Fire</td>\n",
              "      <td>None</td>\n",
              "      <td>555</td>\n",
              "      <td>90</td>\n",
              "      <td>110</td>\n",
              "      <td>80</td>\n",
              "      <td>100</td>\n",
              "      <td>80</td>\n",
              "      <td>95</td>\n",
              "      <td>1</td>\n",
              "      <td>False</td>\n",
              "      <td>4.005947</td>\n",
              "    </tr>\n",
              "    <tr>\n",
              "      <th>142</th>\n",
              "      <td>131</td>\n",
              "      <td>Lapras</td>\n",
              "      <td>Water</td>\n",
              "      <td>Ice</td>\n",
              "      <td>535</td>\n",
              "      <td>130</td>\n",
              "      <td>85</td>\n",
              "      <td>80</td>\n",
              "      <td>85</td>\n",
              "      <td>95</td>\n",
              "      <td>60</td>\n",
              "      <td>1</td>\n",
              "      <td>False</td>\n",
              "      <td>3.678424</td>\n",
              "    </tr>\n",
              "    <tr>\n",
              "      <th>546</th>\n",
              "      <td>488</td>\n",
              "      <td>Cresselia</td>\n",
              "      <td>Psychic</td>\n",
              "      <td>None</td>\n",
              "      <td>600</td>\n",
              "      <td>120</td>\n",
              "      <td>70</td>\n",
              "      <td>120</td>\n",
              "      <td>75</td>\n",
              "      <td>130</td>\n",
              "      <td>85</td>\n",
              "      <td>4</td>\n",
              "      <td>False</td>\n",
              "      <td>5.919742</td>\n",
              "    </tr>\n",
              "    <tr>\n",
              "      <th>493</th>\n",
              "      <td>445</td>\n",
              "      <td>Garchomp</td>\n",
              "      <td>Dragon</td>\n",
              "      <td>Ground</td>\n",
              "      <td>600</td>\n",
              "      <td>108</td>\n",
              "      <td>130</td>\n",
              "      <td>95</td>\n",
              "      <td>80</td>\n",
              "      <td>85</td>\n",
              "      <td>102</td>\n",
              "      <td>4</td>\n",
              "      <td>False</td>\n",
              "      <td>5.617430</td>\n",
              "    </tr>\n",
              "  </tbody>\n",
              "</table>\n",
              "</div>"
            ],
            "text/plain": [
              "       #        Name    Type 1  Type 2  ...  Speed  Generation  Legendary  strength\n",
              "548  490     Manaphy     Water    None  ...    100           4      False  5.621572\n",
              "517  466  Electivire  Electric    None  ...     95           4      False  3.429017\n",
              "64    59    Arcanine      Fire    None  ...     95           1      False  4.005947\n",
              "142  131      Lapras     Water     Ice  ...     60           1      False  3.678424\n",
              "546  488   Cresselia   Psychic    None  ...     85           4      False  5.919742\n",
              "493  445    Garchomp    Dragon  Ground  ...    102           4      False  5.617430\n",
              "\n",
              "[6 rows x 14 columns]"
            ]
          },
          "metadata": {
            "tags": []
          },
          "execution_count": 81
        }
      ]
    }
  ]
}